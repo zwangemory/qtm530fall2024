{
 "cells": [
  {
   "attachments": {},
   "cell_type": "markdown",
   "metadata": {},
   "source": [
    "# <span style=\"color:darkblue\"> Lecture 12a: Analyzing Experiments </span>\n",
    "\n",
    "<font size = \"5\">\n",
    "\n"
   ]
  },
  {
   "attachments": {},
   "cell_type": "markdown",
   "metadata": {},
   "source": [
    "# <span style=\"color:darkblue\"> I. Import Libraries </span>\n"
   ]
  },
  {
   "cell_type": "code",
   "execution_count": 21,
   "metadata": {},
   "outputs": [],
   "source": [
    "# The \"pandas\" library is used for processing datasets\n",
    "# The \"numpy\" is for numeric observations and random numbers\n",
    "# The \"matplotlib.pyplot\" library is for creating graphs\n",
    "\n",
    "import pandas as pd\n",
    "import numpy as np\n",
    "import matplotlib.pyplot as plt\n",
    "\n",
    "# We will \"alias\" two sublibraries in \"statsmodels\"\n",
    "# \"statsmodels.formula.api\" contains functions to estimate models\n",
    "# \"statsmodels.api\" contains general-use statistical options\n",
    "\n",
    "import statsmodels.api as sm\n",
    "import statsmodels.formula.api as smf\n",
    "from statsmodels.iolib.summary2 import summary_col"
   ]
  },
  {
   "cell_type": "markdown",
   "metadata": {},
   "source": [
    "<font size = \"5\">\n",
    "\n",
    "Import data"
   ]
  },
  {
   "cell_type": "code",
   "execution_count": 3,
   "metadata": {},
   "outputs": [],
   "source": [
    "dataset = pd.read_stata(\"data_raw/malawiexperiment.dta\")"
   ]
  },
  {
   "cell_type": "markdown",
   "metadata": {},
   "source": [
    "# <span style=\"color:darkblue\"> II. Context </span>\n"
   ]
  },
  {
   "cell_type": "markdown",
   "metadata": {},
   "source": [
    "<font size = \"5\">\n",
    "\n",
    "Today we will review a paper by Rebecca Dizon-Ross published <br>\n",
    "in the American Economic Review (2019).\n",
    "\n",
    "- In this study, researchers partnered with local schools in Malawi <br>\n",
    "- This study evaluated the impacts of information about children’s <br>\n",
    " academic performance on parents’ subsequent investments in their <br>\n",
    "  children’s education.\n",
    "\n",
    "\n",
    "https://www.povertyactionlab.org/evaluation/effects-student-performance-information-parental-decision-making-malawi?lang=fr\n",
    "\n",
    "https://www.nber.org/papers/w24610"
   ]
  },
  {
   "cell_type": "markdown",
   "metadata": {},
   "source": [
    "<font size = \"5\">\n",
    "\n",
    "Intervention\n",
    "\n",
    "- Parents in Malawi with low literacy levels had trouble interpreting <br>\n",
    "school report cards.Many parents were unaware that their children were <br>\n",
    "struggling with school.\n",
    "- The intervention altered the way that the schools engaged with <br>\n",
    " parents. It had an impact on reducing the information gaps.\n"
   ]
  },
  {
   "cell_type": "markdown",
   "metadata": {},
   "source": [
    "<font size = \"5\">\n",
    "\n",
    "Experimental Design\n",
    "\n",
    "- Students were assigned to randomly to treatment and control <br>\n",
    "with 50% probability\n",
    "- The random assignment was done at the household level"
   ]
  },
  {
   "cell_type": "markdown",
   "metadata": {},
   "source": [
    "<font size = \"5\">\n",
    "\n",
    "Findings"
   ]
  },
  {
   "cell_type": "markdown",
   "metadata": {},
   "source": [
    "\n",
    "<img src=\"figures/treatmenteffects_dizonross.png\" alt=\"drawing\" width=\"650\"/>\n",
    "\n"
   ]
  },
  {
   "cell_type": "markdown",
   "metadata": {},
   "source": [
    "<font size = \"5\">\n",
    "\n",
    "At baseline (before the intervention)\n",
    "\n",
    "- The graph on the left shows parental beliefs at baseline\n",
    "- Parents of low performing students thought that they were doing <br>\n",
    "better than they were. Ideally it should  be along the 45-degree line\n",
    "- Similar results for treated and control groups at baseline because <br>\n",
    "of randomization\n",
    "\n",
    "At endline (after the intervention)\n",
    "\n",
    "- Treated parents had more accurate perceptions of their children's <br>\n",
    "performance\n",
    "- The treatment effects varied depending on the baseline test scores\n"
   ]
  },
  {
   "cell_type": "markdown",
   "metadata": {},
   "source": [
    "# <span style=\"color:darkblue\"> II. Basic Descriptive Analysis </span>\n"
   ]
  },
  {
   "cell_type": "markdown",
   "metadata": {},
   "source": [
    "<font size = \"5\">\n",
    "\n",
    "Total number of children"
   ]
  },
  {
   "cell_type": "code",
   "execution_count": 4,
   "metadata": {},
   "outputs": [
    {
     "data": {
      "text/plain": [
       "5268"
      ]
     },
     "execution_count": 4,
     "metadata": {},
     "output_type": "execute_result"
    }
   ],
   "source": [
    "len(dataset)"
   ]
  },
  {
   "cell_type": "markdown",
   "metadata": {},
   "source": [
    "<font size = \"5\">\n",
    "\n",
    "Total number of households\n",
    "\n",
    "- 2 children per households"
   ]
  },
  {
   "cell_type": "code",
   "execution_count": 5,
   "metadata": {},
   "outputs": [
    {
     "data": {
      "text/plain": [
       "2634"
      ]
     },
     "execution_count": 5,
     "metadata": {},
     "output_type": "execute_result"
    }
   ],
   "source": [
    "unique_ids = pd.unique(dataset[\"hhid\"])\n",
    "len(unique_ids)"
   ]
  },
  {
   "cell_type": "markdown",
   "metadata": {},
   "source": [
    "<font size = \"5\">\n",
    "\n",
    "Calculate number of treated and control"
   ]
  },
  {
   "cell_type": "code",
   "execution_count": 6,
   "metadata": {},
   "outputs": [
    {
     "data": {
      "text/html": [
       "<div>\n",
       "<style scoped>\n",
       "    .dataframe tbody tr th:only-of-type {\n",
       "        vertical-align: middle;\n",
       "    }\n",
       "\n",
       "    .dataframe tbody tr th {\n",
       "        vertical-align: top;\n",
       "    }\n",
       "\n",
       "    .dataframe thead th {\n",
       "        text-align: right;\n",
       "    }\n",
       "</style>\n",
       "<table border=\"1\" class=\"dataframe\">\n",
       "  <thead>\n",
       "    <tr style=\"text-align: right;\">\n",
       "      <th>col_0</th>\n",
       "      <th>count</th>\n",
       "    </tr>\n",
       "    <tr>\n",
       "      <th>treat</th>\n",
       "      <th></th>\n",
       "    </tr>\n",
       "  </thead>\n",
       "  <tbody>\n",
       "    <tr>\n",
       "      <th>Control</th>\n",
       "      <td>2654</td>\n",
       "    </tr>\n",
       "    <tr>\n",
       "      <th>Treatment</th>\n",
       "      <td>2614</td>\n",
       "    </tr>\n",
       "  </tbody>\n",
       "</table>\n",
       "</div>"
      ],
      "text/plain": [
       "col_0      count\n",
       "treat           \n",
       "Control     2654\n",
       "Treatment   2614"
      ]
     },
     "execution_count": 6,
     "metadata": {},
     "output_type": "execute_result"
    }
   ],
   "source": [
    "table = pd.crosstab(index = dataset['treat'],columns = \"count\")\n",
    "table"
   ]
  },
  {
   "cell_type": "markdown",
   "metadata": {},
   "source": [
    "# <span style=\"color:darkblue\"> III. Testing Covariate Balance </span>\n"
   ]
  },
  {
   "cell_type": "markdown",
   "metadata": {},
   "source": [
    "<font size = \"5\">\n",
    "\n",
    "Subset treated and control observations"
   ]
  },
  {
   "cell_type": "code",
   "execution_count": 7,
   "metadata": {},
   "outputs": [],
   "source": [
    "dataset_treated = dataset.query('treat == \"Treatment\"')\n",
    "dataset_control = dataset.query('treat == \"Control\"')"
   ]
  },
  {
   "cell_type": "markdown",
   "metadata": {},
   "source": [
    "<font size = \"5\">\n",
    "\n",
    "Socio-economic information can be collected at baseline <br>\n",
    "(before the experiment) "
   ]
  },
  {
   "cell_type": "code",
   "execution_count": 8,
   "metadata": {},
   "outputs": [],
   "source": [
    "variables_scores      = [\"ave\"]\n",
    "variables_respondent  = [\"lit\",\"primary_resp_fem\",\"age_par1\",\"farmer\"]\n",
    "variables_household   = [\"tot_kids\",\"one_par\"]\n",
    "variables_student     = [\"std\",\"age\",\"female\",\"attendance_sv\"]"
   ]
  },
  {
   "cell_type": "markdown",
   "metadata": {},
   "source": [
    "<font size = \"5\" >\n",
    "\n",
    "Check that characteristics are similar between treated and control <br>\n",
    "at baseline"
   ]
  },
  {
   "cell_type": "code",
   "execution_count": 9,
   "metadata": {},
   "outputs": [
    {
     "data": {
      "text/html": [
       "<div>\n",
       "<style scoped>\n",
       "    .dataframe tbody tr th:only-of-type {\n",
       "        vertical-align: middle;\n",
       "    }\n",
       "\n",
       "    .dataframe tbody tr th {\n",
       "        vertical-align: top;\n",
       "    }\n",
       "\n",
       "    .dataframe thead th {\n",
       "        text-align: right;\n",
       "    }\n",
       "</style>\n",
       "<table border=\"1\" class=\"dataframe\">\n",
       "  <thead>\n",
       "    <tr style=\"text-align: right;\">\n",
       "      <th></th>\n",
       "      <th>lit</th>\n",
       "      <th>primary_resp_fem</th>\n",
       "      <th>age_par1</th>\n",
       "      <th>farmer</th>\n",
       "    </tr>\n",
       "  </thead>\n",
       "  <tbody>\n",
       "    <tr>\n",
       "      <th>mean</th>\n",
       "      <td>0.675613</td>\n",
       "      <td>0.758990</td>\n",
       "      <td>40.974080</td>\n",
       "      <td>0.460587</td>\n",
       "    </tr>\n",
       "    <tr>\n",
       "      <th>std</th>\n",
       "      <td>0.468235</td>\n",
       "      <td>0.427778</td>\n",
       "      <td>11.290328</td>\n",
       "      <td>0.498541</td>\n",
       "    </tr>\n",
       "  </tbody>\n",
       "</table>\n",
       "</div>"
      ],
      "text/plain": [
       "           lit  primary_resp_fem   age_par1    farmer\n",
       "mean  0.675613          0.758990  40.974080  0.460587\n",
       "std   0.468235          0.427778  11.290328  0.498541"
      ]
     },
     "metadata": {},
     "output_type": "display_data"
    },
    {
     "data": {
      "text/html": [
       "<div>\n",
       "<style scoped>\n",
       "    .dataframe tbody tr th:only-of-type {\n",
       "        vertical-align: middle;\n",
       "    }\n",
       "\n",
       "    .dataframe tbody tr th {\n",
       "        vertical-align: top;\n",
       "    }\n",
       "\n",
       "    .dataframe thead th {\n",
       "        text-align: right;\n",
       "    }\n",
       "</style>\n",
       "<table border=\"1\" class=\"dataframe\">\n",
       "  <thead>\n",
       "    <tr style=\"text-align: right;\">\n",
       "      <th></th>\n",
       "      <th>lit</th>\n",
       "      <th>primary_resp_fem</th>\n",
       "      <th>age_par1</th>\n",
       "      <th>farmer</th>\n",
       "    </tr>\n",
       "  </thead>\n",
       "  <tbody>\n",
       "    <tr>\n",
       "      <th>mean</th>\n",
       "      <td>0.667426</td>\n",
       "      <td>0.773926</td>\n",
       "      <td>40.645455</td>\n",
       "      <td>0.465544</td>\n",
       "    </tr>\n",
       "    <tr>\n",
       "      <th>std</th>\n",
       "      <td>0.471225</td>\n",
       "      <td>0.418366</td>\n",
       "      <td>10.638597</td>\n",
       "      <td>0.498907</td>\n",
       "    </tr>\n",
       "  </tbody>\n",
       "</table>\n",
       "</div>"
      ],
      "text/plain": [
       "           lit  primary_resp_fem   age_par1    farmer\n",
       "mean  0.667426          0.773926  40.645455  0.465544\n",
       "std   0.471225          0.418366  10.638597  0.498907"
      ]
     },
     "metadata": {},
     "output_type": "display_data"
    }
   ],
   "source": [
    "# Compute mean and standard deviation for the treated group\n",
    "display(dataset_treated[variables_respondent].describe().loc[['mean', 'std']])\n",
    "\n",
    "# Compute mean and standard deviation for the control group\n",
    "display(dataset_control[variables_respondent].describe().loc[['mean', 'std']])"
   ]
  },
  {
   "cell_type": "markdown",
   "metadata": {},
   "source": [
    "<font size = \"5\">\n",
    "\n"
   ]
  },
  {
   "cell_type": "markdown",
   "metadata": {},
   "source": [
    "<font size = \"5\" >\n",
    "\n",
    "Conduct a formal test of whether the coefficients are similar\n",
    "\n",
    "- We should expect the coefficient on the treatment variable <br>\n",
    "to be non-significant"
   ]
  },
  {
   "cell_type": "code",
   "execution_count": 22,
   "metadata": {},
   "outputs": [
    {
     "name": "stdout",
     "output_type": "stream",
     "text": [
      "\n",
      "============================\n",
      "                      lit   \n",
      "----------------------------\n",
      "Intercept          0.6674***\n",
      "                   (0.0092) \n",
      "treat[T.Treatment] 0.0082   \n",
      "                   (0.0130) \n",
      "R-squared          0.0001   \n",
      "R-squared Adj.     -0.0001  \n",
      "============================\n",
      "Standard errors in\n",
      "parentheses.\n",
      "* p<.1, ** p<.05, ***p<.01\n"
     ]
    }
   ],
   "source": [
    "reg_model = smf.ols(\"lit ~ treat \", dataset)\n",
    "results = reg_model.fit(cov_type= \"HC1\")\n",
    "\n",
    "print(summary_col(results,\n",
    "                  stars = True))"
   ]
  },
  {
   "cell_type": "markdown",
   "metadata": {},
   "source": [
    "<font size = \"5\">\n",
    "\n",
    "Try it yourself!\n",
    "\n",
    "<font size = \"3\">\n",
    "\n",
    "- Obtain summary statistics for the mean and standard deviation for <br>\n",
    "the other sets of baseline variables\n"
   ]
  },
  {
   "cell_type": "code",
   "execution_count": null,
   "metadata": {},
   "outputs": [],
   "source": [
    "# Write your own code\n",
    "\n",
    "\n"
   ]
  },
  {
   "cell_type": "markdown",
   "metadata": {},
   "source": [
    "<font size = \"5\">\n",
    "\n",
    "Try it yourself!\n",
    "\n",
    "<font size = \"3\">\n",
    "\n",
    "- Write a loop that runs different regressions of baseline covariates <br>\n",
    "on the treatment variable. This can help you automate the process of <br>\n",
    "testing for covariate balance"
   ]
  },
  {
   "cell_type": "code",
   "execution_count": null,
   "metadata": {},
   "outputs": [],
   "source": [
    "# Write your own code\n",
    "\n",
    "\n"
   ]
  },
  {
   "cell_type": "markdown",
   "metadata": {},
   "source": [
    "# <span style=\"color:darkblue\"> IV. Calculating Average Treatment Effect </span>\n",
    "\n",
    "\n",
    "- Make sure to use robust standard errors"
   ]
  },
  {
   "cell_type": "markdown",
   "metadata": {},
   "source": [
    "<font size = \"5\">\n",
    "\n",
    "Effect of treatment on endline beliefs"
   ]
  },
  {
   "cell_type": "code",
   "execution_count": 23,
   "metadata": {},
   "outputs": [
    {
     "name": "stdout",
     "output_type": "stream",
     "text": [
      "\n",
      "=============================\n",
      "                     u_ave   \n",
      "-----------------------------\n",
      "Intercept          63.5628***\n",
      "                   (0.3435)  \n",
      "treat[T.Treatment] -7.4218***\n",
      "                   (0.4988)  \n",
      "R-squared          0.0406    \n",
      "R-squared Adj.     0.0404    \n",
      "=============================\n",
      "Standard errors in\n",
      "parentheses.\n",
      "* p<.1, ** p<.05, ***p<.01\n"
     ]
    }
   ],
   "source": [
    "reg_model = smf.ols(\"u_ave ~ treat \", dataset)\n",
    "results = reg_model.fit(cov_type= \"HC1\")\n",
    "\n",
    "print(summary_col(results,\n",
    "                  stars = True))"
   ]
  },
  {
   "cell_type": "markdown",
   "metadata": {},
   "source": [
    "<font size = \"5\">\n",
    "\n",
    "Add baseline covariates"
   ]
  },
  {
   "cell_type": "code",
   "execution_count": 24,
   "metadata": {},
   "outputs": [
    {
     "name": "stdout",
     "output_type": "stream",
     "text": [
      "\n",
      "=============================\n",
      "                     u_ave   \n",
      "-----------------------------\n",
      "Intercept          39.6549***\n",
      "                   (0.6801)  \n",
      "treat[T.Treatment] -7.0564***\n",
      "                   (0.4325)  \n",
      "ave                0.5079*** \n",
      "                   (0.0129)  \n",
      "R-squared          0.2725    \n",
      "R-squared Adj.     0.2722    \n",
      "=============================\n",
      "Standard errors in\n",
      "parentheses.\n",
      "* p<.1, ** p<.05, ***p<.01\n"
     ]
    }
   ],
   "source": [
    "reg_model = smf.ols(\"u_ave ~ treat + ave \", dataset)\n",
    "results = reg_model.fit(cov_type= \"HC1\")\n",
    "\n",
    "print(summary_col(results,\n",
    "                  stars = True))"
   ]
  },
  {
   "cell_type": "markdown",
   "metadata": {},
   "source": [
    "<font size = \"5\">\n",
    "\n",
    "Test for heterogeneous effects\n"
   ]
  },
  {
   "cell_type": "code",
   "execution_count": 25,
   "metadata": {},
   "outputs": [
    {
     "name": "stdout",
     "output_type": "stream",
     "text": [
      "\n",
      "==================================\n",
      "                          u_ave   \n",
      "----------------------------------\n",
      "Intercept              49.1885*** \n",
      "                       (0.8840)   \n",
      "treat[T.Treatment]     -25.9979***\n",
      "                       (1.2381)   \n",
      "ave                    0.3054***  \n",
      "                       (0.0177)   \n",
      "treat[T.Treatment]:ave 0.4055***  \n",
      "                       (0.0241)   \n",
      "R-squared              0.3095     \n",
      "R-squared Adj.         0.3091     \n",
      "==================================\n",
      "Standard errors in parentheses.\n",
      "* p<.1, ** p<.05, ***p<.01\n"
     ]
    }
   ],
   "source": [
    "reg_model = smf.ols(\"u_ave ~ treat + ave + treat*ave\", dataset)\n",
    "results = reg_model.fit(cov_type= \"HC1\")\n",
    "\n",
    "print(summary_col(results,\n",
    "                  stars = True))"
   ]
  },
  {
   "cell_type": "markdown",
   "metadata": {},
   "source": [
    "<font size = \"5\">\n",
    "\n",
    "Try it yourself!\n",
    "\n",
    "Test for heterogeneous effects using other baseline covariates!"
   ]
  },
  {
   "cell_type": "code",
   "execution_count": null,
   "metadata": {},
   "outputs": [],
   "source": [
    "# Write your own code\n",
    "\n",
    "\n",
    "\n",
    "\n"
   ]
  }
 ],
 "metadata": {
  "kernelspec": {
   "display_name": "base",
   "language": "python",
   "name": "python3"
  },
  "language_info": {
   "codemirror_mode": {
    "name": "ipython",
    "version": 3
   },
   "file_extension": ".py",
   "mimetype": "text/x-python",
   "name": "python",
   "nbconvert_exporter": "python",
   "pygments_lexer": "ipython3",
   "version": "3.9.18"
  },
  "orig_nbformat": 4,
  "vscode": {
   "interpreter": {
    "hash": "45fc1f684f6f416f40889115beff3ddf69879b64cf4bfee48cb72a61e9d15d1a"
   }
  }
 },
 "nbformat": 4,
 "nbformat_minor": 2
}
