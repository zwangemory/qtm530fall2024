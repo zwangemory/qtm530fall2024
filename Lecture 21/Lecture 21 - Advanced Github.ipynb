{
 "cells": [
  {
   "attachments": {},
   "cell_type": "markdown",
   "metadata": {},
   "source": [
    "# <span style=\"color:darkblue\"> Lecture 21 - Advanced Github </span>\n",
    "\n",
    "<font size = \"5\">\n",
    "\n",
    "In this lecture we will talk about advanced project collaboration <br>\n",
    "with Github.\n",
    "\n",
    "https://www.youtube.com/watch?v=2ReR1YJrNOM\n",
    "\n",
    "https://en.wikipedia.org/wiki/Git"
   ]
  },
  {
   "cell_type": "markdown",
   "metadata": {},
   "source": [
    "# <span style=\"color:darkblue\"> I. What is Git? Colab?\n",
    "\n",
    "<font size = \"5\">\n",
    "\n",
    "- Github is a version control system that is based on an <br>\n",
    "open source language called \"Git\".\n",
    "- The goal of Git is to ensure that files are synchornized <br>\n",
    "and users can keep track of different versions in an <br>\n",
    "organized way\n",
    "- Github Desktop is a user-friendly interface that exectutes <br>\n",
    "git operations.\n"
   ]
  },
  {
   "cell_type": "markdown",
   "metadata": {},
   "source": [
    "\n",
    "# <span style=\"color:darkblue\"> II. Integration with Google Colab (optional)\n",
    "\n",
    "<font size = \"5\">\n",
    "\n",
    "You can also integrate Git into Google Colab or <br>\n",
    "web-based environments\n",
    "\n",
    "- Check the tutorials in the subfolder \"COLAB\" for how to do this\n",
    "- The tutorial also tell you how to get a Github \"token\" <br>\n",
    "so that run git commands from the terminal\n",
    "- This can also be helpful if you are working from other web <br>\n",
    "development environments such as Amazon Web Services (AWS)."
   ]
  },
  {
   "cell_type": "markdown",
   "metadata": {},
   "source": [
    "# <span style=\"color:darkblue\"> III. Basic Git Commands"
   ]
  },
  {
   "cell_type": "markdown",
   "metadata": {},
   "source": [
    "<font size = \"5\">\n",
    "\n",
    "In the next slide we will show you the equivalence between <br>\n",
    "different Git commands and Github desktop.\n",
    "\n",
    "(0) Open the system terminal and change location to the Github folder\n",
    "\n",
    "<font size = \"3\">\n",
    "\n",
    "- Before proceding, you will need to obtain a \"token\" <br>\n",
    "from your Github account <br>\n",
    "which looks something like: <br>\n",
    "``` https://alskjdas_ALSKFDJGASDFG29382938ASSDKJSDK ```\n",
    "\n",
    "- For ease of exposition we refere to this as ```{token}```, <br>\n",
    "which you would need to enter manually."
   ]
  },
  {
   "cell_type": "markdown",
   "metadata": {},
   "source": [
    "<font size = \"5\">\n",
    "\n",
    "(1) Commit a set of changes\n",
    "\n",
    "<font size = \"3\">\n",
    "\n",
    "```git commit -m \"New Commmit\" ```\n",
    "\n",
    "<img src=\"figures/commit.png\" alt=\"drawing\" width=\"320\"/>"
   ]
  },
  {
   "cell_type": "markdown",
   "metadata": {},
   "source": [
    "<font size = \"5\">\n",
    "\n",
    "(2) Push to a branch\n",
    "\n",
    "<font size = \"3\">\n",
    "\n",
    "```git push {token}@github.com/username/repositoryname.git main ```\n",
    "\n",
    "\n",
    "\n",
    "- Token specified authentication information\n",
    "- The ```github.com/username/repositoryname.git``` is the URL\n",
    "- ```main``` is the branch that you want to push towards\n",
    "\n",
    "<img src=\"figures/push.png\" alt=\"drawing\" width=\"640\"/>\n"
   ]
  },
  {
   "cell_type": "markdown",
   "metadata": {},
   "source": [
    "<font size = \"5\">\n",
    "\n",
    "(3) Pull a branch\n",
    "\n",
    "<font size = \"3\">\n",
    "\n",
    "```git pull {token}@github.com/username/repositoryname.git main ```\n",
    "\n",
    "- Pullng is a combination of two operations: <br>\n",
    "\"fetch\" brings in changes from the web in a temporary location <br>\n",
    "\"merge\" integrates them nto the current folder and the verson history\n",
    "\n",
    "<img src=\"figures/fetch.png\" alt=\"drawing\" width=\"640\"/>\n",
    "\n",
    "Dealing with conflicts by fetching before merging\n",
    "\n",
    "- Sometimes there can be conflicts between a current file and a <br>\n",
    "pulled file. <br>\n",
    "- On Github desktop, you can deal with these with an option called <br>\n",
    "\"Checkout\" where the old code is labelled \"HEAD\" followed by the new code.\n",
    "- You can manually keep the sections of the code that you want before <br>\n",
    "merging.\n",
    "\n",
    "https://www.youtube.com/watch?v=MIVW0sijSjY"
   ]
  },
  {
   "cell_type": "markdown",
   "metadata": {},
   "source": [
    "# <span style=\"color:darkblue\"> IV. Ignore Files and Revert Changes </span>\n",
    "\n",
    "<font size = \"5\">\n",
    "\n",
    "You can choose **not** to update certain files\n",
    "\n",
    "<font size = \"3\">\n",
    "\n",
    "- For example, they could be too heavy or confidential.\n",
    "- Simply a \".gitignore\" file at the root of the Github directory <br>\n",
    "(see an example in the subfolder \"example_ignore\")\n",
    "- You can ignore specific files, file extensions (with a *) prefix <br>\n",
    "or files within a specific subfolder\n",
    "\n",
    "<img src=\"figures/git_ignore.png\" alt=\"drawing\" width=\"400\"/>\n"
   ]
  },
  {
   "cell_type": "markdown",
   "metadata": {},
   "source": [
    "<font size = \"5\">\n",
    "\n",
    "To undo a commit\n",
    "\n",
    "<font size = \"3\">\n",
    "\n",
    "- This will (i) add back files that you deleted, (ii) delete files <br>\n",
    "that you created, (iii) undo edits in files \n",
    "- Ideally only revert the latest commit. However, it is also possible to <br>\n",
    "to revert commits (usually only recommended if a particular commit is unnaffected <br>\n",
    "by later changes)\n",
    "\n",
    "<img src=\"figures/revert_1.png\" alt=\"drawing\" width=\"400\"/> <br>\n",
    "<img src=\"figures/revert_2.png\" alt=\"drawing\" width=\"400\"/>\n"
   ]
  },
  {
   "cell_type": "markdown",
   "metadata": {},
   "source": [
    "<font size = \"5\">\n",
    "\n",
    "For more information:\n",
    "\n",
    "https://www.youtube.com/watch?v=KjFmMJ38NYU"
   ]
  },
  {
   "cell_type": "markdown",
   "metadata": {},
   "source": [
    "# <span style=\"color:darkblue\"> V. Multi-branches, rebasing, and pull requests </span>\n",
    "\n",
    "<font size = \"5\">\n",
    "\n",
    "(1) You can create multiple branches within a single repository\n",
    "\n",
    "<font size = \"3\">\n",
    "\n",
    "- Example 1: You could be working on a new feature <br>\n",
    "tha you work on separately, before merging with the team\n",
    "- Example 2: You are supervising somebody else' work and <br>\n",
    "you want to check it before integrating \n",
    "- Once you've selected a branch you can commit, push, and pull <br>\n",
    "as you did before, but the changes will only affect that branch. <br>\n",
    "They will not affect the main branch.\n"
   ]
  },
  {
   "cell_type": "markdown",
   "metadata": {},
   "source": [
    "\n",
    "\n",
    "\n",
    "<img src=\"figures/multi_branch_1.png\" alt=\"drawing\" width=\"400\"/>\n",
    "<img src=\"figures/multi_branch_2.png\" alt=\"drawing\" width=\"240\"/>"
   ]
  },
  {
   "cell_type": "markdown",
   "metadata": {},
   "source": [
    "<font size = \"5\">\n",
    "\n",
    "(2) Update changes from another branch\n",
    "\n",
    "<font size = \"3\">\n",
    "\n",
    "- The moment you create a branch, it starts to be separate from the <br>\n",
    "main branch. It won't be automatically affected by new changes in the main <br>\n",
    "branch.\n",
    "- As a result the current branch could be out-of-date.\n",
    "- \"Branching\" is  similar to \"forking\" (which we used for the lecture notes) \n",
    "- \"Branching\" uses different versions within your own repository, whereas <br>\n",
    "whereas \"forking\" uses different repositories all linked to a central one. <br>\n",
    "\n",
    "<img src=\"figures/update.png\" alt=\"drawing\" width=\"240\"/>\n"
   ]
  },
  {
   "cell_type": "markdown",
   "metadata": {},
   "source": [
    "<font size = \"5\">\n",
    "\n",
    "(3) Squash-and-merge (automatic integration)\n",
    "\n",
    "<font size = \"3\">\n",
    "\n",
    "- Select the main branch\n",
    "\n",
    "<img src=\"figures/squash_merge_1.png\" alt=\"drawing\" width=\"400\"/>\n",
    "\n",
    "- To integrate the changes from example branch <br>\n",
    "to main branch, select squash and merge.\n",
    "- This will add all commits from \"example_branch\" to \"main\"\n",
    "\n",
    "<img src=\"figures/squash_merge_2.png\" alt=\"drawing\" width=\"400\"/>\n",
    "<img src=\"figures/squash_merge_3.png\" alt=\"drawing\" width=\"250\"/>\n"
   ]
  },
  {
   "cell_type": "markdown",
   "metadata": {},
   "source": [
    "<font size = \"5\">\n",
    "\n",
    "(4) Pull-request (integrate after approval)\n",
    "\n",
    "<font size = \"3\">\n",
    "\n",
    "- Useful if somebody needs to approve before integrating\n",
    "- Select the example branch and crate a pull request\n",
    "\n",
    "<img src=\"figures/pull_request_1.png\" alt=\"drawing\" width=\"200\"/>\n",
    "<img src=\"figures/pull_request_2.png\" alt=\"drawing\" width=\"400\"/>\n",
    "\n",
    "- Check and approve a pull rquest from the web browser:\n",
    "\n",
    "<img src=\"figures/pull_request_3.png\" alt=\"drawing\" width=\"500\"/>\n",
    "\n",
    "<font size = \"5\">\n",
    "\n",
    "There are other forms of merging, which differ in how <br>\n",
    "the individual commits are displayed. See more information here:\n",
    "\n",
    "\n",
    "https://www.youtube.com/watch?v=0chZFIZLR_0\n"
   ]
  },
  {
   "cell_type": "markdown",
   "metadata": {},
   "source": [
    "# <span style=\"color:darkblue\"> VI. Additional Resources </span>\n",
    "\n",
    "<font size = \"5\">\n",
    "\n",
    "Key elements of Git language:\n",
    "\n",
    "https://docs.github.com/en/get-started/getting-started-with-git/set-up-git"
   ]
  }
 ],
 "metadata": {
  "kernelspec": {
   "display_name": "base",
   "language": "python",
   "name": "python3"
  },
  "language_info": {
   "codemirror_mode": {
    "name": "ipython",
    "version": 3
   },
   "file_extension": ".py",
   "mimetype": "text/x-python",
   "name": "python",
   "nbconvert_exporter": "python",
   "pygments_lexer": "ipython3",
   "version": "3.9.18"
  },
  "orig_nbformat": 4
 },
 "nbformat": 4,
 "nbformat_minor": 2
}
