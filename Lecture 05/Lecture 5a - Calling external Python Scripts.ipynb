{
 "cells": [
  {
   "attachments": {},
   "cell_type": "markdown",
   "metadata": {},
   "source": [
    "# <span style=\"color:darkblue\"> Lecture 5a - Calling External Python Scripts </span>\n",
    "\n",
    "<font size = \"5\">\n",
    "\n",
    "So far we've primarily worked with interactive Jupyter notebooks with <br>\n",
    "a file extension \".ipynb\".\n",
    "\n",
    "Another important type of file are non-interactive Python scripts, with <br>\n",
    "a file extension \".py\""
   ]
  },
  {
   "cell_type": "markdown",
   "metadata": {},
   "source": [
    "# <span style=\"color:darkblue\"> Example: Importing Packages </span>\n"
   ]
  },
  {
   "cell_type": "markdown",
   "metadata": {},
   "source": [
    "<font size = \"5\">\n",
    "\n",
    "Import packages from markdown chunk"
   ]
  },
  {
   "cell_type": "code",
   "execution_count": 1,
   "metadata": {},
   "outputs": [],
   "source": [
    "import requests      # Requests data from an API\n",
    "import json          # Handles JSON object\n",
    "import pandas as pd  # Handles data frames"
   ]
  },
  {
   "cell_type": "markdown",
   "metadata": {},
   "source": [
    "<font size = \"5\">\n",
    "\n",
    "Import packages from an external script\n",
    "\n",
    "<font size = \"3\">\n",
    "\n",
    "- We've stored a file \"import_packages.py\" in the \"scripts\" folder\n",
    "- ```open(\"./scripts/import_packages.py\").read()``` brings the content <br>\n",
    " of the file into the working environment\n",
    "- ```exec()``` runs the lines of code as if they were contained <br>\n",
    "in a code chunk similar to the one above"
   ]
  },
  {
   "cell_type": "code",
   "execution_count": null,
   "metadata": {},
   "outputs": [],
   "source": [
    "# This command executes the python scripts\n",
    "exec(open(\"./scripts/import_packages.py\").read())"
   ]
  },
  {
   "cell_type": "markdown",
   "metadata": {},
   "source": [
    "# <span style=\"color:darkblue\"> Pros and Cons of Python Scripts </span>\n"
   ]
  },
  {
   "cell_type": "markdown",
   "metadata": {},
   "source": [
    "<font size = \"5\">\n",
    "\n",
    "Pros:\n",
    "\n",
    "<font size = \"3\">\n",
    "\n",
    "- Help keep big projects organized, by allowing you to <br>\n",
    "keep files short and breaking things down into different parts.\n",
    "- Increase legibility\n",
    "- Easy to work with packages, functions, configurations, and other objects.\n",
    "\n",
    "\n",
    "<font size = \"5\">\n",
    "\n",
    "Cons:\n",
    "\n",
    "<font size = \"3\">\n",
    "\n",
    "- Because they're not interactive, they're not always a good alternative for <br>\n",
    "data exploration.\n",
    "- In some cases, may be better to test out functionality in a Jupyter notebook <br>\n",
    "before transferring to a Python script.\n",
    "\n",
    "We'll some more examples of Python scripts later.\n",
    "\n"
   ]
  }
 ],
 "metadata": {
  "kernelspec": {
   "display_name": "base",
   "language": "python",
   "name": "python3"
  },
  "language_info": {
   "codemirror_mode": {
    "name": "ipython",
    "version": 3
   },
   "file_extension": ".py",
   "mimetype": "text/x-python",
   "name": "python",
   "nbconvert_exporter": "python",
   "pygments_lexer": "ipython3",
   "version": "3.9.18"
  },
  "orig_nbformat": 4,
  "vscode": {
   "interpreter": {
    "hash": "45fc1f684f6f416f40889115beff3ddf69879b64cf4bfee48cb72a61e9d15d1a"
   }
  }
 },
 "nbformat": 4,
 "nbformat_minor": 2
}
