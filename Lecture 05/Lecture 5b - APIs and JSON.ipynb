{
 "cells": [
  {
   "attachments": {},
   "cell_type": "markdown",
   "metadata": {},
   "source": [
    "# <span style=\"color:darkblue\"> Lecture 5b - APIs and JSON </span>\n",
    "\n",
    "<font size = \"5\">\n",
    "\n",
    "In this lecture we will cover the basics of dictionaries and <br>\n",
    "interacting with web-based APIs"
   ]
  },
  {
   "cell_type": "markdown",
   "metadata": {},
   "source": [
    "<font size = \"5\">\n",
    "\n",
    "Import packages"
   ]
  },
  {
   "cell_type": "code",
   "execution_count": 44,
   "metadata": {},
   "outputs": [],
   "source": [
    "import requests      # Requests data from an API\n",
    "import json          # Handles JSON object\n",
    "import jmespath      # Allows you to mor easily navigate JSON objects\n",
    "import pandas as pd  # Handles data frames"
   ]
  },
  {
   "cell_type": "markdown",
   "metadata": {},
   "source": [
    "# <span style=\"color:darkblue\"> I. Best Coding Practices </span>"
   ]
  },
  {
   "cell_type": "markdown",
   "metadata": {},
   "source": [
    "<font size = \"5\">\n",
    "\n",
    "Splitting a command into multiple lines\n",
    "\n",
    "<font size = \"3\">\n",
    "\n",
    "- Sometimes strings are very long, e.g. URLs\n",
    "- Best practice to code lines with maximum 80 characters\n",
    "- It is easier to read code if you scroll vertically <br>\n",
    "rather than sideways"
   ]
  },
  {
   "cell_type": "code",
   "execution_count": 45,
   "metadata": {},
   "outputs": [],
   "source": [
    "# You can split commands into multiple lines with a backlash\n",
    "example_backslash = \"This is a very long string\" \\\n",
    "                    + \"and I would like to break it down into multiple lines\"\n",
    "\n",
    "# You can also split commands into multiple lines by wrapping them in parentheses)\n",
    "example_parenthesis = ( \"This is a very long string\" \n",
    "                    + \"and I would like to break it down into multiple lines\")\n"
   ]
  },
  {
   "cell_type": "markdown",
   "metadata": {},
   "source": [
    "<font size = \"5\">\n",
    "\n",
    "Examples of Dictionary Formatting"
   ]
  },
  {
   "cell_type": "code",
   "execution_count": 46,
   "metadata": {},
   "outputs": [],
   "source": [
    "# Define dictionary\n",
    "dictionary_student = \\\n",
    "{\n",
    "    \"first_name\": \"John\",\n",
    "    \"last_name\" : \"Smith\",\n",
    "    \"location\"  : \"Atlanta\",\n",
    "    \"university\": \"Emory\",\n",
    "}\n"
   ]
  },
  {
   "cell_type": "markdown",
   "metadata": {},
   "source": [
    "<font size = \"5\">\n",
    "Nested dictionaries + Lists"
   ]
  },
  {
   "cell_type": "code",
   "execution_count": 47,
   "metadata": {},
   "outputs": [],
   "source": [
    "dictionary_student_wgrades =\\\n",
    "{\n",
    "    \"first_name\": \"John\",\n",
    "    \"last_name\" : \"Smith\",\n",
    "    \"location\"  : \"Atlanta\",\n",
    "    \"university\": \"Emory\",\n",
    "    \"grades\":{\n",
    "        \"computing\":\"A\",\n",
    "        \"reasoning\":\"B\",\n",
    "        \"applied\":\"A-\"\n",
    "    }\n",
    "}\n",
    "\n",
    "dictionary_liststudents = \\\n",
    "[{\n",
    "    \"first_name\": \"Ned\",\n",
    "    \"last_name\" : \"Stark\",\n",
    "    \"location\"  : \"Atlanta\",\n",
    "    \"university\": \"Emory\",\n",
    "    \n",
    " },\n",
    " {\n",
    "    \"first_name\": \"Cersei\",\n",
    "    \"last_name\" : \"Lannister\",\n",
    "    \"location\"  : \"Decatur\",\n",
    "    \"university\": \"Georgia Tech\",\n",
    " }\n",
    "]"
   ]
  },
  {
   "cell_type": "markdown",
   "metadata": {},
   "source": [
    "<font size = \"5\">\n",
    "\n",
    "Convert dictionaries to JSON"
   ]
  },
  {
   "cell_type": "code",
   "execution_count": 48,
   "metadata": {},
   "outputs": [],
   "source": [
    "# Convert dictionary to JSON\n",
    "## json.dumps() converts the dictionary to a string\n",
    "## json.loads() converts this string to a JSON object\n",
    "\n",
    "json_student         = json.loads(json.dumps(dictionary_student ))\n",
    "json_student_wgrades = json.loads(json.dumps(dictionary_student_wgrades))\n",
    "json_liststudents    = json.loads(json.dumps(dictionary_liststudents))\n"
   ]
  },
  {
   "cell_type": "markdown",
   "metadata": {},
   "source": [
    "<font size = \"5\">\n",
    "\n",
    "Navigating a JSON file by name"
   ]
  },
  {
   "cell_type": "code",
   "execution_count": 49,
   "metadata": {},
   "outputs": [
    {
     "name": "stdout",
     "output_type": "stream",
     "text": [
      "A\n"
     ]
    }
   ],
   "source": [
    "# The search command tries to search down the hierarchy, first \"grades\", then\n",
    "# computing. The \".\" is used to separate the queries at different levels.\n",
    "\n",
    "extract_info1 = jmespath.search('grades.computing', json_student_wgrades)\n",
    "print(extract_info1)"
   ]
  },
  {
   "cell_type": "markdown",
   "metadata": {},
   "source": [
    "<font size = \"5\">\n",
    "\n",
    "Navigating a JSON list by position"
   ]
  },
  {
   "cell_type": "code",
   "execution_count": 50,
   "metadata": {},
   "outputs": [
    {
     "name": "stdout",
     "output_type": "stream",
     "text": [
      "{'first_name': 'Ned', 'last_name': 'Stark', 'location': 'Atlanta', 'university': 'Emory'}\n",
      "Ned\n"
     ]
    }
   ],
   "source": [
    "extract_info2 = jmespath.search('[0]', json_liststudents)\n",
    "print(extract_info2)\n",
    "\n",
    "extract_info3 = jmespath.search('[0].first_name', json_liststudents)\n",
    "print(extract_info3)\n"
   ]
  },
  {
   "cell_type": "markdown",
   "metadata": {},
   "source": [
    "<font size = \"5\">\n",
    "\n",
    "Extracting elements at all sublevels"
   ]
  },
  {
   "cell_type": "code",
   "execution_count": 51,
   "metadata": {},
   "outputs": [
    {
     "name": "stdout",
     "output_type": "stream",
     "text": [
      "['Ned', 'Cersei']\n"
     ]
    }
   ],
   "source": [
    "# This commands extracts the value of \"first_name\" for all students\n",
    "# The [*] command \n",
    "\n",
    "extract_info3 = jmespath.search('[*].first_name', json_liststudents)\n",
    "print(extract_info3)\n"
   ]
  },
  {
   "cell_type": "markdown",
   "metadata": {},
   "source": [
    "# <span style=\"color:darkblue\"> II. Accessing an API </span>"
   ]
  },
  {
   "cell_type": "markdown",
   "metadata": {},
   "source": [
    "<font size = \"5\">\n",
    "\n",
    "About the example\n",
    "\n",
    "- OpenAlex is one of largest open access repositories <br>\n",
    "of bibliographic information\n",
    "- Contains millions of references and metada on <br>\n",
    "books, papers, authors, and citation networks\n",
    "\n",
    "https://docs.openalex.org"
   ]
  },
  {
   "cell_type": "markdown",
   "metadata": {},
   "source": [
    "<font size = \"5\">\n",
    "\n",
    "Define an URL to access API\n",
    "\n",
    "``` https://website.com/option=12345```\n",
    "\n",
    "- Usually it's a domain followed by a field\n",
    "- Many search engines use this type of format <br>\n",
    "for search queries"
   ]
  },
  {
   "cell_type": "code",
   "execution_count": 52,
   "metadata": {},
   "outputs": [],
   "source": [
    "# Define a new string variable called \"url_openalex_api\"\n",
    "# Notice that we used the backslash to splot the command, since\n",
    "# the URL is quite long.\n",
    "\n",
    "# In this case where are searching for all the works published \n",
    "# by an author whose ID is \"A5023888391\"\n",
    "\n",
    "url_openalex_api = \\\n",
    "      \"https://api.openalex.org/works?filter=author.id:A5023888391\"\n"
   ]
  },
  {
   "cell_type": "markdown",
   "metadata": {},
   "source": [
    "<font size = \"5\">\n",
    "\n",
    "Request data\n"
   ]
  },
  {
   "cell_type": "code",
   "execution_count": 53,
   "metadata": {},
   "outputs": [],
   "source": [
    "# Obtain the JSON data of records from the open alex API\n",
    "# Note: you can break the link using backslash\n",
    "\n",
    "search_results = requests.\\\n",
    "    get(url_openalex_api).json()\n"
   ]
  },
  {
   "cell_type": "markdown",
   "metadata": {},
   "source": [
    "<font size = \"5\">\n",
    "\n",
    "Convert to a JSON file for easier readability"
   ]
  },
  {
   "cell_type": "code",
   "execution_count": 54,
   "metadata": {},
   "outputs": [],
   "source": [
    "# This commands opens the file to write it.\n",
    "# The code in parenthesis of file.write(...) \n",
    "#     nicely formats the json file, with four character indentation.\n",
    "\n",
    "with open('json_files/convert_search_results.json', 'w') as file: \n",
    "    file.write(json.dumps(search_results, indent =4))"
   ]
  },
  {
   "cell_type": "markdown",
   "metadata": {},
   "source": [
    "<font size = \"5\">\n",
    "\n",
    "Browsing with the JSON data viewer\n",
    "\n",
    "<font size = \"3\">\n",
    "\n",
    "- Open the ```convert_search_results.json``` file from the folder in VSCode\n",
    "- Click on VS-Code's \"View\" tab at the top and click on the <br>\n",
    " option \"Command Palette\". This will open a pop-up window. <br>\n",
    "<br>\n",
    "\n",
    "<img src=\"figures/command_palette.png\" alt=\"drawing\" width=\"150\"/>\n",
    "<img src=\"figures/open_jsonviewer.png\" alt=\"drawing\" width=\"350\"/>\n",
    "\n",
    "<br>\n",
    "\n",
    "- Search \"Open in JSON viewer\" and click enter. This <br>\n",
    "should open a new tab with the following layout, which has <br>\n",
    "convenient drop-down menus: <br>\n",
    "<br>\n",
    "\n",
    "<img src=\"figures/json_viewer.png\" alt=\"drawing\" width=\"400\"/>"
   ]
  },
  {
   "cell_type": "markdown",
   "metadata": {},
   "source": [
    "<font size = \"5\">\n",
    "\n",
    "Try it yourself! Experiment with the JSON data viewer. <br>\n",
    "Diagnose how the data is structured and the different levels."
   ]
  },
  {
   "cell_type": "markdown",
   "metadata": {},
   "source": [
    "# <span style=\"color:darkblue\"> III. Navigating the nested structure </span>"
   ]
  },
  {
   "cell_type": "markdown",
   "metadata": {},
   "source": [
    "<font size = \"5\">\n",
    "\n",
    "Browse keys in the \"first level\"\n"
   ]
  },
  {
   "cell_type": "code",
   "execution_count": 63,
   "metadata": {},
   "outputs": [
    {
     "name": "stdout",
     "output_type": "stream",
     "text": [
      "3\n",
      "dict_keys(['meta', 'results', 'group_by'])\n"
     ]
    }
   ],
   "source": [
    "# The \"len\" command is used to \n",
    "print(len(search_results))\n",
    "\n",
    "# The \"keys\" subfunction extract the names of the \"first-level\" objects\n",
    "print(search_results.keys())\n",
    "\n",
    "# Store keys to data fram to easy access and visualization\n",
    "search_results_keys = pd.DataFrame(search_results.keys())\n"
   ]
  },
  {
   "cell_type": "markdown",
   "metadata": {},
   "source": [
    "<font size = \"5\">\n",
    "\n",
    "Browse subdictionary within a particular key"
   ]
  },
  {
   "cell_type": "code",
   "execution_count": 56,
   "metadata": {},
   "outputs": [
    {
     "data": {
      "text/plain": [
       "{'count': 62,\n",
       " 'db_response_time_ms': 127,\n",
       " 'page': 1,\n",
       " 'per_page': 25,\n",
       " 'groups_count': None}"
      ]
     },
     "execution_count": 56,
     "metadata": {},
     "output_type": "execute_result"
    }
   ],
   "source": [
    "search_results[\"meta\"]"
   ]
  },
  {
   "cell_type": "markdown",
   "metadata": {},
   "source": [
    "<font size = \"5\">\n",
    "\n",
    "Convert dictionary to pandas"
   ]
  },
  {
   "cell_type": "code",
   "execution_count": 57,
   "metadata": {},
   "outputs": [
    {
     "data": {
      "text/html": [
       "<div>\n",
       "<style scoped>\n",
       "    .dataframe tbody tr th:only-of-type {\n",
       "        vertical-align: middle;\n",
       "    }\n",
       "\n",
       "    .dataframe tbody tr th {\n",
       "        vertical-align: top;\n",
       "    }\n",
       "\n",
       "    .dataframe thead th {\n",
       "        text-align: right;\n",
       "    }\n",
       "</style>\n",
       "<table border=\"1\" class=\"dataframe\">\n",
       "  <thead>\n",
       "    <tr style=\"text-align: right;\">\n",
       "      <th></th>\n",
       "      <th>count</th>\n",
       "      <th>db_response_time_ms</th>\n",
       "      <th>page</th>\n",
       "      <th>per_page</th>\n",
       "      <th>groups_count</th>\n",
       "    </tr>\n",
       "  </thead>\n",
       "  <tbody>\n",
       "    <tr>\n",
       "      <th>0</th>\n",
       "      <td>62</td>\n",
       "      <td>127</td>\n",
       "      <td>1</td>\n",
       "      <td>25</td>\n",
       "      <td>None</td>\n",
       "    </tr>\n",
       "  </tbody>\n",
       "</table>\n",
       "</div>"
      ],
      "text/plain": [
       "   count  db_response_time_ms  page  per_page groups_count\n",
       "0     62                  127     1        25         None"
      ]
     },
     "execution_count": 57,
     "metadata": {},
     "output_type": "execute_result"
    }
   ],
   "source": [
    "# This code converts to Pandas\n",
    "\n",
    "data = pd.DataFrame(search_results[\"meta\"],index = [0])\n",
    "\n",
    "data"
   ]
  },
  {
   "cell_type": "markdown",
   "metadata": {},
   "source": [
    "<font size = \"5\">\n",
    "\n",
    "Count elements at a particular level"
   ]
  },
  {
   "cell_type": "code",
   "execution_count": 58,
   "metadata": {},
   "outputs": [
    {
     "data": {
      "text/plain": [
       "25"
      ]
     },
     "execution_count": 58,
     "metadata": {},
     "output_type": "execute_result"
    }
   ],
   "source": [
    "# Count number of elements in list\n",
    "len(search_results[\"results\"])"
   ]
  },
  {
   "cell_type": "markdown",
   "metadata": {},
   "source": [
    "<font size = \"5\">\n",
    "\n",
    "You can access different sub elements"
   ]
  },
  {
   "cell_type": "code",
   "execution_count": 59,
   "metadata": {},
   "outputs": [
    {
     "name": "stdout",
     "output_type": "stream",
     "text": [
      "{'id': 'https://openalex.org/W2741809807', 'doi': 'https://doi.org/10.7717/peerj.4375', 'title': 'The state of OA: a large-scale analysis of the prevalence and impact of Open Access articles', 'display_name': 'The state of OA: a large-scale analysis of the prevalence and impact of Open Access articles', 'publication_year': 2018, 'publication_date': '2018-02-13', 'ids': {'openalex': 'https://openalex.org/W2741809807', 'doi': 'https://doi.org/10.7717/peerj.4375', 'mag': '2741809807', 'pmid': 'https://pubmed.ncbi.nlm.nih.gov/29456894', 'pmcid': 'https://www.ncbi.nlm.nih.gov/pmc/articles/5815332'}, 'language': 'en', 'primary_location': {'is_oa': True, 'landing_page_url': 'https://doi.org/10.7717/peerj.4375', 'pdf_url': 'https://peerj.com/articles/4375.pdf', 'source': {'id': 'https://openalex.org/S1983995261', 'display_name': 'PeerJ', 'issn_l': '2167-8359', 'issn': ['2167-8359'], 'is_oa': True, 'is_in_doaj': True, 'is_core': True, 'host_organization': 'https://openalex.org/P4310320104', 'host_organization_name': 'PeerJ, Inc.', 'host_organization_lineage': ['https://openalex.org/P4310320104'], 'host_organization_lineage_names': ['PeerJ, Inc.'], 'type': 'journal'}, 'license': 'cc-by', 'license_id': 'https://openalex.org/licenses/cc-by', 'version': 'publishedVersion', 'is_accepted': True, 'is_published': True}, 'type': 'article', 'type_crossref': 'journal-article', 'indexed_in': ['crossref', 'doaj', 'pubmed'], 'open_access': {'is_oa': True, 'oa_status': 'gold', 'oa_url': 'https://peerj.com/articles/4375.pdf', 'any_repository_has_fulltext': True}, 'authorships': [{'author_position': 'first', 'author': {'id': 'https://openalex.org/A5048491430', 'display_name': 'Heather Piwowar', 'orcid': 'https://orcid.org/0000-0003-1613-5981'}, 'institutions': [{'id': 'https://openalex.org/I4210166736', 'display_name': 'Impact Technology Development (United States)', 'ror': 'https://ror.org/05ppvf150', 'country_code': 'US', 'type': 'company', 'lineage': ['https://openalex.org/I4210166736']}], 'countries': ['US'], 'is_corresponding': False, 'raw_author_name': 'Heather Piwowar', 'raw_affiliation_strings': ['Impactstory, Sanford, NC, USA'], 'affiliations': [{'raw_affiliation_string': 'Impactstory, Sanford, NC, USA', 'institution_ids': ['https://openalex.org/I4210166736']}]}, {'author_position': 'middle', 'author': {'id': 'https://openalex.org/A5023888391', 'display_name': 'Jason Priem', 'orcid': 'https://orcid.org/0000-0001-6187-6610'}, 'institutions': [{'id': 'https://openalex.org/I4210166736', 'display_name': 'Impact Technology Development (United States)', 'ror': 'https://ror.org/05ppvf150', 'country_code': 'US', 'type': 'company', 'lineage': ['https://openalex.org/I4210166736']}], 'countries': ['US'], 'is_corresponding': False, 'raw_author_name': 'Jason Priem', 'raw_affiliation_strings': ['Impactstory, Sanford, NC, USA'], 'affiliations': [{'raw_affiliation_string': 'Impactstory, Sanford, NC, USA', 'institution_ids': ['https://openalex.org/I4210166736']}]}, {'author_position': 'middle', 'author': {'id': 'https://openalex.org/A5068542997', 'display_name': 'Vincent Larivière', 'orcid': 'https://orcid.org/0000-0002-2733-0689'}, 'institutions': [{'id': 'https://openalex.org/I159129438', 'display_name': 'Université du Québec à Montréal', 'ror': 'https://ror.org/002rjbv21', 'country_code': 'CA', 'type': 'education', 'lineage': ['https://openalex.org/I159129438', 'https://openalex.org/I49663120']}, {'id': 'https://openalex.org/I70931966', 'display_name': 'Université de Montréal', 'ror': 'https://ror.org/0161xgx34', 'country_code': 'CA', 'type': 'education', 'lineage': ['https://openalex.org/I70931966']}], 'countries': ['CA'], 'is_corresponding': False, 'raw_author_name': 'Vincent Larivière', 'raw_affiliation_strings': ['Observatoire des Sciences et des Technologies (OST), Centre Interuniversitaire de Recherche sur la Science et la Technologie (CIRST), Université du Québec à Montréal, Montréal, QC, Canada', 'École de bibliothéconomie et des sciences de l’information, Université de Montréal, Montréal, QC, Canada'], 'affiliations': [{'raw_affiliation_string': 'Observatoire des Sciences et des Technologies (OST), Centre Interuniversitaire de Recherche sur la Science et la Technologie (CIRST), Université du Québec à Montréal, Montréal, QC, Canada', 'institution_ids': ['https://openalex.org/I159129438']}, {'raw_affiliation_string': 'École de bibliothéconomie et des sciences de l’information, Université de Montréal, Montréal, QC, Canada', 'institution_ids': ['https://openalex.org/I70931966']}]}, {'author_position': 'middle', 'author': {'id': 'https://openalex.org/A5085171399', 'display_name': 'Juan Pablo Alperín', 'orcid': 'https://orcid.org/0000-0002-9344-7439'}, 'institutions': [{'id': 'https://openalex.org/I18014758', 'display_name': 'Simon Fraser University', 'ror': 'https://ror.org/0213rcc28', 'country_code': 'CA', 'type': 'education', 'lineage': ['https://openalex.org/I18014758']}], 'countries': ['CA'], 'is_corresponding': False, 'raw_author_name': 'Juan Pablo Alperin', 'raw_affiliation_strings': ['Canadian Institute for Studies in Publishing, Simon Fraser University, Vancouver, BC, Canada', 'Public Knowledge Project, Canada'], 'affiliations': [{'raw_affiliation_string': 'Canadian Institute for Studies in Publishing, Simon Fraser University, Vancouver, BC, Canada', 'institution_ids': ['https://openalex.org/I18014758']}, {'raw_affiliation_string': 'Public Knowledge Project, Canada', 'institution_ids': []}]}, {'author_position': 'middle', 'author': {'id': 'https://openalex.org/A5066880338', 'display_name': 'Lisa Matthias', 'orcid': 'https://orcid.org/0000-0002-2612-2132'}, 'institutions': [{'id': 'https://openalex.org/I18014758', 'display_name': 'Simon Fraser University', 'ror': 'https://ror.org/0213rcc28', 'country_code': 'CA', 'type': 'education', 'lineage': ['https://openalex.org/I18014758']}], 'countries': ['CA'], 'is_corresponding': False, 'raw_author_name': 'Lisa Matthias', 'raw_affiliation_strings': ['Scholarly Communications Lab, Simon Fraser University, Vancouver, Canada'], 'affiliations': [{'raw_affiliation_string': 'Scholarly Communications Lab, Simon Fraser University, Vancouver, Canada', 'institution_ids': ['https://openalex.org/I18014758']}]}, {'author_position': 'middle', 'author': {'id': 'https://openalex.org/A5015414792', 'display_name': 'Bree Norlander', 'orcid': 'https://orcid.org/0000-0002-0431-4221'}, 'institutions': [{'id': 'https://openalex.org/I201448701', 'display_name': 'University of Washington', 'ror': 'https://ror.org/00cvxb145', 'country_code': 'US', 'type': 'education', 'lineage': ['https://openalex.org/I201448701']}, {'id': 'https://openalex.org/I58610484', 'display_name': 'Seattle University', 'ror': 'https://ror.org/02jqc0m91', 'country_code': 'US', 'type': 'education', 'lineage': ['https://openalex.org/I58610484']}], 'countries': ['US'], 'is_corresponding': False, 'raw_author_name': 'Bree Norlander', 'raw_affiliation_strings': ['FlourishOA, USA', 'Information School, University of Washington, Seattle, USA'], 'affiliations': [{'raw_affiliation_string': 'Information School, University of Washington, Seattle, USA', 'institution_ids': ['https://openalex.org/I201448701', 'https://openalex.org/I58610484']}, {'raw_affiliation_string': 'FlourishOA, USA', 'institution_ids': []}]}, {'author_position': 'middle', 'author': {'id': 'https://openalex.org/A5062989025', 'display_name': 'Ashley Farley', 'orcid': 'https://orcid.org/0000-0001-9310-6944'}, 'institutions': [{'id': 'https://openalex.org/I58610484', 'display_name': 'Seattle University', 'ror': 'https://ror.org/02jqc0m91', 'country_code': 'US', 'type': 'education', 'lineage': ['https://openalex.org/I58610484']}, {'id': 'https://openalex.org/I201448701', 'display_name': 'University of Washington', 'ror': 'https://ror.org/00cvxb145', 'country_code': 'US', 'type': 'education', 'lineage': ['https://openalex.org/I201448701']}], 'countries': ['US'], 'is_corresponding': False, 'raw_author_name': 'Ashley Farley', 'raw_affiliation_strings': ['FlourishOA, USA', 'Information School, University of Washington, Seattle, USA'], 'affiliations': [{'raw_affiliation_string': 'Information School, University of Washington, Seattle, USA', 'institution_ids': ['https://openalex.org/I58610484', 'https://openalex.org/I201448701']}, {'raw_affiliation_string': 'FlourishOA, USA', 'institution_ids': []}]}, {'author_position': 'middle', 'author': {'id': 'https://openalex.org/A5046879461', 'display_name': 'Jevin D. West', 'orcid': 'https://orcid.org/0000-0002-4118-0322'}, 'institutions': [{'id': 'https://openalex.org/I201448701', 'display_name': 'University of Washington', 'ror': 'https://ror.org/00cvxb145', 'country_code': 'US', 'type': 'education', 'lineage': ['https://openalex.org/I201448701']}, {'id': 'https://openalex.org/I58610484', 'display_name': 'Seattle University', 'ror': 'https://ror.org/02jqc0m91', 'country_code': 'US', 'type': 'education', 'lineage': ['https://openalex.org/I58610484']}], 'countries': ['US'], 'is_corresponding': False, 'raw_author_name': 'Jevin West', 'raw_affiliation_strings': ['Information School, University of Washington, Seattle, USA'], 'affiliations': [{'raw_affiliation_string': 'Information School, University of Washington, Seattle, USA', 'institution_ids': ['https://openalex.org/I201448701', 'https://openalex.org/I58610484']}]}, {'author_position': 'last', 'author': {'id': 'https://openalex.org/A5014077037', 'display_name': 'Stefanie Haustein', 'orcid': 'https://orcid.org/0000-0003-0157-1430'}, 'institutions': [{'id': 'https://openalex.org/I159129438', 'display_name': 'Université du Québec à Montréal', 'ror': 'https://ror.org/002rjbv21', 'country_code': 'CA', 'type': 'education', 'lineage': ['https://openalex.org/I159129438', 'https://openalex.org/I49663120']}, {'id': 'https://openalex.org/I153718931', 'display_name': 'University of Ottawa', 'ror': 'https://ror.org/03c4mmv16', 'country_code': 'CA', 'type': 'education', 'lineage': ['https://openalex.org/I153718931']}], 'countries': ['CA'], 'is_corresponding': False, 'raw_author_name': 'Stefanie Haustein', 'raw_affiliation_strings': ['Observatoire des Sciences et des Technologies (OST), Centre Interuniversitaire de Recherche sur la Science et la Technologie (CIRST), Université du Québec à Montréal, Montréal, QC, Canada', 'School of Information Studies, University of Ottawa, Ottawa, ON, Canada'], 'affiliations': [{'raw_affiliation_string': 'Observatoire des Sciences et des Technologies (OST), Centre Interuniversitaire de Recherche sur la Science et la Technologie (CIRST), Université du Québec à Montréal, Montréal, QC, Canada', 'institution_ids': ['https://openalex.org/I159129438']}, {'raw_affiliation_string': 'School of Information Studies, University of Ottawa, Ottawa, ON, Canada', 'institution_ids': ['https://openalex.org/I153718931']}]}], 'countries_distinct_count': 2, 'institutions_distinct_count': 7, 'corresponding_author_ids': [], 'corresponding_institution_ids': [], 'apc_list': {'value': 1395, 'currency': 'USD', 'value_usd': 1395, 'provenance': 'doaj'}, 'apc_paid': {'value': 1395, 'currency': 'USD', 'value_usd': 1395, 'provenance': 'doaj'}, 'fwci': 76.992, 'has_fulltext': True, 'fulltext_origin': 'pdf', 'cited_by_count': 848, 'citation_normalized_percentile': {'value': 0.999768, 'is_in_top_1_percent': True, 'is_in_top_10_percent': True}, 'cited_by_percentile_year': {'min': 99, 'max': 100}, 'biblio': {'volume': '6', 'issue': None, 'first_page': 'e4375', 'last_page': 'e4375'}, 'is_retracted': False, 'is_paratext': False, 'primary_topic': {'id': 'https://openalex.org/T10102', 'display_name': 'Bibliometric Analysis and Research Evaluation', 'score': 0.9969, 'subfield': {'id': 'https://openalex.org/subfields/1804', 'display_name': 'Statistics, Probability and Uncertainty'}, 'field': {'id': 'https://openalex.org/fields/18', 'display_name': 'Decision Sciences'}, 'domain': {'id': 'https://openalex.org/domains/2', 'display_name': 'Social Sciences'}}, 'topics': [{'id': 'https://openalex.org/T10102', 'display_name': 'Bibliometric Analysis and Research Evaluation', 'score': 0.9969, 'subfield': {'id': 'https://openalex.org/subfields/1804', 'display_name': 'Statistics, Probability and Uncertainty'}, 'field': {'id': 'https://openalex.org/fields/18', 'display_name': 'Decision Sciences'}, 'domain': {'id': 'https://openalex.org/domains/2', 'display_name': 'Social Sciences'}}, {'id': 'https://openalex.org/T13607', 'display_name': 'Preprints in Scientific Communication', 'score': 0.9807, 'subfield': {'id': 'https://openalex.org/subfields/1802', 'display_name': 'Information Systems and Management'}, 'field': {'id': 'https://openalex.org/fields/18', 'display_name': 'Decision Sciences'}, 'domain': {'id': 'https://openalex.org/domains/2', 'display_name': 'Social Sciences'}}, {'id': 'https://openalex.org/T11937', 'display_name': 'Data Sharing and Stewardship in Science', 'score': 0.9185, 'subfield': {'id': 'https://openalex.org/subfields/1710', 'display_name': 'Information Systems'}, 'field': {'id': 'https://openalex.org/fields/17', 'display_name': 'Computer Science'}, 'domain': {'id': 'https://openalex.org/domains/3', 'display_name': 'Physical Sciences'}}], 'keywords': [{'id': 'https://openalex.org/keywords/scholarly-communication', 'display_name': 'Scholarly communication', 'score': 0.5683152}, {'id': 'https://openalex.org/keywords/open-access-publishing', 'display_name': 'Open Access Publishing', 'score': 0.539724}, {'id': 'https://openalex.org/keywords/web-of-science', 'display_name': 'Web of science', 'score': 0.5055373}, {'id': 'https://openalex.org/keywords/open-science', 'display_name': 'Open science', 'score': 0.48734793}, {'id': 'https://openalex.org/keywords/citation-analysis', 'display_name': 'Citation analysis', 'score': 0.43920913}], 'concepts': [{'id': 'https://openalex.org/C2778805511', 'wikidata': 'https://www.wikidata.org/wiki/Q1713', 'display_name': 'Citation', 'level': 2, 'score': 0.68818974}, {'id': 'https://openalex.org/C2780560020', 'wikidata': 'https://www.wikidata.org/wiki/Q79719', 'display_name': 'License', 'level': 2, 'score': 0.5919564}, {'id': 'https://openalex.org/C2777462167', 'wikidata': 'https://www.wikidata.org/wiki/Q7432048', 'display_name': 'Scholarly communication', 'level': 3, 'score': 0.5683152}, {'id': 'https://openalex.org/C3020774429', 'wikidata': 'https://www.wikidata.org/wiki/Q1201886', 'display_name': 'Web of science', 'level': 3, 'score': 0.5055373}, {'id': 'https://openalex.org/C178315738', 'wikidata': 'https://www.wikidata.org/wiki/Q603441', 'display_name': 'Bibliometrics', 'level': 2, 'score': 0.4962271}, {'id': 'https://openalex.org/C2778149293', 'wikidata': 'https://www.wikidata.org/wiki/Q309823', 'display_name': 'Open science', 'level': 2, 'score': 0.48734793}, {'id': 'https://openalex.org/C41008148', 'wikidata': 'https://www.wikidata.org/wiki/Q21198', 'display_name': 'Computer science', 'level': 0, 'score': 0.45299834}, {'id': 'https://openalex.org/C136764020', 'wikidata': 'https://www.wikidata.org/wiki/Q466', 'display_name': 'World Wide Web', 'level': 1, 'score': 0.45292723}, {'id': 'https://openalex.org/C105345328', 'wikidata': 'https://www.wikidata.org/wiki/Q206276', 'display_name': 'Citation analysis', 'level': 3, 'score': 0.43920913}, {'id': 'https://openalex.org/C71924100', 'wikidata': 'https://www.wikidata.org/wiki/Q11190', 'display_name': 'Medicine', 'level': 0, 'score': 0.38992488}, {'id': 'https://openalex.org/C161191863', 'wikidata': 'https://www.wikidata.org/wiki/Q199655', 'display_name': 'Library science', 'level': 1, 'score': 0.37244928}, {'id': 'https://openalex.org/C17744445', 'wikidata': 'https://www.wikidata.org/wiki/Q36442', 'display_name': 'Political science', 'level': 0, 'score': 0.24154112}, {'id': 'https://openalex.org/C95190672', 'wikidata': 'https://www.wikidata.org/wiki/Q815382', 'display_name': 'Meta-analysis', 'level': 2, 'score': 0.15993848}, {'id': 'https://openalex.org/C126322002', 'wikidata': 'https://www.wikidata.org/wiki/Q11180', 'display_name': 'Internal medicine', 'level': 1, 'score': 0.1485905}, {'id': 'https://openalex.org/C105795698', 'wikidata': 'https://www.wikidata.org/wiki/Q12483', 'display_name': 'Statistics', 'level': 1, 'score': 0.13449502}, {'id': 'https://openalex.org/C33923547', 'wikidata': 'https://www.wikidata.org/wiki/Q395', 'display_name': 'Mathematics', 'level': 0, 'score': 0.11654329}, {'id': 'https://openalex.org/C151719136', 'wikidata': 'https://www.wikidata.org/wiki/Q3972943', 'display_name': 'Publishing', 'level': 2, 'score': 0.0}, {'id': 'https://openalex.org/C199539241', 'wikidata': 'https://www.wikidata.org/wiki/Q7748', 'display_name': 'Law', 'level': 1, 'score': 0.0}, {'id': 'https://openalex.org/C111919701', 'wikidata': 'https://www.wikidata.org/wiki/Q9135', 'display_name': 'Operating system', 'level': 1, 'score': 0.0}], 'mesh': [], 'locations_count': 7, 'locations': [{'is_oa': True, 'landing_page_url': 'https://doi.org/10.7717/peerj.4375', 'pdf_url': 'https://peerj.com/articles/4375.pdf', 'source': {'id': 'https://openalex.org/S1983995261', 'display_name': 'PeerJ', 'issn_l': '2167-8359', 'issn': ['2167-8359'], 'is_oa': True, 'is_in_doaj': True, 'is_core': True, 'host_organization': 'https://openalex.org/P4310320104', 'host_organization_name': 'PeerJ, Inc.', 'host_organization_lineage': ['https://openalex.org/P4310320104'], 'host_organization_lineage_names': ['PeerJ, Inc.'], 'type': 'journal'}, 'license': 'cc-by', 'license_id': 'https://openalex.org/licenses/cc-by', 'version': 'publishedVersion', 'is_accepted': True, 'is_published': True}, {'is_oa': False, 'landing_page_url': 'https://doaj.org/article/13b0006802e745a6973c19b2ecb9b97a', 'pdf_url': None, 'source': {'id': 'https://openalex.org/S4306401280', 'display_name': 'DOAJ (DOAJ: Directory of Open Access Journals)', 'issn_l': None, 'issn': None, 'is_oa': True, 'is_in_doaj': False, 'is_core': False, 'host_organization': None, 'host_organization_name': None, 'host_organization_lineage': [], 'host_organization_lineage_names': [], 'type': 'repository'}, 'license': None, 'license_id': None, 'version': None, 'is_accepted': False, 'is_published': False}, {'is_oa': True, 'landing_page_url': 'https://europepmc.org/articles/pmc5815332', 'pdf_url': 'https://europepmc.org/articles/pmc5815332?pdf=render', 'source': {'id': 'https://openalex.org/S4306400806', 'display_name': 'Europe PMC (PubMed Central)', 'issn_l': None, 'issn': None, 'is_oa': True, 'is_in_doaj': False, 'is_core': False, 'host_organization': 'https://openalex.org/I1303153112', 'host_organization_name': 'European Bioinformatics Institute', 'host_organization_lineage': ['https://openalex.org/I1303153112'], 'host_organization_lineage_names': ['European Bioinformatics Institute'], 'type': 'repository'}, 'license': 'cc-by', 'license_id': 'https://openalex.org/licenses/cc-by', 'version': 'publishedVersion', 'is_accepted': True, 'is_published': True}, {'is_oa': True, 'landing_page_url': 'https://www.ncbi.nlm.nih.gov/pmc/articles/PMC5815332', 'pdf_url': None, 'source': {'id': 'https://openalex.org/S2764455111', 'display_name': 'PubMed Central', 'issn_l': None, 'issn': None, 'is_oa': True, 'is_in_doaj': False, 'is_core': False, 'host_organization': 'https://openalex.org/I1299303238', 'host_organization_name': 'National Institutes of Health', 'host_organization_lineage': ['https://openalex.org/I1299303238'], 'host_organization_lineage_names': ['National Institutes of Health'], 'type': 'repository'}, 'license': None, 'license_id': None, 'version': 'publishedVersion', 'is_accepted': True, 'is_published': True}, {'is_oa': True, 'landing_page_url': 'http://hdl.handle.net/1866/23242', 'pdf_url': 'https://papyrus.bib.umontreal.ca/xmlui/bitstream/1866/23242/1/peerj-06-4375.pdf', 'source': {'id': 'https://openalex.org/S4306402422', 'display_name': 'Papyrus : Institutional Repository (Université de Montréal)', 'issn_l': None, 'issn': None, 'is_oa': True, 'is_in_doaj': False, 'is_core': False, 'host_organization': 'https://openalex.org/I70931966', 'host_organization_name': 'Université de Montréal', 'host_organization_lineage': ['https://openalex.org/I70931966'], 'host_organization_lineage_names': ['Université de Montréal'], 'type': 'repository'}, 'license': 'cc-by', 'license_id': 'https://openalex.org/licenses/cc-by', 'version': 'submittedVersion', 'is_accepted': False, 'is_published': False}, {'is_oa': True, 'landing_page_url': 'https://digitalcommons.unl.edu/cgi/viewcontent.cgi?article=1143&context=scholcom', 'pdf_url': 'https://digitalcommons.unl.edu/cgi/viewcontent.cgi?article=1143&context=scholcom', 'source': {'id': 'https://openalex.org/S4377196105', 'display_name': 'Digital Commons - University of Nebraska Lincoln (University of Nebraska–Lincoln)', 'issn_l': None, 'issn': None, 'is_oa': False, 'is_in_doaj': False, 'is_core': False, 'host_organization': 'https://openalex.org/I114395901', 'host_organization_name': 'University of Nebraska–Lincoln', 'host_organization_lineage': ['https://openalex.org/I114395901'], 'host_organization_lineage_names': ['University of Nebraska–Lincoln'], 'type': 'repository'}, 'license': 'cc-by', 'license_id': 'https://openalex.org/licenses/cc-by', 'version': 'submittedVersion', 'is_accepted': False, 'is_published': False}, {'is_oa': False, 'landing_page_url': 'https://pubmed.ncbi.nlm.nih.gov/29456894', 'pdf_url': None, 'source': {'id': 'https://openalex.org/S4306525036', 'display_name': 'PubMed', 'issn_l': None, 'issn': None, 'is_oa': False, 'is_in_doaj': False, 'is_core': False, 'host_organization': 'https://openalex.org/I1299303238', 'host_organization_name': 'National Institutes of Health', 'host_organization_lineage': ['https://openalex.org/I1299303238'], 'host_organization_lineage_names': ['National Institutes of Health'], 'type': 'repository'}, 'license': None, 'license_id': None, 'version': None, 'is_accepted': False, 'is_published': False}], 'best_oa_location': {'is_oa': True, 'landing_page_url': 'https://doi.org/10.7717/peerj.4375', 'pdf_url': 'https://peerj.com/articles/4375.pdf', 'source': {'id': 'https://openalex.org/S1983995261', 'display_name': 'PeerJ', 'issn_l': '2167-8359', 'issn': ['2167-8359'], 'is_oa': True, 'is_in_doaj': True, 'is_core': True, 'host_organization': 'https://openalex.org/P4310320104', 'host_organization_name': 'PeerJ, Inc.', 'host_organization_lineage': ['https://openalex.org/P4310320104'], 'host_organization_lineage_names': ['PeerJ, Inc.'], 'type': 'journal'}, 'license': 'cc-by', 'license_id': 'https://openalex.org/licenses/cc-by', 'version': 'publishedVersion', 'is_accepted': True, 'is_published': True}, 'sustainable_development_goals': [], 'grants': [], 'datasets': [], 'versions': [], 'referenced_works_count': 45, 'referenced_works': ['https://openalex.org/W1560783210', 'https://openalex.org/W1724212071', 'https://openalex.org/W1767272795', 'https://openalex.org/W1917633107', 'https://openalex.org/W1931854307', 'https://openalex.org/W1944943415', 'https://openalex.org/W1957687230', 'https://openalex.org/W1989318653', 'https://openalex.org/W1994426000', 'https://openalex.org/W2003844967', 'https://openalex.org/W2016860460', 'https://openalex.org/W2020807482', 'https://openalex.org/W2029057325', 'https://openalex.org/W2031754690', 'https://openalex.org/W2048185449', 'https://openalex.org/W2078310052', 'https://openalex.org/W2089123513', 'https://openalex.org/W2115339903', 'https://openalex.org/W2140880926', 'https://openalex.org/W2160597895', 'https://openalex.org/W2231201268', 'https://openalex.org/W2299516731', 'https://openalex.org/W2306268324', 'https://openalex.org/W2322381034', 'https://openalex.org/W2343014812', 'https://openalex.org/W2345375849', 'https://openalex.org/W2463568293', 'https://openalex.org/W2511661767', 'https://openalex.org/W2511663072', 'https://openalex.org/W2520991028', 'https://openalex.org/W2563251083', 'https://openalex.org/W2566143661', 'https://openalex.org/W2587705861', 'https://openalex.org/W2588027260', 'https://openalex.org/W2611818942', 'https://openalex.org/W2737712680', 'https://openalex.org/W2753353163', 'https://openalex.org/W2762597540', 'https://openalex.org/W2785823074', 'https://openalex.org/W2953072907', 'https://openalex.org/W2997143876', 'https://openalex.org/W3012252063', 'https://openalex.org/W3121567788', 'https://openalex.org/W4254015553', 'https://openalex.org/W4298108315'], 'related_works': ['https://openalex.org/W3203790917', 'https://openalex.org/W3201736257', 'https://openalex.org/W2904800587', 'https://openalex.org/W2608652318', 'https://openalex.org/W2294604317', 'https://openalex.org/W2285613965', 'https://openalex.org/W2162430746', 'https://openalex.org/W2086473138', 'https://openalex.org/W2060904856', 'https://openalex.org/W203102807'], 'abstract_inverted_index': {'Despite': [0], 'growing': [1], 'interest': [2], 'in': [3, 57, 73, 110, 122], 'Open': [4, 201], 'Access': [5], '(OA)': [6], 'to': [7, 54, 252], 'scholarly': [8, 105], 'literature,': [9], 'there': [10], 'is': [11, 107, 116, 176], 'an': [12, 34, 85, 185, 199, 231], 'unmet': [13], 'need': [14, 31], 'for': [15, 42, 174, 219], 'large-scale,': [16], 'up-to-date,': [17], 'and': [18, 24, 77, 112, 124, 144, 221, 237, 256], 'reproducible': [19], 'studies': [20], 'assessing': [21], 'the': [22, 104, 134, 145, 170, 195, 206, 213, 245], 'prevalence': [23], 'characteristics': [25], 'of': [26, 51, 75, 83, 103, 137, 141, 163, 209], 'OA.': [27, 168, 239], 'We': [28, 46, 97, 203, 240], 'address': [29], 'this': [30, 114, 142], 'using': [32, 95, 244], 'oaDOI,': [33], 'open': [35], 'online': [36], 'service': [37], 'that': [38, 89, 99, 113, 147, 155], 'determines': [39], 'OA': [40, 56, 93, 108, 138, 159, 175, 210, 223, 254], 'status': [41], '67': [43], 'million': [44], 'articles.': [45], 'use': [47], 'three': [48, 58], 'samples,': [49], 'each': [50], '100,000': [52], 'articles,': [53, 152, 211], 'investigate': [55], 'populations:': [59], '(1)': [60], 'all': [61], 'journal': [62, 70], 'articles': [63, 71, 79, 94, 164, 191, 224], 'assigned': [64], 'a': [65, 250], 'Crossref': [66], 'DOI,': [67], '(2)': [68], 'recent': [69, 128], 'indexed': [72], 'Web': [74], 'Science,': [76], '(3)': [78], 'viewed': [80], 'by': [81, 120, 235], 'users': [82, 91, 157], 'Unpaywall,': [84], 'open-source': [86], 'browser': [87], 'extension': [88], 'lets': [90], 'find': [92, 154], 'oaDOI.': [96], 'estimate': [98], 'at': [100], 'least': [101], '28%': [102], 'literature': [106], '(19M': [109], 'total)': [111], 'proportion': [115], 'growing,': [117], 'driven': [118, 233], 'particularly': [119], 'growth': [121], 'Gold': [123], 'Hybrid.': [125], 'The': [126], 'most': [127, 171], 'year': [129], 'analyzed': [130], '(2015)': [131], 'also': [132, 204], 'has': [133], 'highest': [135], 'percentage': [136], '(45%).': [139], 'Because': [140], 'growth,': [143], 'fact': [146], 'readers': [148], 'disproportionately': [149], 'access': [150], 'newer': [151], 'we': [153, 188], 'Unpaywall': [156], 'encounter': [158], 'quite': [160], 'frequently:': [161], '47%': [162], 'they': [165], 'view': [166], 'are': [167], 'Notably,': [169], 'common': [172], 'mechanism': [173], 'not': [177], 'Gold,': [178], 'Green,': [179], 'or': [180], 'Hybrid': [181, 238], 'OA,': [182], 'but': [183], 'rather': [184], 'under-discussed': [186], 'category': [187], 'dub': [189], 'Bronze:': [190], 'made': [192], 'free-to-read': [193], 'on': [194], 'publisher': [196], 'website,': [197], 'without': [198], 'explicit': [200], 'license.': [202], 'examine': [205], 'citation': [207, 216], 'impact': [208], 'corroborating': [212], 'so-called': [214], 'open-access': [215], 'advantage:': [217], 'accounting': [218], 'age': [220], 'discipline,': [222], 'receive': [225], '18%': [226], 'more': [227], 'citations': [228], 'than': [229], 'average,': [230], 'effect': [232], 'primarily': [234], 'Green': [236], 'encourage': [241], 'further': [242], 'research': [243], 'free': [246], 'oaDOI': [247], 'service,': [248], 'as': [249], 'way': [251], 'inform': [253], 'policy': [255], 'practice.': [257]}, 'cited_by_api_url': 'https://api.openalex.org/works?filter=cites:W2741809807', 'counts_by_year': [{'year': 2024, 'cited_by_count': 83}, {'year': 2023, 'cited_by_count': 133}, {'year': 2022, 'cited_by_count': 141}, {'year': 2021, 'cited_by_count': 133}, {'year': 2020, 'cited_by_count': 174}, {'year': 2019, 'cited_by_count': 112}, {'year': 2018, 'cited_by_count': 57}, {'year': 2017, 'cited_by_count': 9}], 'updated_date': '2024-09-02T16:46:12.829368', 'created_date': '2017-08-08'}\n",
      "{'id': 'https://openalex.org/W2122130843', 'doi': 'https://doi.org/10.5210/fm.v15i7.2874', 'title': 'Scientometrics 2.0: New metrics of scholarly impact on the social Web', 'display_name': 'Scientometrics 2.0: New metrics of scholarly impact on the social Web', 'publication_year': 2010, 'publication_date': '2010-07-02', 'ids': {'openalex': 'https://openalex.org/W2122130843', 'doi': 'https://doi.org/10.5210/fm.v15i7.2874', 'mag': '2122130843'}, 'language': 'en', 'primary_location': {'is_oa': False, 'landing_page_url': 'https://doi.org/10.5210/fm.v15i7.2874', 'pdf_url': None, 'source': {'id': 'https://openalex.org/S102129144', 'display_name': 'First Monday', 'issn_l': '1396-0458', 'issn': ['1396-0458', '1396-0466'], 'is_oa': False, 'is_in_doaj': False, 'is_core': True, 'host_organization': 'https://openalex.org/P4310316040', 'host_organization_name': 'University of Illinois at Chicago', 'host_organization_lineage': ['https://openalex.org/P4310316040'], 'host_organization_lineage_names': ['University of Illinois at Chicago'], 'type': 'journal'}, 'license': None, 'license_id': None, 'version': None, 'is_accepted': False, 'is_published': False}, 'type': 'article', 'type_crossref': 'journal-article', 'indexed_in': ['crossref'], 'open_access': {'is_oa': False, 'oa_status': 'closed', 'oa_url': None, 'any_repository_has_fulltext': False}, 'authorships': [{'author_position': 'first', 'author': {'id': 'https://openalex.org/A5023888391', 'display_name': 'Jason Priem', 'orcid': 'https://orcid.org/0000-0001-6187-6610'}, 'institutions': [{'id': 'https://openalex.org/I114027177', 'display_name': 'University of North Carolina at Chapel Hill', 'ror': 'https://ror.org/0130frc33', 'country_code': 'US', 'type': 'education', 'lineage': ['https://openalex.org/I114027177']}], 'countries': ['US'], 'is_corresponding': False, 'raw_author_name': 'Jason Priem', 'raw_affiliation_strings': ['School of Information and Library Science, University of North Carolina at Chapel Hill'], 'affiliations': [{'raw_affiliation_string': 'School of Information and Library Science, University of North Carolina at Chapel Hill', 'institution_ids': ['https://openalex.org/I114027177']}]}, {'author_position': 'last', 'author': {'id': 'https://openalex.org/A5001395463', 'display_name': 'Bradely H. Hemminger', 'orcid': None}, 'institutions': [{'id': 'https://openalex.org/I114027177', 'display_name': 'University of North Carolina at Chapel Hill', 'ror': 'https://ror.org/0130frc33', 'country_code': 'US', 'type': 'education', 'lineage': ['https://openalex.org/I114027177']}], 'countries': ['US'], 'is_corresponding': False, 'raw_author_name': 'Bradely H. Hemminger', 'raw_affiliation_strings': ['School of Information and Library Science, University of North Carolina at Chapel Hill'], 'affiliations': [{'raw_affiliation_string': 'School of Information and Library Science, University of North Carolina at Chapel Hill', 'institution_ids': ['https://openalex.org/I114027177']}]}], 'countries_distinct_count': 1, 'institutions_distinct_count': 1, 'corresponding_author_ids': [], 'corresponding_institution_ids': [], 'apc_list': None, 'apc_paid': None, 'fwci': 10.048, 'has_fulltext': False, 'cited_by_count': 371, 'citation_normalized_percentile': {'value': 0.999842, 'is_in_top_1_percent': True, 'is_in_top_10_percent': True}, 'cited_by_percentile_year': {'min': 99, 'max': 100}, 'biblio': {'volume': None, 'issue': None, 'first_page': None, 'last_page': None}, 'is_retracted': False, 'is_paratext': False, 'primary_topic': {'id': 'https://openalex.org/T10064', 'display_name': 'Statistical Mechanics of Complex Networks', 'score': 0.945, 'subfield': {'id': 'https://openalex.org/subfields/3109', 'display_name': 'Statistical and Nonlinear Physics'}, 'field': {'id': 'https://openalex.org/fields/31', 'display_name': 'Physics and Astronomy'}, 'domain': {'id': 'https://openalex.org/domains/3', 'display_name': 'Physical Sciences'}}, 'topics': [{'id': 'https://openalex.org/T10064', 'display_name': 'Statistical Mechanics of Complex Networks', 'score': 0.945, 'subfield': {'id': 'https://openalex.org/subfields/3109', 'display_name': 'Statistical and Nonlinear Physics'}, 'field': {'id': 'https://openalex.org/fields/31', 'display_name': 'Physics and Astronomy'}, 'domain': {'id': 'https://openalex.org/domains/3', 'display_name': 'Physical Sciences'}}, {'id': 'https://openalex.org/T10102', 'display_name': 'Bibliometric Analysis and Research Evaluation', 'score': 0.9425, 'subfield': {'id': 'https://openalex.org/subfields/1804', 'display_name': 'Statistics, Probability and Uncertainty'}, 'field': {'id': 'https://openalex.org/fields/18', 'display_name': 'Decision Sciences'}, 'domain': {'id': 'https://openalex.org/domains/2', 'display_name': 'Social Sciences'}}, {'id': 'https://openalex.org/T13976', 'display_name': 'Webometrics Analysis in Academic Research', 'score': 0.9262, 'subfield': {'id': 'https://openalex.org/subfields/1710', 'display_name': 'Information Systems'}, 'field': {'id': 'https://openalex.org/fields/17', 'display_name': 'Computer Science'}, 'domain': {'id': 'https://openalex.org/domains/3', 'display_name': 'Physical Sciences'}}], 'keywords': [{'id': 'https://openalex.org/keywords/bookmarking', 'display_name': 'Bookmarking', 'score': 0.9785063}, {'id': 'https://openalex.org/keywords/microblogging', 'display_name': 'Microblogging', 'score': 0.7313243}, {'id': 'https://openalex.org/keywords/altmetrics', 'display_name': 'Altmetrics', 'score': 0.69323653}, {'id': 'https://openalex.org/keywords/academic-web-impact', 'display_name': 'Academic Web Impact', 'score': 0.561384}, {'id': 'https://openalex.org/keywords/bibliometric-analysis', 'display_name': 'Bibliometric Analysis', 'score': 0.525217}, {'id': 'https://openalex.org/keywords/webometrics', 'display_name': 'Webometrics', 'score': 0.520306}, {'id': 'https://openalex.org/keywords/internet-research', 'display_name': 'Internet Research', 'score': 0.513266}, {'id': 'https://openalex.org/keywords/social-network-analysis', 'display_name': 'Social Network Analysis', 'score': 0.509555}, {'id': 'https://openalex.org/keywords/value', 'display_name': 'Value (mathematics)', 'score': 0.4389456}], 'concepts': [{'id': 'https://openalex.org/C176504155', 'wikidata': 'https://www.wikidata.org/wiki/Q4943254', 'display_name': 'Bookmarking', 'level': 2, 'score': 0.9785063}, {'id': 'https://openalex.org/C143275388', 'wikidata': 'https://www.wikidata.org/wiki/Q92438', 'display_name': 'Microblogging', 'level': 3, 'score': 0.7313243}, {'id': 'https://openalex.org/C2778407487', 'wikidata': 'https://www.wikidata.org/wiki/Q14565201', 'display_name': 'Altmetrics', 'level': 2, 'score': 0.69323653}, {'id': 'https://openalex.org/C518677369', 'wikidata': 'https://www.wikidata.org/wiki/Q202833', 'display_name': 'Social media', 'level': 2, 'score': 0.6859108}, {'id': 'https://openalex.org/C136764020', 'wikidata': 'https://www.wikidata.org/wiki/Q466', 'display_name': 'World Wide Web', 'level': 1, 'score': 0.63723254}, {'id': 'https://openalex.org/C41008148', 'wikidata': 'https://www.wikidata.org/wiki/Q21198', 'display_name': 'Computer science', 'level': 0, 'score': 0.6299458}, {'id': 'https://openalex.org/C2778805511', 'wikidata': 'https://www.wikidata.org/wiki/Q1713', 'display_name': 'Citation', 'level': 2, 'score': 0.6135862}, {'id': 'https://openalex.org/C136699151', 'wikidata': 'https://www.wikidata.org/wiki/Q131164', 'display_name': 'Web 2.0', 'level': 3, 'score': 0.56478894}, {'id': 'https://openalex.org/C2522767166', 'wikidata': 'https://www.wikidata.org/wiki/Q2374463', 'display_name': 'Data science', 'level': 1, 'score': 0.5443489}, {'id': 'https://openalex.org/C525823164', 'wikidata': 'https://www.wikidata.org/wiki/Q472342', 'display_name': 'Scientometrics', 'level': 2, 'score': 0.51665455}, {'id': 'https://openalex.org/C178315738', 'wikidata': 'https://www.wikidata.org/wiki/Q603441', 'display_name': 'Bibliometrics', 'level': 2, 'score': 0.44123963}, {'id': 'https://openalex.org/C2776291640', 'wikidata': 'https://www.wikidata.org/wiki/Q2912517', 'display_name': 'Value (mathematics)', 'level': 2, 'score': 0.4389456}, {'id': 'https://openalex.org/C35578498', 'wikidata': 'https://www.wikidata.org/wiki/Q193424', 'display_name': 'Web service', 'level': 2, 'score': 0.36668122}, {'id': 'https://openalex.org/C119857082', 'wikidata': 'https://www.wikidata.org/wiki/Q2539', 'display_name': 'Machine learning', 'level': 1, 'score': 0.0}], 'mesh': [], 'locations_count': 1, 'locations': [{'is_oa': False, 'landing_page_url': 'https://doi.org/10.5210/fm.v15i7.2874', 'pdf_url': None, 'source': {'id': 'https://openalex.org/S102129144', 'display_name': 'First Monday', 'issn_l': '1396-0458', 'issn': ['1396-0458', '1396-0466'], 'is_oa': False, 'is_in_doaj': False, 'is_core': True, 'host_organization': 'https://openalex.org/P4310316040', 'host_organization_name': 'University of Illinois at Chicago', 'host_organization_lineage': ['https://openalex.org/P4310316040'], 'host_organization_lineage_names': ['University of Illinois at Chicago'], 'type': 'journal'}, 'license': None, 'license_id': None, 'version': None, 'is_accepted': False, 'is_published': False}], 'best_oa_location': None, 'sustainable_development_goals': [{'id': 'https://metadata.un.org/sdg/4', 'score': 0.46, 'display_name': 'Quality education'}], 'grants': [], 'datasets': [], 'versions': [], 'referenced_works_count': 0, 'referenced_works': [], 'related_works': ['https://openalex.org/W4385506752', 'https://openalex.org/W4210725730', 'https://openalex.org/W3145450668', 'https://openalex.org/W3115068246', 'https://openalex.org/W2803459330', 'https://openalex.org/W2578464', 'https://openalex.org/W2523185919', 'https://openalex.org/W2137224556', 'https://openalex.org/W2098903378', 'https://openalex.org/W2034807921'], 'abstract_inverted_index': {'The': [0], 'growing': [1], 'flood': [2], 'of': [3, 10, 14, 31, 61, 71, 82], 'scholarly': [4], 'literature': [5], 'is': [6, 24], 'exposing': [7], 'the': [8, 27, 67, 77, 89, 99], 'weaknesses': [9], 'current,': [11], 'citation-based': [12], 'methods': [13], 'evaluating': [15], 'and': [16, 21, 29, 43, 57, 80, 94], 'filtering': [17], 'articles.': [18], 'A': [19], 'novel': [20], 'promising': [22], 'approach': [23], 'to': [25, 74], 'examine': [26], 'use': [28], 'citation': [30], 'articles': [32], 'in': [33], 'a': [34, 52], 'new': [35], 'forum:': [36], 'Web': [37], '2.0': [38], 'services': [39, 73], 'like': [40], 'social': [41, 100], 'bookmarking': [42], 'microblogging.': [44], 'Metrics': [45], 'based': [46], 'on': [47], 'this': [48], 'data': [49, 83], 'could': [50], 'build': [51], '“Scientometics': [53], '2.0,”': [54], 'supporting': [55], 'richer': [56], 'more': [58], 'timely': [59], 'pictures': [60], \"articles'\": [62], 'impact.': [63], 'This': [64], 'paper': [65], 'develops': [66], 'most': [68], 'comprehensive': [69], 'list': [70], 'these': [72], 'date,': [75], 'assessing': [76], 'potential': [78], 'value': [79], 'availability': [81], 'from': [84, 98], 'each.': [85], 'We': [86], 'also': [87], 'suggest': [88], 'next': [90], 'steps': [91], 'toward': [92], 'building': [93], 'validating': [95], 'metrics': [96], 'drawn': [97], 'Web.': [101]}, 'cited_by_api_url': 'https://api.openalex.org/works?filter=cites:W2122130843', 'counts_by_year': [{'year': 2024, 'cited_by_count': 8}, {'year': 2023, 'cited_by_count': 18}, {'year': 2022, 'cited_by_count': 28}, {'year': 2021, 'cited_by_count': 13}, {'year': 2020, 'cited_by_count': 29}, {'year': 2019, 'cited_by_count': 27}, {'year': 2018, 'cited_by_count': 28}, {'year': 2017, 'cited_by_count': 39}, {'year': 2016, 'cited_by_count': 31}, {'year': 2015, 'cited_by_count': 32}, {'year': 2014, 'cited_by_count': 43}, {'year': 2013, 'cited_by_count': 33}, {'year': 2012, 'cited_by_count': 22}], 'updated_date': '2024-09-10T02:03:17.211885', 'created_date': '2016-06-24'}\n"
     ]
    },
    {
     "data": {
      "text/plain": [
       "dict_keys(['id', 'doi', 'title', 'display_name', 'publication_year', 'publication_date', 'ids', 'language', 'primary_location', 'type', 'type_crossref', 'indexed_in', 'open_access', 'authorships', 'countries_distinct_count', 'institutions_distinct_count', 'corresponding_author_ids', 'corresponding_institution_ids', 'apc_list', 'apc_paid', 'fwci', 'has_fulltext', 'fulltext_origin', 'cited_by_count', 'citation_normalized_percentile', 'cited_by_percentile_year', 'biblio', 'is_retracted', 'is_paratext', 'primary_topic', 'topics', 'keywords', 'concepts', 'mesh', 'locations_count', 'locations', 'best_oa_location', 'sustainable_development_goals', 'grants', 'datasets', 'versions', 'referenced_works_count', 'referenced_works', 'related_works', 'abstract_inverted_index', 'cited_by_api_url', 'counts_by_year', 'updated_date', 'created_date'])"
      ]
     },
     "execution_count": 59,
     "metadata": {},
     "output_type": "execute_result"
    }
   ],
   "source": [
    "print(search_results[\"results\"][0])\n",
    "print(search_results[\"results\"][1])\n",
    "\n",
    "search_results[\"results\"][0].keys()"
   ]
  },
  {
   "cell_type": "markdown",
   "metadata": {},
   "source": [
    "<font size =\"5\">\n",
    "\n",
    "Gradually work through the nested structure!"
   ]
  },
  {
   "cell_type": "markdown",
   "metadata": {},
   "source": [
    "<font size = \"5\">\n",
    "\n",
    "Try it yourself!\n",
    "\n",
    "<font size = \"3\">\n",
    "\n",
    "- Navigate the \"results\" file using the JSON Data Viewer\n",
    "- Use the \"jmes.search()\" to extract the \"title\" of all the <br>\n",
    "search results.\n"
   ]
  },
  {
   "cell_type": "code",
   "execution_count": 60,
   "metadata": {},
   "outputs": [],
   "source": [
    "# Write your own code\n",
    "\n",
    "\n"
   ]
  },
  {
   "cell_type": "markdown",
   "metadata": {},
   "source": [
    "<font size = \"5\">\n",
    "\n",
    "Try it yourself!\n",
    "\n",
    "<font size = \"3\">\n",
    "\n",
    "- Convert ```search_results[\"results\"]``` to a Pandas dataframe\n",
    "- Are there any columns with conversion issues?\n",
    "\n",
    "Note: Pandas conversion can into issues for variables, with <br>\n",
    "several levels of nesting and more data cleaning may be required <br>\n",
    "to properly code these cases."
   ]
  },
  {
   "cell_type": "code",
   "execution_count": 61,
   "metadata": {},
   "outputs": [],
   "source": [
    "# Write your own code\n",
    "\n",
    "\n"
   ]
  },
  {
   "cell_type": "markdown",
   "metadata": {},
   "source": [
    "# <span style=\"color:darkblue\"> IV. Hands-on Experience </span>"
   ]
  },
  {
   "cell_type": "markdown",
   "metadata": {},
   "source": [
    "The Open Library also contains bibliographic information.\n",
    "\n",
    "You can search for sports books with the API link\n",
    "\n",
    "http://openlibrary.org/search.json?title=sports\n",
    "\n",
    "1. Get information from this website using requests\n",
    "2. Store the result in a JSON file and open it with data viewer.\n",
    "2. Find out the main keys\n",
    "3. How many search results are there?\n",
    "4. What data can you obtain? Think carefully about <br>\n",
    "how to convert this into a workable pandas format"
   ]
  },
  {
   "cell_type": "code",
   "execution_count": 62,
   "metadata": {},
   "outputs": [],
   "source": [
    "# Write your own code\n",
    "\n",
    "\n",
    "\n",
    "\n",
    "\n"
   ]
  },
  {
   "cell_type": "markdown",
   "metadata": {},
   "source": [
    "# <span style=\"color:darkblue\"> V. Further Reading </span>"
   ]
  },
  {
   "cell_type": "markdown",
   "metadata": {},
   "source": [
    "<font size = \"5\">\n",
    "\n",
    "Learn more about how to use advanced JSON queries with JMES at\n",
    "\n",
    "- This can be very useful to navigate the nested structure\n",
    "- Examples of syntax and advanced search terms\n",
    "\n",
    "https://jmespath.org/tutorial.html"
   ]
  },
  {
   "cell_type": "markdown",
   "metadata": {},
   "source": [
    "<font size = \"5\">\n",
    "\n",
    "Learn more about JSON at <br>\n",
    "\n",
    "https://www.w3schools.com/js/js_json_intro.asp"
   ]
  },
  {
   "cell_type": "markdown",
   "metadata": {},
   "source": [
    "<font size = \"5\">\n",
    "\n",
    "https://saturncloud.io/blog/how-to-convert-nested-json-to-pandas-dataframe-with-specific-format/\n"
   ]
  },
  {
   "cell_type": "markdown",
   "metadata": {},
   "source": [
    "<font size = \"5\">\n",
    "\n",
    "Check the following textbook on our reading list, Chapter 7:\n",
    "\n",
    "https://www.amazon.com/Introduction-Programming-Business-Science-Applications/dp/1544377444"
   ]
  },
  {
   "cell_type": "markdown",
   "metadata": {},
   "source": [
    "<font size = \"5\">\n",
    "\n",
    "There are several online resources for further practice at:\n",
    "\n",
    "https://study.sagepub.com/researchmethods/statistics/kaefer-intro-to-python"
   ]
  }
 ],
 "metadata": {
  "kernelspec": {
   "display_name": "base",
   "language": "python",
   "name": "python3"
  },
  "language_info": {
   "codemirror_mode": {
    "name": "ipython",
    "version": 3
   },
   "file_extension": ".py",
   "mimetype": "text/x-python",
   "name": "python",
   "nbconvert_exporter": "python",
   "pygments_lexer": "ipython3",
   "version": "3.9.18"
  },
  "orig_nbformat": 4,
  "vscode": {
   "interpreter": {
    "hash": "45fc1f684f6f416f40889115beff3ddf69879b64cf4bfee48cb72a61e9d15d1a"
   }
  }
 },
 "nbformat": 4,
 "nbformat_minor": 2
}
