{
 "cells": [
  {
   "cell_type": "markdown",
   "metadata": {},
   "source": [
    "# <span style=\"color:darkblue\"> Lecture 5c - Introduction to HTML </span>\n",
    "\n",
    "<font size = \"5\">\n",
    "\n",
    "- HTML stands for hypertext markdown language\n",
    "- Prevalent for web design\n",
    "- Important to understand basic structure of websites for <br>\n",
    "for web scraping projects."
   ]
  },
  {
   "cell_type": "markdown",
   "metadata": {},
   "source": [
    "<font size = \"5\">\n",
    "\n",
    "Import packages"
   ]
  },
  {
   "cell_type": "code",
   "execution_count": 15,
   "metadata": {},
   "outputs": [
    {
     "name": "stderr",
     "output_type": "stream",
     "text": [
      "/var/folders/1b/jzb9ndz97b5260fzr9d8kzyh5f7xd6/T/ipykernel_7444/957484008.py:4: DeprecationWarning: Importing display from IPython.core.display is deprecated since IPython 7.14, please import from IPython display\n",
      "  from IPython.core.display import display, HTML # Allows you to run HTML code from Python\n"
     ]
    }
   ],
   "source": [
    "import requests      # Requests data from an API\n",
    "import json          # Handles JSON object\n",
    "import pandas as pd  # Handles data frames\n",
    "from IPython.core.display import display, HTML # Allows you to run HTML code from Python"
   ]
  },
  {
   "cell_type": "markdown",
   "metadata": {},
   "source": [
    "# <span style=\"color:darkblue\"> I. HTML Basics </span>"
   ]
  },
  {
   "cell_type": "markdown",
   "metadata": {},
   "source": [
    "<font size = 5>\n",
    "\n",
    "HTML is built around containers and tags\n",
    "\n",
    "<font size = 3>\n",
    "\n",
    "- For example, every \".html\" file starts with the tag ``` <html> ``` and ends with ```</html>```\n",
    "- The ending tag has the same name as the beginning, but uses a ``` / ``` symbol\n",
    "- Tag names need to be introduced betweeen ``` < ``` and ``` > ``` symbols.\n",
    "\n",
    "The container is the content between the starting and end tags"
   ]
  },
  {
   "cell_type": "markdown",
   "metadata": {},
   "source": [
    "<font size = \"3\">\n",
    "\n",
    "```html\n",
    "    <html>    \n",
    "\n",
    "    </html>\n",
    "```"
   ]
  },
  {
   "cell_type": "markdown",
   "metadata": {},
   "source": [
    "<font size = 5>\n",
    "\n",
    "HTML has a nested structure of containers within containers\n",
    "\n",
    "<font size = 3>\n",
    "\n",
    "- The ```<head>``` container often contains metadata and title\n",
    "- The ```<body>``` container often has the main content\n",
    "- The ```<title>``` is another example of a container tag\n",
    "- The text \"Search Classes\" is presented as the title"
   ]
  },
  {
   "cell_type": "markdown",
   "metadata": {},
   "source": [
    "<font size = \"3\">\n",
    "\n",
    "```html\n",
    "    <html>\n",
    "        <head>\n",
    "            <title> Your custom title </title>\n",
    "        </head>\n",
    "        <body>\n",
    "            Main content goes here\n",
    "        </body>\n",
    "    </html>\n",
    "```"
   ]
  },
  {
   "cell_type": "markdown",
   "metadata": {},
   "source": [
    "<font size = 5>\n",
    "\n",
    "There are two types of tags:\n",
    "\n",
    "<font size = \"3\">\n",
    "\n",
    "- Container tags, such as ``` <html> ```, ```<head>```, and ```<title>``` <br>\n",
    "which require a closing statement.\n",
    "- Non-container tags such as ```<meta>``` are non-container tags <br>\n",
    "(see example below)"
   ]
  },
  {
   "cell_type": "markdown",
   "metadata": {},
   "source": [
    "<font size = 5>\n",
    "\n",
    "Tags can have attributes\n",
    "\n",
    "<font size = 3>\n",
    "\n",
    "- Attributes usually come in name/value pairs like: name=\"value\""
   ]
  },
  {
   "cell_type": "markdown",
   "metadata": {},
   "source": [
    "```html\n",
    "<html>    \n",
    "    <head>\n",
    "        <meta charset=\"utf-8\">\n",
    "        <meta name=\"description\" content=\"Search Classes\">        \n",
    "        <title> Search Classes </title>\n",
    "    </head>\n",
    "\n",
    "</html>\n",
    "```"
   ]
  },
  {
   "cell_type": "markdown",
   "metadata": {},
   "source": [
    "<font size = 5>\n",
    "\n",
    "You can include comments\n",
    "\n",
    "<font size = 3>\n",
    "\n",
    "- Comments need to start with ```<!--``` and end in ```-->```"
   ]
  },
  {
   "cell_type": "markdown",
   "metadata": {},
   "source": [
    "<font size = \"3\">\n",
    "\n",
    "```{html}\n",
    "\n",
    "<html>\n",
    "    <!-- This is an example of a comment -->\n",
    "</html>\n",
    "\n",
    "```\n"
   ]
  },
  {
   "cell_type": "markdown",
   "metadata": {},
   "source": [
    "# <span style=\"color:darkblue\"> II. Divs, classes, and CSS </span>"
   ]
  },
  {
   "cell_type": "markdown",
   "metadata": {},
   "source": [
    "<font size = \"5\">\n",
    "\n",
    "HTML files often feature a container tag called <br>\n",
    "```<div>```, which stands for division or section.\n",
    "\n",
    "<font size = \"3\">\n",
    "\n",
    "- Typically used to organize the document into several parts\n",
    "- Divs are often associated with a class\n",
    "- Classes are custom names defined by the user"
   ]
  },
  {
   "cell_type": "code",
   "execution_count": 16,
   "metadata": {},
   "outputs": [
    {
     "data": {
      "text/html": [
       "\n",
       "<html>\n",
       "    <body>\n",
       "        <div class = \"semester\"> Fall  </div>\n",
       "    </body>\n",
       "\n",
       "</html>\n"
      ],
      "text/plain": [
       "<IPython.core.display.HTML object>"
      ]
     },
     "metadata": {},
     "output_type": "display_data"
    }
   ],
   "source": [
    "%%html\n",
    "\n",
    "<html>\n",
    "    <body>\n",
    "        <div class = \"semester\"> Fall  </div>\n",
    "    </body>\n",
    "\n",
    "</html>"
   ]
  },
  {
   "cell_type": "markdown",
   "metadata": {},
   "source": [
    "<font size = \"5\">\n",
    "\n",
    "Custom class names are useful to define style formats\n",
    "\n",
    "<font size = \"3\">\n",
    "\n",
    "- Any ```<div>``` will inherit that class's style guides\n",
    "- Styles are defined in CSS (Cascading Style Sheets) <br>\n",
    "which is a type of language specifically used for formatting\n",
    "- This make it easy to define multiple elements with the <br>\n",
    "same format, without having to repeat code.\n",
    "\n",
    "<font size = \"3\">\n",
    "\n",
    "```html\n",
    "\n",
    "  <style>\n",
    "  .semester {\n",
    "    background-color: orange;\n",
    "    color: white;\n",
    "    border: 2px solid black;\n",
    "    margin: 20px;\n",
    "    padding: 20px;\n",
    "  }\n",
    "  </style>\n",
    "\n",
    "```"
   ]
  },
  {
   "cell_type": "markdown",
   "metadata": {},
   "source": [
    "<font size = \"5\">\n",
    "\n",
    "We can see the final output of combining ```div``` with CSS"
   ]
  },
  {
   "cell_type": "code",
   "execution_count": 17,
   "metadata": {},
   "outputs": [
    {
     "data": {
      "text/html": [
       "\n",
       "<html>\n",
       "    <head>\n",
       "        <style>\n",
       "            .semester {\n",
       "            background-color: orange;\n",
       "            color: white;\n",
       "            border: 2px solid black;\n",
       "            margin: 20px;\n",
       "            padding: 20px;\n",
       "            }\n",
       "        </style>\n",
       "    </head>\n",
       "    <body>\n",
       "\n",
       "        <div class=\"semester\">\n",
       "            Fall\n",
       "        </div>\n",
       "\n",
       "        <div class=\"semester\">\n",
       "            Spring\n",
       "        </div>\n",
       "\n",
       "    </body>\n",
       "</html>\n"
      ],
      "text/plain": [
       "<IPython.core.display.HTML object>"
      ]
     },
     "metadata": {},
     "output_type": "display_data"
    }
   ],
   "source": [
    "%%html\n",
    "\n",
    "<html>\n",
    "    <head>\n",
    "        <style>\n",
    "            .semester {\n",
    "            background-color: orange;\n",
    "            color: white;\n",
    "            border: 2px solid black;\n",
    "            margin: 20px;\n",
    "            padding: 20px;\n",
    "            }\n",
    "        </style>\n",
    "    </head>\n",
    "    <body>\n",
    "\n",
    "        <div class=\"semester\">\n",
    "            Fall\n",
    "        </div>\n",
    "\n",
    "        <div class=\"semester\">\n",
    "            Spring\n",
    "        </div>\n",
    "\n",
    "    </body>\n",
    "</html>"
   ]
  },
  {
   "cell_type": "markdown",
   "metadata": {},
   "source": [
    "<font size = \"5\">\n",
    "\n",
    "Try it yourself!\n",
    "\n",
    "Create a style class called ```city``` and creates ```div``` containers <br>\n",
    "with the names of different cities."
   ]
  },
  {
   "cell_type": "code",
   "execution_count": 22,
   "metadata": {},
   "outputs": [],
   "source": [
    "# Write your own code\n",
    "\n",
    "\n"
   ]
  },
  {
   "cell_type": "markdown",
   "metadata": {},
   "source": [
    "# <span style=\"color:darkblue\"> III. Forms </span>"
   ]
  },
  {
   "cell_type": "markdown",
   "metadata": {},
   "source": [
    "<font size = \"5\">\n",
    "\n",
    "You can embed and  call \"html\" code from Python\n",
    "\n",
    "<font size = \"3\">\n",
    "\n",
    "- You can use this ``` %%html ``` and then add your code\n",
    "- The ```%%``` is used to call the magic commands"
   ]
  },
  {
   "cell_type": "markdown",
   "metadata": {},
   "source": [
    "<font size = \"5\">\n",
    "\n",
    "The form container is used for inputting information\n",
    "\n",
    "<font size = \"3\">\n",
    "\n",
    "```html\n",
    "    <form>\n",
    "\n",
    "    </form>\n",
    "```"
   ]
  },
  {
   "cell_type": "markdown",
   "metadata": {},
   "source": [
    "<font size = \"5\">\n",
    "\n",
    "The ```select``` container is a multiple choice form\n",
    "\n",
    "<font size = \"3\">"
   ]
  },
  {
   "cell_type": "code",
   "execution_count": 18,
   "metadata": {},
   "outputs": [
    {
     "data": {
      "text/html": [
       "\n",
       "<form>\n",
       "    <select>\n",
       "        <option value=\"1\"> Computing </option>\n",
       "        <option value=\"2\"> Applied </option>\n",
       "        <option value=\"3\"> Reasoning </option>\n",
       "    </select>\n",
       "</form>\n"
      ],
      "text/plain": [
       "<IPython.core.display.HTML object>"
      ]
     },
     "metadata": {},
     "output_type": "display_data"
    }
   ],
   "source": [
    "%%html\n",
    "\n",
    "<form>\n",
    "    <select>\n",
    "        <option value=\"1\"> Computing </option>\n",
    "        <option value=\"2\"> Applied </option>\n",
    "        <option value=\"3\"> Reasoning </option>\n",
    "    </select>\n",
    "</form>\n"
   ]
  },
  {
   "cell_type": "markdown",
   "metadata": {},
   "source": [
    "<font size = \"5\">\n",
    "\n",
    "```labels``` and ```inputs``` are useful\n",
    "\n",
    "- Labels add some text above an input item\n",
    "- Inputs create a box for the user to enter data"
   ]
  },
  {
   "cell_type": "code",
   "execution_count": 19,
   "metadata": {},
   "outputs": [
    {
     "data": {
      "text/html": [
       "\n",
       "<form>\n",
       "  <label for=\"fname\">First name:</label><br>\n",
       "  <input type=\"text\" id=\"fname\" value=\"John\"><br><br>\n",
       "</form>\n"
      ],
      "text/plain": [
       "<IPython.core.display.HTML object>"
      ]
     },
     "metadata": {},
     "output_type": "display_data"
    }
   ],
   "source": [
    "%%html\n",
    "\n",
    "<form>\n",
    "  <label for=\"fname\">First name:</label><br>\n",
    "  <input type=\"text\" id=\"fname\" value=\"John\"><br><br>\n",
    "</form>\n"
   ]
  },
  {
   "cell_type": "markdown",
   "metadata": {},
   "source": [
    "<font size = \"5\">\n",
    "\n",
    "Forms can submit information\n",
    "\n",
    "- The action indictes where the submit button goes\n",
    "- This can be some interactive page in another language, <br>\n",
    "e.g. PHP or JavaScript\n",
    "\n",
    "<font size = \"3\">\n",
    "\n",
    "```html\n",
    "    <form action=\"/action_page.php\">\n",
    "      <label for=\"fname\">First name:</label><br>\n",
    "      <input type=\"text\" id=\"fname\" value=\"John\"><br><br>\n",
    "      <input type=\"submit\" value=\"Submit\">\n",
    "    </form>\n",
    "\n",
    "```"
   ]
  },
  {
   "cell_type": "markdown",
   "metadata": {},
   "source": [
    "<font size = \"5\">\n",
    "\n",
    "Forms can include chekcboxes"
   ]
  },
  {
   "cell_type": "code",
   "execution_count": 20,
   "metadata": {},
   "outputs": [
    {
     "data": {
      "text/html": [
       "\n",
       "<form>\n",
       "  <input type=\"checkbox\" id=\"tea1\" name=\"vehicle1\" value=\"Green\">\n",
       "  <label for=\"vehicle1\"> I like green tea </label><br>\n",
       "  <input type=\"checkbox\" id=\"tea2\" name=\"vehicle2\" value=\"Black\">\n",
       "  <label for=\"vehicle2\"> I like black tea  </label><br>\n",
       "  <input type=\"checkbox\" id=\"language3\" name=\"vehicle3\" value=\"Herbal\">\n",
       "  <label for=\"vehicle3\"> I like herbal tea </label>\n",
       "</form>\n"
      ],
      "text/plain": [
       "<IPython.core.display.HTML object>"
      ]
     },
     "metadata": {},
     "output_type": "display_data"
    }
   ],
   "source": [
    "%%html\n",
    "\n",
    "<form>\n",
    "  <input type=\"checkbox\" id=\"tea1\" name=\"vehicle1\" value=\"Green\">\n",
    "  <label for=\"vehicle1\"> I like green tea </label><br>\n",
    "  <input type=\"checkbox\" id=\"tea2\" name=\"vehicle2\" value=\"Black\">\n",
    "  <label for=\"vehicle2\"> I like black tea  </label><br>\n",
    "  <input type=\"checkbox\" id=\"language3\" name=\"vehicle3\" value=\"Herbal\">\n",
    "  <label for=\"vehicle3\"> I like herbal tea </label>\n",
    "</form>\n"
   ]
  },
  {
   "cell_type": "markdown",
   "metadata": {},
   "source": [
    "<font size = \"5\">\n",
    "\n",
    "Try it yourself!\n",
    "\n",
    "Create an HTML form with a custom list"
   ]
  },
  {
   "cell_type": "code",
   "execution_count": 21,
   "metadata": {},
   "outputs": [],
   "source": [
    "# Write your own code\n",
    "\n",
    "\n",
    "\n"
   ]
  },
  {
   "cell_type": "markdown",
   "metadata": {},
   "source": [
    "# <span style=\"color:darkblue\"> IV. Other commands and further resources </span>\n",
    "\n",
    "<font size = \"5\">\n",
    "\n",
    "There are many commands used for formatting\n",
    "\n",
    "- Separate paragraphs ```<p> Custom Text </p>```\n",
    "- Headers        ```<h1>  Custom Text  </h1>```"
   ]
  },
  {
   "cell_type": "markdown",
   "metadata": {},
   "source": [
    "<font size = \"5\">\n",
    "\n",
    "For a reference on HTML syntax\n",
    "\n",
    "https://www.w3schools.com/html/default.asp\n",
    "\n",
    "For a complete list of HTML attributes associated with tags:\n",
    "\n",
    "https://www.w3schools.com/tags/ref_attributes.asp"
   ]
  }
 ],
 "metadata": {
  "kernelspec": {
   "display_name": "base",
   "language": "python",
   "name": "python3"
  },
  "language_info": {
   "codemirror_mode": {
    "name": "ipython",
    "version": 3
   },
   "file_extension": ".py",
   "mimetype": "text/x-python",
   "name": "python",
   "nbconvert_exporter": "python",
   "pygments_lexer": "ipython3",
   "version": "3.9.18"
  }
 },
 "nbformat": 4,
 "nbformat_minor": 2
}
