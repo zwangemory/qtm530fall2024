{
 "cells": [
  {
   "attachments": {},
   "cell_type": "markdown",
   "metadata": {},
   "source": [
    "# <span style=\"color:darkblue\"> Lecture 25b - Classes for manipulating attributes\n",
    "\n",
    "\n",
    "<font size = \"5\">\n",
    "\n",
    "Classes are flexible programming structures for storing data\n",
    "\n",
    "- Different types of data (strings, dataframes, scalars, etc.)\n",
    "- Create copies with the same common attributes, with slight changes\n",
    "- More versatile than dictionaries\n",
    "- Can apply functions to attributes"
   ]
  },
  {
   "cell_type": "markdown",
   "metadata": {},
   "source": [
    "# <span style=\"color:darkblue\"> I. Basics: Storage\n",
    "<font size = \"5\">"
   ]
  },
  {
   "cell_type": "markdown",
   "metadata": {},
   "source": [
    "<font size = \"5\">\n",
    "\n",
    "Create a class with predefined attributes"
   ]
  },
  {
   "cell_type": "code",
   "execution_count": 1,
   "metadata": {},
   "outputs": [],
   "source": [
    "# Creates a Python class with the custom name \"qtm_template\"\n",
    "# The prefix 'class'' is a reserved system name\n",
    "class qtm_template:\n",
    "    lecture1 = \"Computing 1\"\n",
    "    lecture2 = \"Applied 1\"\n",
    "    lecture3 = \"Reasoning 1\"\n",
    "    hours    = 9\n"
   ]
  },
  {
   "cell_type": "markdown",
   "metadata": {},
   "source": [
    "<font size = \"5\">\n",
    "\n",
    "Access attributed from a class"
   ]
  },
  {
   "cell_type": "code",
   "execution_count": 2,
   "metadata": {},
   "outputs": [
    {
     "name": "stdout",
     "output_type": "stream",
     "text": [
      "Computing 1\n",
      "Applied 1\n",
      "9\n"
     ]
    }
   ],
   "source": [
    "print(qtm_template.lecture1)\n",
    "print(qtm_template.lecture2)\n",
    "print(qtm_template.hours)"
   ]
  },
  {
   "cell_type": "markdown",
   "metadata": {},
   "source": [
    "<font size = \"5\">\n",
    "\n",
    "Create copies of a class via instances\n",
    "\n",
    "- Create an instance via ``` instance_object = class() ```\n",
    "- All instance objects will start off with the same attributes\n",
    "- You can personalize them as you go along"
   ]
  },
  {
   "cell_type": "code",
   "execution_count": 3,
   "metadata": {},
   "outputs": [],
   "source": [
    "# Create an instance from a class, change the 'hours' attribute\n",
    "qtm1 = qtm_template()\n",
    "qtm1.hours = 4\n",
    "\n",
    "# Create an instance from a class, change the 'hours' attribute\n",
    "qtm2 = qtm_template()\n",
    "qtm2.hours = 2"
   ]
  },
  {
   "cell_type": "markdown",
   "metadata": {},
   "source": [
    "<font size = \"5\">\n",
    "\n",
    "Access attributes of instances"
   ]
  },
  {
   "cell_type": "code",
   "execution_count": 4,
   "metadata": {},
   "outputs": [
    {
     "name": "stdout",
     "output_type": "stream",
     "text": [
      "Attributes for the first instance\n",
      "Computing 1\n",
      "Applied 1\n",
      "Reasoning 1\n",
      "4\n",
      "\n",
      "Attributes for the second instance\n",
      "Computing 1\n",
      "Applied 1\n",
      "Reasoning 1\n",
      "2\n"
     ]
    }
   ],
   "source": [
    "print(\"Attributes for the first instance\")\n",
    "print(qtm1.lecture1)\n",
    "print(qtm1.lecture2)\n",
    "print(qtm1.lecture3)\n",
    "print(qtm1.hours)\n",
    "\n",
    "print(\"\")\n",
    "\n",
    "print(\"Attributes for the second instance\")\n",
    "print(qtm2.lecture1)\n",
    "print(qtm2.lecture2)\n",
    "print(qtm2.lecture3)\n",
    "print(qtm2.hours)"
   ]
  },
  {
   "cell_type": "markdown",
   "metadata": {},
   "source": [
    "<font size = \"5\">\n",
    "\n",
    "What happens if you change the attributes of a class?\n",
    "\n",
    "- Affects attributes of all future instances\n",
    "- Does not affect previously created instances "
   ]
  },
  {
   "cell_type": "code",
   "execution_count": 6,
   "metadata": {},
   "outputs": [
    {
     "name": "stdout",
     "output_type": "stream",
     "text": [
      "4\n",
      "2\n",
      "5\n",
      "5\n"
     ]
    }
   ],
   "source": [
    "qtm_template.hours = 5\n",
    "qtm3 = qtm_template()\n",
    "qtm4 = qtm_template()\n",
    "\n",
    "print(qtm1.hours)\n",
    "print(qtm2.hours)\n",
    "print(qtm3.hours)\n",
    "print(qtm4.hours)"
   ]
  },
  {
   "cell_type": "markdown",
   "metadata": {},
   "source": [
    "<font size = \"5\">\n",
    "\n",
    "Try it yourself!\n",
    "\n",
    "<font size = \"3\">\n",
    "\n",
    "- Create your own class called ```weekday_template``` with <br>\n",
    "two  attribute:\n",
    "\n",
    "``` message = \"This class is used for days of the week\" ``` <br>\n",
    "``` class1  = \"\" ``` <br>\n",
    "``` class2  = \"\" ``` <br>\n",
    "\n",
    "- Create instances: called ```monday``` and ```tuesday```. <br>\n",
    "from the ```weekday_template ``` class. <br>\n",
    "For each day, fill out the classes that you have on that day, <br>\n",
    "by "
   ]
  },
  {
   "cell_type": "code",
   "execution_count": null,
   "metadata": {},
   "outputs": [],
   "source": [
    "# Write your own code\n",
    "\n",
    "\n",
    "\n",
    "\n",
    "\n"
   ]
  },
  {
   "cell_type": "markdown",
   "metadata": {},
   "source": [
    "# <span style=\"color:darkblue\"> II. Functions within classes\n",
    "<font size = \"5\">"
   ]
  },
  {
   "cell_type": "markdown",
   "metadata": {},
   "source": [
    "<font size = \"5\">\n",
    "\n",
    "Initialize a class with custom attributes\n",
    "\n",
    "\n",
    "- ``` __init__``` is a special function that is called <br>\n",
    "when the instance is first created (it is a reserved <br>\n",
    "system name) \n",
    "- ``` self ``` is a special type of argument that will be used <br>\n",
    "for an instance to refer to itself.\n"
   ]
  },
  {
   "cell_type": "code",
   "execution_count": null,
   "metadata": {},
   "outputs": [],
   "source": [
    "class student_template:\n",
    "    # (1) '__init__' is a reserved system name\n",
    "    # which is used to denote the first function that is called when you\n",
    "    # invoke a class.\n",
    "    # (2) The first argument of '__init__' should be 'self' (you can use\n",
    "    # any name but this is the convention)\n",
    "    # Subsequent arguments can be defined by the user\n",
    "\n",
    "    def __init__(self, first_name_arg, last_name_arg):\n",
    "\n",
    "        # The next code is instructing the instance to mofify its own\n",
    "        # attributes called \"first_name\" and \"last_name\"\n",
    "        self.first_name = first_name_arg\n",
    "        self.last_name  = last_name_arg"
   ]
  },
  {
   "cell_type": "markdown",
   "metadata": {},
   "source": [
    "<font size = \"5\">\n",
    "\n",
    "Instantiate a class\n",
    "\n",
    "- Called as arguments of a function\n",
    "- Notice that you don't need to add aything for ```self```<br>\n",
    "even though it appears in the function definition <br> (that's all internal)"
   ]
  },
  {
   "cell_type": "code",
   "execution_count": null,
   "metadata": {},
   "outputs": [
    {
     "name": "stdout",
     "output_type": "stream",
     "text": [
      "Alejandro\n",
      "Cliff\n"
     ]
    }
   ],
   "source": [
    "student1 = student_class(\"Alejandro\",\"Sanchez\")\n",
    "print(student1.first_name)\n",
    "\n",
    "student2 = student_class(\"Cliff\",\"Carrubba\")\n",
    "print(student2.first_name)"
   ]
  },
  {
   "cell_type": "markdown",
   "metadata": {},
   "source": [
    "<font size = \"5\">\n",
    "\n",
    "Define self-referential functions"
   ]
  },
  {
   "cell_type": "code",
   "execution_count": null,
   "metadata": {},
   "outputs": [],
   "source": [
    "class teacher_template:\n",
    "\n",
    "    def __init__(self, first_name_arg, last_name_arg):\n",
    "        self.first_name = first_name_arg\n",
    "        self.last_name  = last_name_arg\n",
    "\n",
    "    # Add a function (you can use any fuction name, but make sure to leave 'self'\n",
    "    # in the argument to refer to itself and be able to extract attributes\n",
    "    def modify_lastname_fn(self, last_name_arg):\n",
    "        self.last_name  = last_name_arg\n",
    "         \n",
    "    def message_fn(self):\n",
    "        print(f\"First name: {self.first_name}, Last Name: {self.last_name}\")       "
   ]
  },
  {
   "cell_type": "markdown",
   "metadata": {},
   "source": [
    "<font size = \"5\">\n",
    "\n",
    "Modify attributes via self-referential functions"
   ]
  },
  {
   "cell_type": "code",
   "execution_count": null,
   "metadata": {},
   "outputs": [
    {
     "name": "stdout",
     "output_type": "stream",
     "text": [
      "Sanchez\n",
      "Sanchez-Becerra\n"
     ]
    }
   ],
   "source": [
    "teacher = teacher_template(\"Alejandro\",\"Sanchez\")\n",
    "print(teacher.last_name)\n",
    "\n",
    "teacher.modify_lastname_fn(\"Sanchez-Becerra\")\n",
    "print(teacher.last_name)"
   ]
  },
  {
   "cell_type": "markdown",
   "metadata": {},
   "source": [
    "<font size = \"5\">\n",
    "\n",
    "Carry out operations via self-referential functions"
   ]
  },
  {
   "cell_type": "code",
   "execution_count": null,
   "metadata": {},
   "outputs": [
    {
     "name": "stdout",
     "output_type": "stream",
     "text": [
      "First name: Alejandro, Last Name: Sanchez-Becerra\n"
     ]
    }
   ],
   "source": [
    "teacher.message_fn()"
   ]
  },
  {
   "cell_type": "markdown",
   "metadata": {},
   "source": [
    "<font size = \"5\">\n",
    "\n",
    "Try it yourself!\n",
    "\n",
    "<font size = \"3\">\n",
    "\n",
    "- Create your own class called ```movie_template``` that is initialized with <br>\n",
    "two user-given attributes, ```name```, ```year```, ```quantity_sales``` and <br>\n",
    "```price_tickets```.\n",
    "- This class should have a function called ```compute_revenue``` which multiplies\n",
    "the quantity of sales times the ticket price. Make sure to define this using the <br>\n",
    "```self``` argument.\n",
    "- Create two instances with your favorite movies, inputting the necessary values\n",
    "- Calculate the revenue for each movie using self-referential functions."
   ]
  },
  {
   "cell_type": "code",
   "execution_count": null,
   "metadata": {},
   "outputs": [],
   "source": [
    "# Write your own code\n",
    "\n",
    "\n"
   ]
  },
  {
   "cell_type": "markdown",
   "metadata": {},
   "source": [
    "# <span style=\"color:darkblue\"> III. Inheritance: Combine classes\n",
    "<font size = \"5\">"
   ]
  },
  {
   "cell_type": "markdown",
   "metadata": {},
   "source": [
    "<font size = \"5\">\n",
    "\n",
    "A class can be defined by both attributes and functions"
   ]
  },
  {
   "cell_type": "code",
   "execution_count": null,
   "metadata": {},
   "outputs": [],
   "source": [
    "class qtm_template_input:\n",
    "    lecture1 = \"Computing 1\"\n",
    "    lecture2 = \"Applied 1\"\n",
    "    lecture3 = \"Reasoning 1\"\n",
    "    hours    = 9\n",
    "\n",
    "    def __init__(self, first_name_arg, last_name_arg):\n",
    "        # The next code is instructing the instance to mofify its own\n",
    "        # attributes called \"first_name\" and \"last_name\"\n",
    "        self.first_name = first_name_arg\n",
    "        self.last_name  = last_name_arg"
   ]
  },
  {
   "cell_type": "markdown",
   "metadata": {},
   "source": [
    "<font size = \"5\">\n",
    "\n",
    "We can create an instance with both user inputs and default values"
   ]
  },
  {
   "cell_type": "code",
   "execution_count": null,
   "metadata": {},
   "outputs": [
    {
     "name": "stdout",
     "output_type": "stream",
     "text": [
      "Computing 1\n",
      "Applied 1\n",
      "Reasoning 1\n",
      "9\n",
      "Alejandro\n",
      "Sanchez\n"
     ]
    }
   ],
   "source": [
    "qtm_example = qtm_template_input(\"Alejandro\",\"Sanchez\")\n",
    "\n",
    "print(qtm_example.lecture1)\n",
    "print(qtm_example.lecture2)\n",
    "print(qtm_example.lecture3)\n",
    "print(qtm_example.hours)\n",
    "print(qtm_example.first_name)\n",
    "print(qtm_example.last_name)\n"
   ]
  },
  {
   "cell_type": "markdown",
   "metadata": {},
   "source": [
    "<font size = \"5\">\n",
    "\n",
    "A class can ```inherit``` all properites of a previous class\n",
    "\n",
    "- The ```super().__init__``` can be used to initialize the super class\n",
    "- Inheritance can be useful to write more modular code"
   ]
  },
  {
   "cell_type": "code",
   "execution_count": null,
   "metadata": {},
   "outputs": [],
   "source": [
    "class student_messages(qtm_template_input):\n",
    "    def __init__(self, first_name, last_name,program):\n",
    "        # In this case the super class is 'qtm_template_input'\n",
    "        super().__init__(first_name,last_name)\n",
    "        self.program = program\n",
    "\n",
    "    def messages(self):\n",
    "        print(f\"{self.first_name} {self.last_name} is enrolled in '{self.program}' \")"
   ]
  },
  {
   "cell_type": "code",
   "execution_count": null,
   "metadata": {},
   "outputs": [
    {
     "name": "stdout",
     "output_type": "stream",
     "text": [
      "Alejandro Sanchez is enrolled in 'Data Science Masters' \n"
     ]
    }
   ],
   "source": [
    "student = student_messages(\"Alejandro\",\"Sanchez\",\"Data Science Masters\")\n",
    "\n",
    "student.messages()"
   ]
  }
 ],
 "metadata": {
  "kernelspec": {
   "display_name": "base",
   "language": "python",
   "name": "python3"
  },
  "language_info": {
   "codemirror_mode": {
    "name": "ipython",
    "version": 3
   },
   "file_extension": ".py",
   "mimetype": "text/x-python",
   "name": "python",
   "nbconvert_exporter": "python",
   "pygments_lexer": "ipython3",
   "version": "3.11.7"
  },
  "orig_nbformat": 4
 },
 "nbformat": 4,
 "nbformat_minor": 2
}
