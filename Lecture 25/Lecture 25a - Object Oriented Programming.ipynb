{
 "cells": [
  {
   "attachments": {},
   "cell_type": "markdown",
   "metadata": {},
   "source": [
    "# <span style=\"color:darkblue\"> Lecture 25a - Object Oriented Programming (OOP)\n",
    "\n",
    "<font size = \"5\">\n",
    "\n",
    "The goal of this lecture is to introduce you to Python classes, <br>\n",
    "how they work, and why they can <br>\n",
    "help you improve your code.\n",
    "\n",
    "- Important for model deployment in more advanced applications\n",
    "- Important to understand and expand Python' capabilities\n",
    "\n",
    "The first part of the lecture will introduce you to some basic <br>\n",
    "terminology, and gives some examples of object oriented program <br>\n",
    "with things that we have previously seen in the class. "
   ]
  },
  {
   "cell_type": "markdown",
   "metadata": {},
   "source": [
    "<font size = \"5\">\n",
    "\n",
    "Set up working environment"
   ]
  },
  {
   "cell_type": "code",
   "execution_count": 1,
   "metadata": {},
   "outputs": [],
   "source": [
    "import pandas as pd\n",
    "import numpy as np\n",
    "import matplotlib.pyplot as plt\n",
    "\n",
    "# We will use the \"sklearn\" package\n",
    "\n",
    "from sklearn.linear_model import LogisticRegression\n",
    "from sklearn.metrics import classification_report, confusion_matrix\n",
    "from sklearn.model_selection import train_test_split\n",
    "from sklearn.tree import DecisionTreeRegressor as DTR\n",
    "from sklearn import tree\n",
    "import sklearn.model_selection as skm\n",
    "from sklearn.ensemble import RandomForestRegressor as RF"
   ]
  },
  {
   "cell_type": "markdown",
   "metadata": {},
   "source": [
    "# <span style=\"color:darkblue\"> I. Basic Terminology"
   ]
  },
  {
   "cell_type": "markdown",
   "metadata": {},
   "source": [
    "<font size = \"5\">\n",
    "\n",
    "Python is an object oriented language:\n",
    "\n",
    "- ```Objects```: Examples includes arrays, strings, dataframes, <br>\n",
    "model configurations\n",
    "- All these objects often have similar functionalities because they <br>\n",
    "belong to the same ```class```."
   ]
  },
  {
   "cell_type": "markdown",
   "metadata": {},
   "source": [
    "<font size = \"5\">\n",
    "\n",
    "We say that an object created from a particular class is called <br>\n",
    "an instance. In the following example, ```array_odd``` and ```array_even``` <br>\n",
    "are instances of the class ```array```"
   ]
  },
  {
   "cell_type": "code",
   "execution_count": null,
   "metadata": {},
   "outputs": [],
   "source": [
    "array_odd  = np.array([1,3,5])\n",
    "array_even = np.array([4,6,8,10])"
   ]
  },
  {
   "cell_type": "markdown",
   "metadata": {},
   "source": [
    "<font size = \"5\">\n",
    "\n",
    "Instances have attributes that can be accessed with ```.```"
   ]
  },
  {
   "cell_type": "code",
   "execution_count": 7,
   "metadata": {},
   "outputs": [
    {
     "name": "stdout",
     "output_type": "stream",
     "text": [
      "3\n",
      "4\n"
     ]
    }
   ],
   "source": [
    "print(array_odd.size)\n",
    "print(array_even.size)"
   ]
  },
  {
   "cell_type": "markdown",
   "metadata": {},
   "source": [
    "<font size = \"5\">\n",
    "\n",
    "We can apply functions to objects of a particular type"
   ]
  },
  {
   "cell_type": "code",
   "execution_count": 11,
   "metadata": {},
   "outputs": [
    {
     "name": "stdout",
     "output_type": "stream",
     "text": [
      "3.0\n",
      "7.0\n"
     ]
    }
   ],
   "source": [
    "print(np.mean(array_odd))\n",
    "print(np.mean(array_even))"
   ]
  },
  {
   "cell_type": "markdown",
   "metadata": {},
   "source": [
    "<font size = \"5\">\n",
    "\n",
    "For instances, we can also invoke functions via ```self```-referencing, <br>\n",
    "also using ```.```\n",
    "\n",
    "- Self-referencing can make code shorter\n",
    "- All objects within the same class have access to the same <br>\n",
    "set of self-reference functions"
   ]
  },
  {
   "cell_type": "code",
   "execution_count": 12,
   "metadata": {},
   "outputs": [
    {
     "name": "stdout",
     "output_type": "stream",
     "text": [
      "3.0\n",
      "7.0\n"
     ]
    }
   ],
   "source": [
    "print(array_odd.mean())\n",
    "print(array_even.mean())"
   ]
  },
  {
   "cell_type": "markdown",
   "metadata": {},
   "source": [
    "# <span style=\"color:darkblue\"> II. Example: OOP in Machine Learning"
   ]
  },
  {
   "cell_type": "markdown",
   "metadata": {},
   "source": [
    "<font size = \"5\">\n",
    "\n",
    "Set up data"
   ]
  },
  {
   "cell_type": "code",
   "execution_count": 4,
   "metadata": {},
   "outputs": [],
   "source": [
    "articles_train  = pd.read_csv(\"data_raw/ArticlesTrain.csv\")\n",
    "articles_test   = pd.read_csv(\"data_raw/ArticlesTest.csv\")\n",
    "\n",
    "# Extract all columns except \"shares\" (the outcome)\n",
    "X_train = articles_train.drop(columns = [\"shares\"])\n",
    "X_test  = articles_test.drop(columns = [\"shares\"])\n",
    "\n",
    "# Extract shares (the outcome)\n",
    "y_train = articles_train[[\"shares\"]]\n",
    "y_test = articles_test[[\"shares\"]]"
   ]
  },
  {
   "cell_type": "markdown",
   "metadata": {},
   "source": [
    "<font size = \"5\">\n",
    "\n",
    "Create an instance of a decision tree \n",
    "\n",
    "- Initialize a particular set of attributes that configure the model<br>\n",
    "- Doesnt' yet run model"
   ]
  },
  {
   "cell_type": "code",
   "execution_count": 5,
   "metadata": {},
   "outputs": [],
   "source": [
    "tree_model = DTR(max_depth=3,random_state = 0)"
   ]
  },
  {
   "cell_type": "markdown",
   "metadata": {},
   "source": [
    "<font size = \"5\">\n",
    "\n",
    "Apply a function with the ```DTR``` class to fit the model\n",
    "\n",
    "- Uses self-referencing\n",
    "- This function will inherit the attributes that configure the model\n",
    "- After fitting all the results are stored in the same <br>\n",
    "```tree model``` instance, which can be used for later operations"
   ]
  },
  {
   "cell_type": "code",
   "execution_count": null,
   "metadata": {},
   "outputs": [
    {
     "data": {
      "text/plain": [
       "array([7.49620465, 7.10503807, 7.64221016, ..., 7.88301068, 7.49620465,\n",
       "       7.88301068])"
      ]
     },
     "execution_count": 7,
     "metadata": {},
     "output_type": "execute_result"
    }
   ],
   "source": [
    "tree_model.fit(X_train, y_train)"
   ]
  },
  {
   "cell_type": "markdown",
   "metadata": {},
   "source": [
    "<font size = \"5\">\n",
    "\n",
    "Recursively apply functions"
   ]
  },
  {
   "cell_type": "code",
   "execution_count": 17,
   "metadata": {},
   "outputs": [
    {
     "data": {
      "text/plain": [
       "Text(0, 0.5, 'Frequency')"
      ]
     },
     "execution_count": 17,
     "metadata": {},
     "output_type": "execute_result"
    },
    {
     "data": {
      "image/png": "[encoded data removed]",
      "text/plain": [
       "<Figure size 640x480 with 1 Axes>"
      ]
     },
     "metadata": {},
     "output_type": "display_data"
    }
   ],
   "source": [
    "# Apply another function to 'tree_model'\n",
    "predictions = tree_model.predict(X_test)\n",
    "\n",
    "# Create an instance from the \"plt\" class for plotting\n",
    "plt.hist(x = predictions)\n",
    "plt.xlabel(\"Predictions\")\n",
    "plt.ylabel(\"Frequency\")"
   ]
  },
  {
   "cell_type": "markdown",
   "metadata": {},
   "source": [
    "# <span style=\"color:darkblue\"> III. Key features\n",
    "\n",
    "<font size = \"5\">\n",
    "\n",
    "What is object-oriented programming?\n",
    "\n",
    "- Define classes with attributes and functions\n",
    "- Create instances from those claseses, <br>\n",
    " that inherit attributes and functions\n",
    "\n",
    "Why instances?\n",
    "\n",
    "- Instances can store complex information\n",
    "- Recursively modifying instances can make the code shorter\n",
    "- Associating functions to objects means that we don't always <br>\n",
    "have to pass along specific arguments"
   ]
  }
 ],
 "metadata": {
  "kernelspec": {
   "display_name": "base",
   "language": "python",
   "name": "python3"
  },
  "language_info": {
   "codemirror_mode": {
    "name": "ipython",
    "version": 3
   },
   "file_extension": ".py",
   "mimetype": "text/x-python",
   "name": "python",
   "nbconvert_exporter": "python",
   "pygments_lexer": "ipython3",
   "version": "3.11.7"
  },
  "orig_nbformat": 4
 },
 "nbformat": 4,
 "nbformat_minor": 2
}
