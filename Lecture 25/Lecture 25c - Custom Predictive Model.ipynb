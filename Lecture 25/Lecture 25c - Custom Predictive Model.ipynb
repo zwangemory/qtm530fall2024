{
 "cells": [
  {
   "attachments": {},
   "cell_type": "markdown",
   "metadata": {},
   "source": [
    "# <span style=\"color:darkblue\"> Lecture 25c - Custom Predictive Model\n",
    "\n",
    "<font size = \"5\">\n",
    "\n",
    "In this example we will show how to construct a custom predictive <br>\n",
    "model in Python, that involves training and prediction using Python classes.\n"
   ]
  },
  {
   "cell_type": "markdown",
   "metadata": {},
   "source": [
    "<font size = \"5\">\n",
    "\n",
    "Set up working environment"
   ]
  },
  {
   "cell_type": "code",
   "execution_count": 101,
   "metadata": {},
   "outputs": [],
   "source": [
    "\n",
    "import pandas as pd\n",
    "import numpy as np\n",
    "import matplotlib.pyplot as plt\n",
    "\n",
    "# We will use the \"sklearn\" package\n",
    "\n",
    "from sklearn.utils.validation import check_X_y, check_array\n",
    "from sklearn.linear_model import LogisticRegression\n",
    "from sklearn.metrics import classification_report, confusion_matrix\n",
    "from sklearn.model_selection import train_test_split\n",
    "from sklearn.tree import DecisionTreeRegressor as DTR\n",
    "from sklearn import tree\n",
    "import sklearn.model_selection as skm\n",
    "from sklearn.ensemble import RandomForestRegressor as RF\n",
    "\n",
    "# Import statsmodels\n",
    "import statsmodels.api as sm\n",
    "import statsmodels.formula.api as smf\n"
   ]
  },
  {
   "cell_type": "markdown",
   "metadata": {},
   "source": [
    "<font size = \"5\">\n",
    "\n",
    "Import Data"
   ]
  },
  {
   "cell_type": "code",
   "execution_count": 102,
   "metadata": {},
   "outputs": [],
   "source": [
    "articles_train  = pd.read_csv(\"data_raw/ArticlesTrain.csv\")\n",
    "articles_test   = pd.read_csv(\"data_raw/ArticlesTest.csv\")\n",
    "\n",
    "# Extract the first 10 columns excluding \"shares\" (the outcome)\n",
    "X_train = articles_train.drop(columns = [\"shares\"]).iloc[:,0:10]\n",
    "X_test  = articles_test.drop(columns = [\"shares\"]).iloc[:,0:10]\n",
    "\n",
    "# Extract shares (the outcome)\n",
    "y_train = articles_train[[\"shares\"]]\n",
    "y_test  = articles_test[[\"shares\"]]"
   ]
  },
  {
   "cell_type": "markdown",
   "metadata": {},
   "source": [
    "# <span style=\"color:darkblue\"> I. Creating models from classes"
   ]
  },
  {
   "cell_type": "markdown",
   "metadata": {},
   "source": [
    "<font size = \"5\">\n",
    "\n",
    "Define a model class"
   ]
  },
  {
   "cell_type": "code",
   "execution_count": 103,
   "metadata": {},
   "outputs": [],
   "source": [
    "class OrdinaryLeastSquares():\n",
    "      # Initialize with an optional argument called 'scale'\n",
    "      # Note: to make an argument optional, 'pre-assign' it a value\n",
    "      def __init__(self, scale = False):\n",
    "        self.scale = scale \n",
    "      \n",
    "      # Manually computes OLS\n",
    "      def fit(self,X,y):\n",
    "        # Adds an intercept to \"X\"\n",
    "        X_augmented = np.c_[np.ones((X.shape[0],1)), X]\n",
    "        # Compute two coponents of matrix form of OLS, then applies formula\n",
    "        Qxx = X_augmented.T.dot(X_augmented)\n",
    "        Qxy = np.dot(X_augmented.T,y)\n",
    "        self.beta = np.linalg.inv(Qxx).dot(Qxy)\n",
    "        # Stores parameters as attributes\n",
    "        self.coefficients = self.beta[1:]\n",
    "        self.intercept    = self.beta[0]\n",
    "        # Return itself (this is important if you want to continue operations\n",
    "        # over the same object)\n",
    "        return self\n",
    "\n",
    "      def predict(self,X):\n",
    "        return X@self.coefficients + self.intercept"
   ]
  },
  {
   "cell_type": "markdown",
   "metadata": {},
   "source": [
    "<font size = \"5\">\n",
    "\n",
    "Read parameter attributes"
   ]
  },
  {
   "cell_type": "code",
   "execution_count": 114,
   "metadata": {},
   "outputs": [
    {
     "name": "stdout",
     "output_type": "stream",
     "text": [
      "[7.74664102]\n",
      "[[ 1.11960643e-04]\n",
      " [-1.48044443e-02]\n",
      " [-3.36419926e-05]\n",
      " [ 4.06386896e-02]\n",
      " [-1.16548074e-01]\n",
      " [-2.03734272e-01]\n",
      " [ 8.07717531e-03]\n",
      " [-9.97086238e-03]\n",
      " [ 5.96320015e-03]\n",
      " [ 6.58738620e-03]]\n"
     ]
    }
   ],
   "source": [
    "ols_instance = OrdinaryLeastSquares().fit(X_train,y_train)\n",
    "\n",
    "print(ols_instance.intercept)\n",
    "print(ols_instance.coefficients) # Show first 5"
   ]
  },
  {
   "cell_type": "markdown",
   "metadata": {},
   "source": [
    "<font size = \"5\">\n",
    "\n",
    "Compare with automatic formula"
   ]
  },
  {
   "cell_type": "code",
   "execution_count": 113,
   "metadata": {},
   "outputs": [
    {
     "data": {
      "text/plain": [
       "const                       7.746641\n",
       "timedelta                   0.000112\n",
       "n_tokens_title             -0.014804\n",
       "n_tokens_content           -0.000034\n",
       "n_unique_tokens             0.040639\n",
       "n_non_stop_words           -0.116548\n",
       "n_non_stop_unique_tokens   -0.203734\n",
       "num_hrefs                   0.008077\n",
       "num_self_hrefs             -0.009971\n",
       "num_imgs                    0.005963\n",
       "num_videos                  0.006587\n",
       "dtype: float64"
      ]
     },
     "execution_count": 113,
     "metadata": {},
     "output_type": "execute_result"
    }
   ],
   "source": [
    "model = sm.OLS(y_train,sm.add_constant(X_train))\n",
    "results = model.fit()\n",
    "results.params"
   ]
  },
  {
   "cell_type": "markdown",
   "metadata": {},
   "source": [
    "<font size = \"5\">\n",
    "\n",
    "Apply self-referential functions for prediction"
   ]
  },
  {
   "cell_type": "code",
   "execution_count": 110,
   "metadata": {},
   "outputs": [
    {
     "data": {
      "text/plain": [
       "Text(0, 0.5, 'Predicted Values')"
      ]
     },
     "execution_count": 110,
     "metadata": {},
     "output_type": "execute_result"
    },
    {
     "data": {
      "image/png": "[encoded data removed]",
      "text/plain": [
       "<Figure size 640x480 with 1 Axes>"
      ]
     },
     "metadata": {},
     "output_type": "display_data"
    }
   ],
   "source": [
    "predictions = ols_instance.predict(X_test)\n",
    "\n",
    "plt.scatter(x = y_test,y = predictions)\n",
    "plt.xlabel(\"True Values in Test Set\")\n",
    "plt.ylabel(\"Predicted Values\")"
   ]
  },
  {
   "cell_type": "markdown",
   "metadata": {},
   "source": [
    "<font size = \"5\">\n",
    "\n",
    "Try it yourself\n",
    "\n",
    "Create a function within the ```OrdinaryLeastSquares``` class that <br>\n",
    "computes the mean-squared error (MSE), given an ```x_train``` and a <br>\n",
    " ```y_test``` input. Create a new ols intance and compute the MSE."
   ]
  },
  {
   "cell_type": "code",
   "execution_count": 115,
   "metadata": {},
   "outputs": [],
   "source": [
    "# Write your own code\n",
    "\n",
    "\n"
   ]
  },
  {
   "cell_type": "markdown",
   "metadata": {},
   "source": [
    "<font size = \"5\">\n",
    "\n",
    "Try it yourself\n",
    "\n",
    "Create a function that normalizes ```X``` by the standard deviation of <br>\n",
    "each column if ```scale == True```. Create an instance that does this <br>\n",
    "and apply the transformation before running OLS and before obtaining the <br>\n",
    "predictions on the test set."
   ]
  },
  {
   "cell_type": "code",
   "execution_count": null,
   "metadata": {},
   "outputs": [],
   "source": [
    "# Write your own code\n",
    "\n",
    "\n"
   ]
  },
  {
   "cell_type": "markdown",
   "metadata": {},
   "source": [
    "# <span style=\"color:darkblue\"> II. Further reading"
   ]
  },
  {
   "cell_type": "markdown",
   "metadata": {},
   "source": [
    "<font size = \"5\">\n",
    "\n",
    "Python Classes can be useful to define machine learning pipelines <br>\n",
    "with custom transformations. See the link below for more info:\n",
    "\n",
    "https://www.andrewvillazon.com/custom-scikit-learn-transformers/"
   ]
  }
 ],
 "metadata": {
  "kernelspec": {
   "display_name": "base",
   "language": "python",
   "name": "python3"
  },
  "language_info": {
   "codemirror_mode": {
    "name": "ipython",
    "version": 3
   },
   "file_extension": ".py",
   "mimetype": "text/x-python",
   "name": "python",
   "nbconvert_exporter": "python",
   "pygments_lexer": "ipython3",
   "version": "3.11.7"
  },
  "orig_nbformat": 4
 },
 "nbformat": 4,
 "nbformat_minor": 2
}
