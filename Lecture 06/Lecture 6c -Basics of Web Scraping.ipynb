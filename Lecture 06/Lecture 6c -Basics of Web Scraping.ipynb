{
 "cells": [
  {
   "attachments": {},
   "cell_type": "markdown",
   "metadata": {},
   "source": [
    "# <span style=\"color:darkblue\"> Lecture 6c - Basics of Web Scraping </span>\n"
   ]
  },
  {
   "cell_type": "markdown",
   "metadata": {},
   "source": [
    "<font size = \"5\">\n",
    "\n",
    "Import packages for data processing + web scraping\n",
    "\n",
    "<font size = \"3\">\n",
    "\n",
    "- You can see the packages that you are importing in the <br>\n",
    "subfolder \"scripts\", in the file \"import_packages.py\"\n",
    "- Writing parts of you code in external Python scripts can help <br>\n",
    "your code be more concise and focused."
   ]
  },
  {
   "cell_type": "code",
   "execution_count": 44,
   "metadata": {},
   "outputs": [],
   "source": [
    "# This command executes the python scripts\n",
    "exec(open(\"./scripts/import_packages.py\").read())\n"
   ]
  },
  {
   "cell_type": "markdown",
   "metadata": {},
   "source": [
    "# <span style=\"color:darkblue\"> I. Running Chrome from Python </span>"
   ]
  },
  {
   "cell_type": "markdown",
   "metadata": {},
   "source": [
    "<font size = \"5\">\n",
    "\n",
    "Initialize web driver\n",
    "\n",
    "<font size = \"3\">\n",
    "\n",
    "- This will open a Google Chrome window (do not close it)\n",
    "- You may have to grant permission to Python to access the browser <br>\n",
    "via a pop-up window\n",
    "- If you choose ```options.headless = False``` a new window will appear\n",
    "- If you choose ```options.headless = True``` all process will be hidden <br>\n",
    "(you may consider this option after you've got the example automated)\n"
   ]
  },
  {
   "cell_type": "code",
   "execution_count": 45,
   "metadata": {},
   "outputs": [],
   "source": [
    "options = webdriver.ChromeOptions()\n",
    "\n",
    "# True hides the navigating of the browser by the scraper,\n",
    "# False shows you the tab/window opening and stuff getting clicked\n",
    "# For beginners it is recommended to set this to False.\n",
    "options.headless = False \n",
    "\n",
    "driver = webdriver.Chrome(options=options)\n",
    "\n",
    "# For advanced users:\n",
    "# Once you are done you can close the browser automatically by running the \n",
    "# following commands at the end of your code\n",
    "#    driver.close()\n",
    "#    driver.quit()"
   ]
  },
  {
   "cell_type": "markdown",
   "metadata": {},
   "source": [
    "<font size = \"5\">\n",
    "\n",
    "Define URL"
   ]
  },
  {
   "cell_type": "code",
   "execution_count": 46,
   "metadata": {},
   "outputs": [],
   "source": [
    "starting_url = 'https://atlas.emory.edu'"
   ]
  },
  {
   "cell_type": "markdown",
   "metadata": {},
   "source": [
    "<font size = \"5\">\n",
    "\n",
    "Open website\n",
    "\n",
    "<font size = \"3\">\n",
    "\n",
    "- For this to work the browser needs to be open\n",
    "- This should automatically go to the website \"starting_url\""
   ]
  },
  {
   "cell_type": "code",
   "execution_count": 47,
   "metadata": {},
   "outputs": [],
   "source": [
    "driver.get(starting_url)"
   ]
  },
  {
   "cell_type": "markdown",
   "metadata": {},
   "source": [
    "# <span style=\"color:darkblue\"> II. Basic Navigation </span>"
   ]
  },
  {
   "cell_type": "markdown",
   "metadata": {},
   "source": [
    "<font size = \"5\">\n",
    "\n",
    "Search by HTML tag\n",
    "\n",
    "<font size = \"3\">\n",
    "\n",
    "-  ``` driver.find_element(\"xpath\",\"//tag) ```\n",
    "- The \"xpath\" is a command you should always include. This stands <br>\n",
    "for a particular syntax of searching for elements within the HTML code\n",
    "- You can enter any tag, e.g. header, body, div, etc.\n",
    "- If there are multiple occurences, it will extract the first\n",
    "- Ideally use single quotations ``` ' ' ```"
   ]
  },
  {
   "cell_type": "code",
   "execution_count": 48,
   "metadata": {},
   "outputs": [],
   "source": [
    "search_header = driver.find_element('xpath','//header') "
   ]
  },
  {
   "cell_type": "markdown",
   "metadata": {},
   "source": [
    "<font size = \"5\">\n",
    "\n",
    "Extract specific attributes of the HTML tag\n",
    "\n",
    "<font size = \"3\">\n",
    "\n",
    "- Extract the HTML code using the function ``` .get_attribute() ``` <br>\n",
    "(this is an internal attribute visible only in the code)\n",
    "- Use ```.text``` to extract all text content in a container <br>\n",
    "(this is usually what is displayed to the user)\n",
    "\n",
    "<br>\n",
    "\n",
    "\n",
    "<img src=\"figures/screenshot_header.png\" alt=\"drawing\" width=\"400\"/>"
   ]
  },
  {
   "cell_type": "code",
   "execution_count": 49,
   "metadata": {},
   "outputs": [
    {
     "name": "stdout",
     "output_type": "stream",
     "text": [
      "Header class: banner\n",
      "Header role: banner\n",
      "Header text: COURSE ATLAS\n",
      "Login\n"
     ]
    }
   ],
   "source": [
    "\n",
    "header_class = search_header.get_attribute(\"class\")\n",
    "print(\"Header class: \"  + header_class)\n",
    "\n",
    "header_role  = search_header.get_attribute(\"role\")\n",
    "print(\"Header role: \" + header_role)\n",
    "\n",
    "header_text  = search_header.text\n",
    "print(\"Header text: \" + header_text)"
   ]
  },
  {
   "cell_type": "markdown",
   "metadata": {},
   "source": [
    "<font size = \"5\">\n",
    "\n",
    "Browse extracted element\n",
    "\n",
    "<font size = \"3\">\n",
    "\n",
    "- First we extract all the HTML code in the container using <br>\n",
    "```.get_attribute(\"outerHTML\") ``` <br>\n",
    "- We then use the functon \"BeautfulSoup\" to parse it into a nicer format\n",
    "- You can print it to screen, although you can also print it to a file, <br>\n",
    "in case the output is tool long. Opening from an external file might be easier <br>\n",
    "to read. Open from the file explorer in VS-Code\n"
   ]
  },
  {
   "cell_type": "code",
   "execution_count": 61,
   "metadata": {},
   "outputs": [],
   "source": [
    "# Extract HTML code and parse to a nicer format using \"Beautiful Soup\"\n",
    "html_code  = search_header.get_attribute(\"outerHTML\")\n",
    "parse_code = BeautifulSoup(html_code,\"html.parser\").prettify()\n",
    "\n",
    "# Uncomment this line to print on screen\n",
    "# print(parse_code)\n",
    "\n",
    "# You can also save this to a file to make it easier to read without cluttering\n",
    "# the jupyter notebook.\n",
    "# The function open() takes two arguments: \n",
    "# (i) the name of the file\n",
    "# (ii) an option, \"r\" stands for read, \"w\" stands for write\n",
    "# After we've opened the file we can print the output using \".write()\"\n",
    "\n",
    "with open('html_files/diagnose_scraping_outer.html', 'w') as file: \n",
    "    file.write(parse_code)"
   ]
  },
  {
   "cell_type": "code",
   "execution_count": 62,
   "metadata": {},
   "outputs": [],
   "source": [
    "# You can also extract the inside of the container, without the\n",
    "# header tag.\n",
    "inner_html_code  = search_header.get_attribute(\"innerHTML\")\n",
    "parse_inner_code = BeautifulSoup(inner_html_code,\"html.parser\").prettify()\n",
    "\n",
    "with open('html_files/diagnose_scraping_inner.html', 'w') as file: \n",
    "    file.write(parse_code)"
   ]
  },
  {
   "cell_type": "markdown",
   "metadata": {},
   "source": [
    "<font size = \"5\">\n",
    "\n",
    "Extract subelements by path\n",
    "\n",
    "<font size = \"3\">\n",
    "\n",
    "- Use ```.find_elments()``` (with a plural \"s\") to find multiple elements\n",
    "- Browse by path using a slash symbol ```/```\n",
    "- You can search the absolute path from driver, or a relative path <br>\n",
    "given elements that you have already extracted.\n",
    "\n"
   ]
  },
  {
   "cell_type": "code",
   "execution_count": 51,
   "metadata": {},
   "outputs": [],
   "source": [
    "# Browse by absolute path\n",
    "search_subdivs_absolute = driver.find_elements('xpath','//header/div') \n",
    "\n",
    "# Explicit address\n",
    "search_subdivs_relative = search_header.find_elements('xpath','div') \n"
   ]
  },
  {
   "cell_type": "markdown",
   "metadata": {},
   "source": [
    "<font size = \"5\">\n",
    "\n",
    "Count how many elemenents are extracted\n",
    "\n",
    "<font size = \"3\">\n",
    "\n",
    "- Often searchers can produce more than one result\n",
    "- This happens when multiple HTML elements share the same tag"
   ]
  },
  {
   "cell_type": "code",
   "execution_count": 52,
   "metadata": {},
   "outputs": [
    {
     "name": "stdout",
     "output_type": "stream",
     "text": [
      "2\n"
     ]
    }
   ],
   "source": [
    "num_elements = len(search_subdivs_relative)\n",
    "print(num_elements)"
   ]
  },
  {
   "cell_type": "markdown",
   "metadata": {},
   "source": [
    "<font size = \"5\">\n",
    "\n",
    "Browse first lines of extracted elements\n",
    "\n",
    "<font size = \"3\">\n",
    "\n",
    "- Run a \"for-loop\" over all extracted elements\n",
    "- We extract elements using square brackets and the index [i]\n",
    "- We use ```.splitlines()``` to split the HTML code"
   ]
  },
  {
   "cell_type": "code",
   "execution_count": 53,
   "metadata": {},
   "outputs": [
    {
     "name": "stdout",
     "output_type": "stream",
     "text": [
      "<a class=\"header-icon logout-btn\" href=\"#\" onclick=\"return sam.logout(event)\">\n",
      "<a class=\"anon-only\" data-action=\"login\" href=\"#\">\n"
     ]
    }
   ],
   "source": [
    "# The syntax of a loop is\n",
    "# for element in list_elements:\n",
    "#   Body of code\n",
    "# Here range(num_elements) creates an iterable list from 0 to (num_elements - 1).\n",
    "\n",
    "for i in range(num_elements):\n",
    "    \n",
    "    # Extract HTML for element \"i\"\n",
    "    html_code  = search_subdivs_relative[i].get_attribute(\"innerHTML\")\n",
    "    # Parse HTML code    \n",
    "    parse_code = BeautifulSoup(html_code,\"html.parser\").prettify()\n",
    "    # Split HTML into multiple lines and print the first one, in position [0].\n",
    "    print(parse_code.splitlines()[0])\n"
   ]
  },
  {
   "cell_type": "markdown",
   "metadata": {},
   "source": [
    "<font size = \"5\">\n",
    "\n",
    "Try it yourself!\n",
    "\n",
    "<font size = \"3\">\n",
    "\n",
    "- Use ```.findelements``` to find all elements with the tag ```div```\n",
    "- Count how many elements are found.\n",
    "\n",
    "    Note: ```div``` is a very common tag in websites and you will likely <br>\n",
    "    find many elements. This can motivate the targeted options we will see in the <br>\n",
    "    next section\n",
    "\n"
   ]
  },
  {
   "cell_type": "code",
   "execution_count": 54,
   "metadata": {},
   "outputs": [],
   "source": [
    "# Write your own code\n",
    "\n",
    "\n",
    "\n",
    "\n"
   ]
  },
  {
   "cell_type": "markdown",
   "metadata": {},
   "source": [
    "<font size = \"5\">\n",
    "\n",
    "<font size = \"5\">\n",
    "\n",
    "Try it yourself!\n",
    "\n",
    "<font size = \"3\">\n",
    "\n",
    "- Store the first HTML line of each element into an external file <br>\n",
    "that you should call ```diagnose_div.html``` \n",
    "- HINT: Embed the code chunk in \"Browse first lines of extracted elements\" <br>\n",
    "into code using the ```with open()``` function. Change print to <b>\n",
    "```file.write()```\n",
    "\n"
   ]
  },
  {
   "cell_type": "code",
   "execution_count": 55,
   "metadata": {},
   "outputs": [],
   "source": [
    "# Write your own code\n",
    "\n",
    "\n",
    "\n"
   ]
  },
  {
   "cell_type": "markdown",
   "metadata": {},
   "source": [
    "# <span style=\"color:darkblue\"> III. Targeted Navigation </span>\n",
    "\n",
    "<font size = \"5\">\n",
    "\n",
    "Sometimes searches return too many values\n",
    "\n",
    "<font size = \"3\">\n",
    "\n",
    "- It is useful to do targeted navigation to get exactly what we need\n",
    "- For better results, browse your intended website in Google Chrome <br>\n",
    "using Developer Tools, and find identifiable tag + attrbute combinations"
   ]
  },
  {
   "cell_type": "markdown",
   "metadata": {},
   "source": [
    "<font size = \"5\">\n",
    "\n",
    "Search by tag + attribute value\n",
    "\n",
    "<font size = \"3\">\n",
    "\n",
    "- Use syntax ``` '//tag[@attribute_name = \"attribute_value]' ```\n"
   ]
  },
  {
   "cell_type": "code",
   "execution_count": 56,
   "metadata": {},
   "outputs": [
    {
     "name": "stdout",
     "output_type": "stream",
     "text": [
      "1\n"
     ]
    }
   ],
   "source": [
    "search_div = driver.find_elements('xpath','//div[@class = \"banner__auth\"]') \n",
    "\n",
    "# Count elements found\n",
    "print(len(search_div))"
   ]
  },
  {
   "cell_type": "markdown",
   "metadata": {},
   "source": [
    "<font size = \"5\">\n",
    "\n",
    "Search by attribute for any tag name\n",
    "\n",
    "<font size = \"3\">\n",
    "\n",
    "- Use syntax ``` '//*[@attribute_name = \"attribute_value]' ```\n",
    "- The star  * indicates that Python should search any tag name.\n"
   ]
  },
  {
   "cell_type": "code",
   "execution_count": 57,
   "metadata": {},
   "outputs": [
    {
     "name": "stdout",
     "output_type": "stream",
     "text": [
      "1\n"
     ]
    }
   ],
   "source": [
    "search_div = driver.find_elements('xpath','//*[@class = \"banner__auth\"]') \n",
    "\n",
    "# Coun elements \n",
    "print(len(search_div))"
   ]
  },
  {
   "cell_type": "markdown",
   "metadata": {},
   "source": [
    "<font size = \"5\">\n",
    "\n",
    "Try it yourself!\n",
    "\n",
    "<font size = \"3\">\n",
    "\n",
    "- Search for all ```div``` with the ```class``` attribute equal to  <br>\n",
    "``` \"form_control\" ```\n",
    "- Store the first line of these elements to a file for diagnostics.\n"
   ]
  },
  {
   "cell_type": "code",
   "execution_count": 58,
   "metadata": {},
   "outputs": [],
   "source": [
    "#  Write your own Code\n",
    "\n",
    "\n"
   ]
  }
 ],
 "metadata": {
  "kernelspec": {
   "display_name": "base",
   "language": "python",
   "name": "python3"
  },
  "language_info": {
   "codemirror_mode": {
    "name": "ipython",
    "version": 3
   },
   "file_extension": ".py",
   "mimetype": "text/x-python",
   "name": "python",
   "nbconvert_exporter": "python",
   "pygments_lexer": "ipython3",
   "version": "3.11.7"
  },
  "orig_nbformat": 4,
  "vscode": {
   "interpreter": {
    "hash": "45fc1f684f6f416f40889115beff3ddf69879b64cf4bfee48cb72a61e9d15d1a"
   }
  }
 },
 "nbformat": 4,
 "nbformat_minor": 2
}
