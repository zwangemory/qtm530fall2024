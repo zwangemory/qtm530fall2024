{
 "cells": [
  {
   "attachments": {},
   "cell_type": "markdown",
   "metadata": {},
   "source": [
    "# <span style=\"color:darkblue\"> Lecture 6d - Website Interaction </span>\n"
   ]
  },
  {
   "cell_type": "markdown",
   "metadata": {},
   "source": [
    "<font size = \"5\">\n",
    "\n",
    "Import packages for data processing + web scraping\n"
   ]
  },
  {
   "cell_type": "code",
   "execution_count": 1,
   "metadata": {},
   "outputs": [],
   "source": [
    "# This command executes the python scripts\n",
    "exec(open(\"./scripts/import_packages.py\").read())\n"
   ]
  },
  {
   "cell_type": "markdown",
   "metadata": {},
   "source": [
    "# <span style=\"color:darkblue\"> I. Initialize Web Driver </span>"
   ]
  },
  {
   "cell_type": "code",
   "execution_count": 4,
   "metadata": {},
   "outputs": [],
   "source": [
    "# Open browser to start web scraping\n",
    "options = webdriver.ChromeOptions()\n",
    "options.headless = False \n",
    "driver = webdriver.Chrome(options=options)\n",
    "\n",
    "# Navigate to specific website\n",
    "starting_url = 'https://atlas.emory.edu'\n",
    "driver.get(starting_url)"
   ]
  },
  {
   "cell_type": "markdown",
   "metadata": {},
   "source": [
    "# <span style=\"color:darkblue\"> II. Interact with forms </span>"
   ]
  },
  {
   "cell_type": "markdown",
   "metadata": {},
   "source": [
    "<font size = \"5\">\n",
    "\n",
    "Emory's Course Atlas website has a searchable form <br>\n"
   ]
  },
  {
   "cell_type": "markdown",
   "metadata": {},
   "source": [
    "<font size = \"5\">\n",
    "\n",
    "\n",
    "<img src=\"figures/screenshot_courseatlas_form.png\" alt=\"drawing\" width=\"200\"/>\n"
   ]
  },
  {
   "cell_type": "markdown",
   "metadata": {},
   "source": [
    "<font size = \"5\">\n",
    "\n",
    "Find a form element\n",
    "\n",
    "<font size = \"3\">\n",
    "\n",
    "- Here we search by tag and attribute value\n",
    "- You can find the \"xpath\" by going into Developer Tools in Google Chrome"
   ]
  },
  {
   "cell_type": "code",
   "execution_count": 9,
   "metadata": {},
   "outputs": [],
   "source": [
    "form_semester = driver.find_element('xpath','//select[@id=\"crit-srcdb\"]')\n"
   ]
  },
  {
   "cell_type": "markdown",
   "metadata": {},
   "source": [
    "<font size = \"5\">\n",
    "\n",
    "Convert to form\n",
    "\n",
    "<img src=\"figures/screenshot_semester_form.png\" alt=\"drawing\" width=\"200\"/>\n",
    "\n",
    "<font size = \"3\">\n",
    "\n",
    "- Must convert HTML element suing ```Select()``` function to <br>\n",
    "enable interactive form capabilities\n",
    "- Extract the displayed option values with  ```.text``` for each element <br>\n",
    "or the internal HTML values with \n",
    "- We extract the options using a loop"
   ]
  },
  {
   "cell_type": "code",
   "execution_count": 36,
   "metadata": {},
   "outputs": [
    {
     "data": {
      "text/plain": [
       "['Fall 2024',\n",
       " 'Summer 2024',\n",
       " 'Spring 2024',\n",
       " 'Fall 2023',\n",
       " 'Summer 2023',\n",
       " 'Spring 2023',\n",
       " 'Fall 2022',\n",
       " 'Summer 2022',\n",
       " 'Spring 2022',\n",
       " 'Fall 2021',\n",
       " 'Summer 2021',\n",
       " 'Spring 2021',\n",
       " 'Fall 2020',\n",
       " 'Summer 2020',\n",
       " 'Spring 2020',\n",
       " 'Fall 2019',\n",
       " 'Summer 2019',\n",
       " 'Spring 2019']"
      ]
     },
     "execution_count": 36,
     "metadata": {},
     "output_type": "execute_result"
    }
   ],
   "source": [
    "# \"Select\" is a function from the selenium package\n",
    "# \".options\" extracts the options for Selenium\n",
    "select_semester = Select(form_semester)\n",
    "store_options   = select_semester.options\n",
    "num_options     = len(store_options)\n",
    "\n",
    "# Store options into a list\n",
    "list_options = []\n",
    "for i in range(num_options):\n",
    "    # This extracts the displayed to \n",
    "    option_text = store_options[i].text    \n",
    "    \n",
    "    # This extracts the internal HTML values\n",
    "    # Uncomment this line to display option values instead of displayed text\n",
    "    # option_text = store_options[i].get_attribute(\"value\")\n",
    "    list_options.append( option_text )   \n",
    "\n",
    "list_options"
   ]
  },
  {
   "cell_type": "markdown",
   "metadata": {},
   "source": [
    "<font size = \"5\">\n",
    "\n",
    "Select an option\n",
    "\n",
    "<font size = \"3\">\n",
    "\n",
    "- The code displays three equivalent ways of selecting the value <br>\n",
    "- Once you run this line you should see the Google Chrome browser <br>\n",
    "interactively select that option, as though you had clicked on it"
   ]
  },
  {
   "cell_type": "code",
   "execution_count": 35,
   "metadata": {},
   "outputs": [],
   "source": [
    "# Select by visible text\n",
    "select_semester.select_by_visible_text('Spring 2024')\n",
    "\n",
    "# select_semester.select_by_index(2)\n",
    "# select_semester.select_by_value('5241')\n"
   ]
  },
  {
   "cell_type": "markdown",
   "metadata": {},
   "source": [
    "<font size = \"5\">\n",
    "\n",
    "Type text into a search form\n",
    "\n",
    "<font size = \"3\">\n",
    "\n",
    "- Double check on the browser to see that the information <br>\n",
    "was entered."
   ]
  },
  {
   "cell_type": "code",
   "execution_count": 51,
   "metadata": {},
   "outputs": [],
   "source": [
    "# Find element to enter text\n",
    "form_search = driver.find_element('xpath','//input[@id = \"crit-keyword\"]') \n",
    "\n",
    "# Clear the text before typing anything\n",
    "form_search.clear()\n",
    "\n",
    "# Type something on the screen in the location of that particular element\n",
    "form_search.send_keys(\"qtm\")"
   ]
  },
  {
   "cell_type": "markdown",
   "metadata": {},
   "source": [
    "<font size = \"5\">\n",
    "\n",
    "Mimic entering \"Return\" on the keyboard"
   ]
  },
  {
   "cell_type": "code",
   "execution_count": 54,
   "metadata": {},
   "outputs": [],
   "source": [
    "# \"Keys\" is a Python object that stands for keyboard\n",
    "form_search.send_keys(Keys.RETURN)"
   ]
  },
  {
   "cell_type": "markdown",
   "metadata": {},
   "source": [
    "<font size = \"5\">\n",
    "\n",
    "Click on an element"
   ]
  },
  {
   "cell_type": "code",
   "execution_count": 53,
   "metadata": {},
   "outputs": [],
   "source": [
    "# Find element\n",
    "form_button = driver.find_element('xpath','//*[@id=\"search-button\"]') \n",
    "\n",
    "# Click on element\n",
    "# Note: Here the element that we choose happens to be a button, but \n",
    "# in general you can click on any element, the same way you would do \n",
    "# as a user.\n",
    "form_button.click()"
   ]
  },
  {
   "cell_type": "markdown",
   "metadata": {},
   "source": [
    "<font size = \"5\">\n",
    "\n",
    "Try it yourself!\n",
    "\n",
    "<font size = \"3\">\n",
    "\n",
    "- Find the ``` xpath ``` for the drop-down list \"Any Career\"\n",
    "- Select the option \"Emory College\"\n",
    "- Send the form\n"
   ]
  },
  {
   "cell_type": "code",
   "execution_count": 48,
   "metadata": {},
   "outputs": [],
   "source": [
    "# Write your own code\n",
    "\n",
    "\n",
    "\n"
   ]
  },
  {
   "cell_type": "markdown",
   "metadata": {},
   "source": [
    "# <span style=\"color:darkblue\"> III. Interact and Extract Data </span>"
   ]
  },
  {
   "cell_type": "markdown",
   "metadata": {},
   "source": [
    "<font size = \"5\">\n",
    "\n",
    "Some content is only available after interaction\n",
    "\n",
    "<font size = \"3\">\n",
    "\n",
    "- For example, in the course Atlas, some information becomes visible <br>\n",
    "after you search.\n",
    "- You need to make sure that the Python code mimics the process <br>\n",
    "you would use if you were to navigate the website.\n"
   ]
  },
  {
   "cell_type": "markdown",
   "metadata": {},
   "source": [
    "<font size = \"5\">\n",
    "\n",
    "Enter text in a form"
   ]
  },
  {
   "cell_type": "code",
   "execution_count": 56,
   "metadata": {},
   "outputs": [],
   "source": [
    "form_search = driver.find_element('xpath','//input[@id = \"crit-keyword\"]') \n",
    "form_search.clear()\n",
    "form_search.send_keys(\"computing\")\n",
    "form_search.send_keys(Keys.RETURN)"
   ]
  },
  {
   "cell_type": "markdown",
   "metadata": {},
   "source": [
    "<font size = \"5\">\n",
    "\n",
    "Extract list of resulting options\n",
    "\n",
    "<font size = \"3\">\n",
    "\n",
    "- Find \"xpath\" by browsing the website in Developer mode"
   ]
  },
  {
   "cell_type": "code",
   "execution_count": 63,
   "metadata": {},
   "outputs": [
    {
     "name": "stdout",
     "output_type": "stream",
     "text": [
      "83\n"
     ]
    }
   ],
   "source": [
    "list_results = driver.find_elements('xpath','//div[@class = \"result result--group-start\"]') \n",
    "\n",
    "# Check number of results\n",
    "num_results = len(list_results)\n",
    "print(num_results)\n"
   ]
  },
  {
   "cell_type": "markdown",
   "metadata": {},
   "source": [
    "<font size = \"5\">\n",
    "\n",
    "Extract information of a particular search result\n",
    "\n",
    "<font size = \"3\">\n",
    "\n",
    "- Conduct search for tags + attributes on subelements\n",
    "- Use ```.text()``` to extract content\n",
    "- In this example we are searching for attributes called \"result_code\" <br>\n",
    "and \"result__title\". These names just appear for this Emory website example. <br>\n",
    "In this example we are also extracting an HTML tag of type \"span\".\n"
   ]
  },
  {
   "cell_type": "code",
   "execution_count": 66,
   "metadata": {},
   "outputs": [
    {
     "name": "stdout",
     "output_type": "stream",
     "text": [
      "BIOL 212\n",
      "Computational Modeling for Scientists and Engineers\n"
     ]
    }
   ],
   "source": [
    "emory_coursecode = list_results[0].find_element('xpath','//span[@class = \"result__code\"] ').text\n",
    "emory_classname  = list_results[0].find_element('xpath','//span[@class = \"result__title\"] ').text\n",
    "\n",
    "print(emory_coursecode)\n",
    "print(emory_classname)\n"
   ]
  },
  {
   "cell_type": "markdown",
   "metadata": {},
   "source": [
    "<font size = \"5\">\n",
    "\n",
    "Store extracted data\n",
    "\n",
    "<font size = \"3\">\n",
    "\n",
    "- Conduct search for tags + attributes on subelements\n",
    "- Use ```.text()``` to extract content\n",
    "- In this example we are searching for attributes called \"result_code\" <br>\n",
    "and \"result__title\". These names just appear for this Emory website example. <br>\n",
    "In this example we are also extracting an HTML tag of type \"span\".\n"
   ]
  },
  {
   "cell_type": "code",
   "execution_count": 70,
   "metadata": {},
   "outputs": [
    {
     "data": {
      "text/html": [
       "<div>\n",
       "<style scoped>\n",
       "    .dataframe tbody tr th:only-of-type {\n",
       "        vertical-align: middle;\n",
       "    }\n",
       "\n",
       "    .dataframe tbody tr th {\n",
       "        vertical-align: top;\n",
       "    }\n",
       "\n",
       "    .dataframe thead th {\n",
       "        text-align: right;\n",
       "    }\n",
       "</style>\n",
       "<table border=\"1\" class=\"dataframe\">\n",
       "  <thead>\n",
       "    <tr style=\"text-align: right;\">\n",
       "      <th></th>\n",
       "      <th>coursecode</th>\n",
       "      <th>coursename</th>\n",
       "    </tr>\n",
       "  </thead>\n",
       "  <tbody>\n",
       "    <tr>\n",
       "      <th>0</th>\n",
       "      <td>BIOL 212</td>\n",
       "      <td>Computational Modeling for Scientists and Engi...</td>\n",
       "    </tr>\n",
       "    <tr>\n",
       "      <th>1</th>\n",
       "      <td>BIOL 212</td>\n",
       "      <td>Computational Modeling for Scientists and Engi...</td>\n",
       "    </tr>\n",
       "    <tr>\n",
       "      <th>2</th>\n",
       "      <td>BIOL 212</td>\n",
       "      <td>Computational Modeling for Scientists and Engi...</td>\n",
       "    </tr>\n",
       "    <tr>\n",
       "      <th>3</th>\n",
       "      <td>BIOL 212</td>\n",
       "      <td>Computational Modeling for Scientists and Engi...</td>\n",
       "    </tr>\n",
       "    <tr>\n",
       "      <th>4</th>\n",
       "      <td>BIOL 212</td>\n",
       "      <td>Computational Modeling for Scientists and Engi...</td>\n",
       "    </tr>\n",
       "    <tr>\n",
       "      <th>...</th>\n",
       "      <td>...</td>\n",
       "      <td>...</td>\n",
       "    </tr>\n",
       "    <tr>\n",
       "      <th>78</th>\n",
       "      <td>BIOL 212</td>\n",
       "      <td>Computational Modeling for Scientists and Engi...</td>\n",
       "    </tr>\n",
       "    <tr>\n",
       "      <th>79</th>\n",
       "      <td>BIOL 212</td>\n",
       "      <td>Computational Modeling for Scientists and Engi...</td>\n",
       "    </tr>\n",
       "    <tr>\n",
       "      <th>80</th>\n",
       "      <td>BIOL 212</td>\n",
       "      <td>Computational Modeling for Scientists and Engi...</td>\n",
       "    </tr>\n",
       "    <tr>\n",
       "      <th>81</th>\n",
       "      <td>BIOL 212</td>\n",
       "      <td>Computational Modeling for Scientists and Engi...</td>\n",
       "    </tr>\n",
       "    <tr>\n",
       "      <th>82</th>\n",
       "      <td>BIOL 212</td>\n",
       "      <td>Computational Modeling for Scientists and Engi...</td>\n",
       "    </tr>\n",
       "  </tbody>\n",
       "</table>\n",
       "<p>83 rows × 2 columns</p>\n",
       "</div>"
      ],
      "text/plain": [
       "   coursecode                                         coursename\n",
       "0    BIOL 212  Computational Modeling for Scientists and Engi...\n",
       "1    BIOL 212  Computational Modeling for Scientists and Engi...\n",
       "2    BIOL 212  Computational Modeling for Scientists and Engi...\n",
       "3    BIOL 212  Computational Modeling for Scientists and Engi...\n",
       "4    BIOL 212  Computational Modeling for Scientists and Engi...\n",
       "..        ...                                                ...\n",
       "78   BIOL 212  Computational Modeling for Scientists and Engi...\n",
       "79   BIOL 212  Computational Modeling for Scientists and Engi...\n",
       "80   BIOL 212  Computational Modeling for Scientists and Engi...\n",
       "81   BIOL 212  Computational Modeling for Scientists and Engi...\n",
       "82   BIOL 212  Computational Modeling for Scientists and Engi...\n",
       "\n",
       "[83 rows x 2 columns]"
      ]
     },
     "execution_count": 70,
     "metadata": {},
     "output_type": "execute_result"
    }
   ],
   "source": [
    "data = []\n",
    "for i in range(num_results):\n",
    "    # Extract data for a specific search results\n",
    "    # We use parenthesis to split the code into multiple lines to keep\n",
    "    # things organized.\n",
    "    emory_coursecode = (list_results[i]\n",
    "                        .find_element('xpath','//span[@class = \"result__code\"] ')\n",
    "                        .text)\n",
    "    emory_coursename  = (list_results[i]\n",
    "                        .find_element('xpath','//span[@class = \"result__title\"] ')\n",
    "                        .text)\n",
    "    \n",
    "    # Append data as dictionary\n",
    "    data.append({\"coursecode\": emory_coursecode,\n",
    "                 \"coursename\": emory_classname})\n",
    "\n",
    "# Convert to Pandas DataFrame\n",
    "data_df = pd.DataFrame(data)\n",
    "\n",
    "data_df"
   ]
  },
  {
   "cell_type": "markdown",
   "metadata": {},
   "source": [
    "<font size = \"5\">\n",
    "\n",
    "Try it yourself!\n",
    "\n",
    "<font size = \"3\">\n",
    "\n",
    "- Expand the dataset above by including the meeting time\n",
    "- To do so, browse the Emory Course Atlas website in develop mode <br>\n",
    "and find the tag that is used to denote the course meeting time.\n",
    "- Try to extract this first for a single element ``` list_results[0] ``` <br>\n",
    "and once this is working incorporate it into a loop.\n",
    "\n",
    "\n",
    "Note: In general it's good practice to make sure the code is running <br>\n",
    "on a single element before automating the process in a loop."
   ]
  },
  {
   "cell_type": "code",
   "execution_count": null,
   "metadata": {},
   "outputs": [],
   "source": [
    "# Write your own code\n",
    "\n",
    "\n",
    "\n"
   ]
  },
  {
   "cell_type": "markdown",
   "metadata": {},
   "source": [
    "# <span style=\"color:darkblue\"> IV. Additional Links </span>\n",
    "\n",
    "<font size = \"5\">\n",
    "\n",
    "More information on Selenium:\n",
    "\n",
    "https://www.selenium.dev/documentation/overview/\n",
    "\n",
    "Details on clicking through forms:\n",
    "\n",
    "https://www.selenium.dev/documentation/webdriver/support_features/select_lists/\n"
   ]
  }
 ],
 "metadata": {
  "kernelspec": {
   "display_name": "base",
   "language": "python",
   "name": "python3"
  },
  "language_info": {
   "codemirror_mode": {
    "name": "ipython",
    "version": 3
   },
   "file_extension": ".py",
   "mimetype": "text/x-python",
   "name": "python",
   "nbconvert_exporter": "python",
   "pygments_lexer": "ipython3",
   "version": "3.11.7"
  },
  "orig_nbformat": 4,
  "vscode": {
   "interpreter": {
    "hash": "45fc1f684f6f416f40889115beff3ddf69879b64cf4bfee48cb72a61e9d15d1a"
   }
  }
 },
 "nbformat": 4,
 "nbformat_minor": 2
}
