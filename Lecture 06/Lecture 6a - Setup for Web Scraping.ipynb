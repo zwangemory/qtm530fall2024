{
 "cells": [
  {
   "attachments": {},
   "cell_type": "markdown",
   "metadata": {},
   "source": [
    "# <span style=\"color:darkblue\"> Lecture 6a - Setup for Web Scraping </span>\n",
    "\n",
    "<font size = \"5\">\n",
    "\n",
    "In the previous class we covered ...\n",
    "\n",
    "<font size = \"3\">\n",
    "\n",
    "\n",
    "- The basics of web scraping: APIs and Web Crawling\n",
    "- We covered basic concepts, benefits, limitations, and <br>\n",
    "ethical considerations\n",
    "- How to access an API, JSON format and processing\n",
    "- Tree-like struture of many web formats\n",
    "\n",
    "<font size = \"5\">\n",
    "\n",
    "In this class we will cover ...\n",
    "\n",
    "<font size = \"3\">\n",
    "\n",
    "- Web crawling\n",
    "- Basics of extracting data using Selenium"
   ]
  },
  {
   "cell_type": "markdown",
   "metadata": {},
   "source": [
    "# <span style=\"color:darkblue\"> I. Install Google Chrome </span>"
   ]
  },
  {
   "cell_type": "markdown",
   "metadata": {},
   "source": [
    "<font size = \"5\">\n",
    "\n",
    "Install Google Chrome, if you haven't already. <br>\n",
    "We will connect Python to Chrome for web navigation."
   ]
  },
  {
   "cell_type": "markdown",
   "metadata": {},
   "source": [
    "# <span style=\"color:darkblue\"> II. Install Web Scraping Packages </span>"
   ]
  },
  {
   "cell_type": "markdown",
   "metadata": {},
   "source": [
    "Open your terminal:\n",
    "\n",
    "-  For Mac, open your operating system terminal\n",
    "-  For Windows, open the \"Anaconda Prompt\" program\n",
    "\n",
    "In the terminal you opened above, type in the following commands:\n",
    "\n",
    "``` conda install conda-forge::html5lib  ``` <br>\n",
    "``` conda install conda-forge::selenium  ``` <br>\n",
    "``` conda install conda-forge::webdriver-manager  ```\n",
    "\n",
    "If the terminal asks you if you want to install the packages, confirm yes.\n",
    "\n",
    "This is a general approach to install new packages\n"
   ]
  }
 ],
 "metadata": {
  "kernelspec": {
   "display_name": "base",
   "language": "python",
   "name": "python3"
  },
  "language_info": {
   "codemirror_mode": {
    "name": "ipython",
    "version": 3
   },
   "file_extension": ".py",
   "mimetype": "text/x-python",
   "name": "python",
   "nbconvert_exporter": "python",
   "pygments_lexer": "ipython3",
   "version": "3.9.18"
  },
  "orig_nbformat": 4,
  "vscode": {
   "interpreter": {
    "hash": "45fc1f684f6f416f40889115beff3ddf69879b64cf4bfee48cb72a61e9d15d1a"
   }
  }
 },
 "nbformat": 4,
 "nbformat_minor": 2
}
