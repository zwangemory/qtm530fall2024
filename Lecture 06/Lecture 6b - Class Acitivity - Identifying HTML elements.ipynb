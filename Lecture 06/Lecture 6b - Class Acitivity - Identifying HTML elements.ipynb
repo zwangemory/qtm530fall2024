{
 "cells": [
  {
   "attachments": {},
   "cell_type": "markdown",
   "metadata": {},
   "source": [
    "# <span style=\"color:darkblue\"> Lecture 6b - Identifyng HTML elements </span>"
   ]
  },
  {
   "cell_type": "markdown",
   "metadata": {},
   "source": [
    "<font size = \"5\">\n",
    "\n",
    "We will be working with the Course Atlas\n",
    "\n",
    "<font size = \"3\">\n",
    "\n",
    "- This is where Emory courses are listed\n",
    "- It is an interactive website that displays information <br>\n",
    "as you click through <br>\n",
    "- Our goal is to open this website in developer mode in <br>\n",
    "order to understand its HTML structure. <br>\n",
    "\n",
    "<br>\n",
    "\n",
    "<img src=\"figures/screenshot_homepage.png\" alt=\"drawing\" width=\"400\"/>"
   ]
  },
  {
   "cell_type": "markdown",
   "metadata": {},
   "source": [
    "# <span style=\"color:darkblue\"> I. Getting Started </span>"
   ]
  },
  {
   "cell_type": "markdown",
   "metadata": {},
   "source": [
    "<font size = \"5\">\n",
    "\n",
    "Browse Course Atlas using developer mode\n",
    "\n",
    "<font size = \"3\">\n",
    "\n",
    "- Open Google Chrome\n",
    "- Navigate to http://atlas.emory.edu\n",
    "- Open \"Developer Tools\". The location of this option can vary <br>\n",
    "depending on your version of Chrome, but it is sometimes located in <br>\n",
    "Options > More Tools > Developer Tools.\n",
    "\n"
   ]
  },
  {
   "cell_type": "markdown",
   "metadata": {},
   "source": [
    "<font size = \"5\">\n",
    "\n",
    "Developer mode should look something like this\n",
    "\n",
    "<img src=\"figures/screenshot_courseatlas_developer.png\" alt=\"drawing\" width=\"500\"/>"
   ]
  },
  {
   "cell_type": "markdown",
   "metadata": {},
   "source": [
    "<font size = \"5\">\n",
    "\n",
    "What should you see?\n",
    "\n",
    "<font size = \"3\">\n",
    "\n",
    "- The raw HTML code for the website to the side\n",
    "- If you hover your mouse over an element in developer mode, <br>\n",
    "it should highlight the corresponding section of the website.\n",
    "- HTML has a nested structure. You can navigate within the nested <br>\n",
    "structure by clicking on the drop-down menus\n"
   ]
  },
  {
   "cell_type": "markdown",
   "metadata": {},
   "source": [
    "<font size = \"5\">\n",
    "\n",
    "Copying HTML code:\n",
    "\n",
    "<font size = \"3\">\n",
    "\n",
    "- If you right-click on a particular element you will get a chance to <br>\n",
    "copy the HTML code <br>\n",
    "- In particular you will see an option called \"xpath\", which is useful for <br>\n",
    "web scraping\n",
    "\n",
    "<br>\n",
    "\n",
    "<img src=\"figures/screenshot_xpath.png\" alt=\"drawing\" width=\"300\"/>"
   ]
  },
  {
   "cell_type": "markdown",
   "metadata": {},
   "source": [
    "# <span style=\"color:darkblue\"> II. Activity </span>\n",
    "\n",
    "<font size = \"5\">\n",
    "\n",
    "Web scraping is made much easier by browsing the raw <br>\n",
    "HTML code in developer mode before diving into Python web <br>\n",
    "scraping tools.\n",
    "\n",
    "<font size = \"3\">\n",
    "\n",
    "- Our goal is to familiarize ourselves with the basic elements <br>\n",
    "before proceding with the Python automated implementation."
   ]
  },
  {
   "cell_type": "markdown",
   "metadata": {},
   "source": [
    "<font size = \"5\">\n",
    "\n",
    "Try it yourself!\n",
    "\n",
    "<font size = \"3\">\n",
    "\n",
    "- In Developer Mode find the HTML element that denotes <br>\n",
    "for the drop-down menu for the semester, e.g. Fall ..., Spring, etc.\n",
    "- Write down the name of the tag that contains this information\n",
    "- Write down the value for the attribute \"class\".\n",
    "- Write down the \"xpath\"."
   ]
  },
  {
   "cell_type": "code",
   "execution_count": null,
   "metadata": {},
   "outputs": [],
   "source": [
    "# Write down your answers as a comment\n",
    "\n",
    "\n",
    "\n"
   ]
  },
  {
   "cell_type": "markdown",
   "metadata": {},
   "source": [
    "<font size = \"5\">\n",
    "\n",
    "Try it yourself!\n",
    "\n",
    "<font size = \"3\">\n",
    "\n",
    "- Type something in the search bar, e.g. \"math\".\n",
    "- Locate the tag for the first option that appears in the results page.\n",
    "- Write down the name of the tag that contains this information\n",
    "- Write down the value for the attribute \"class\".\n",
    "- Write down the \"xpath\".\n"
   ]
  },
  {
   "cell_type": "code",
   "execution_count": null,
   "metadata": {},
   "outputs": [],
   "source": [
    "# Write down your answers as a comment\n",
    "\n",
    "\n",
    "\n",
    "\n"
   ]
  }
 ],
 "metadata": {
  "kernelspec": {
   "display_name": "base",
   "language": "python",
   "name": "python3"
  },
  "language_info": {
   "codemirror_mode": {
    "name": "ipython",
    "version": 3
   },
   "file_extension": ".py",
   "mimetype": "text/x-python",
   "name": "python",
   "nbconvert_exporter": "python",
   "pygments_lexer": "ipython3",
   "version": "3.9.18"
  },
  "orig_nbformat": 4,
  "vscode": {
   "interpreter": {
    "hash": "45fc1f684f6f416f40889115beff3ddf69879b64cf4bfee48cb72a61e9d15d1a"
   }
  }
 },
 "nbformat": 4,
 "nbformat_minor": 2
}
