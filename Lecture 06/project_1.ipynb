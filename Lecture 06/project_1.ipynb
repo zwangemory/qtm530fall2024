{
 "cells": [
  {
   "cell_type": "markdown",
   "metadata": {},
   "source": [
    "# <span style=\"color:darkblue\"> Project 1 Zeyuan Wang </span>"
   ]
  },
  {
   "cell_type": "code",
   "execution_count": 1,
   "metadata": {},
   "outputs": [],
   "source": [
    "# import packages \n",
    "\n",
    "\n",
    "import pandas as pd\n",
    "from lxml import html\n",
    "# Work with time data\n",
    "import time \n",
    "\n",
    "# Conduct HTTP requests\n",
    "import requests\n",
    "\n",
    "# Construct tree structure of HTML data\n",
    "import html5lib\n",
    "\n",
    "# Parse HTML data obtained from scraping\n",
    "from bs4 import BeautifulSoup\n",
    "\n",
    "# Import webdriver for chrome\n",
    "from webdriver_manager.chrome import ChromeDriverManager\n",
    "\n",
    "\n",
    "\n",
    "# Automate navigating within browser (SELENIUM)\n",
    "#------ Key: Manage keys\n",
    "#------ Select: Obtain features from website\n",
    "#------ WebDriverWait: Add wait times implicitly\n",
    "#------ By: Use common information locator strategies\n",
    "#------ EC and Options: Browser configuration\n",
    "#------ remote.command: Check whether browser is active\n",
    "\n",
    "from selenium import webdriver #to automate the navigating within the browser\n",
    "from selenium.webdriver.chrome.service import service\n",
    "from selenium.webdriver.common.keys    import Keys\n",
    "from selenium.webdriver.support.ui     import Select\n",
    "from selenium.webdriver.support.ui     import WebDriverWait \n",
    "from selenium.webdriver.common.by      import By\n",
    "from selenium.webdriver.support        import expected_conditions as EC\n",
    "from selenium.webdriver.chrome.options import Options #to use properties of the chrome webbrowser\n",
    "from selenium.webdriver.remote.command import Command # Use to check whether the web driver is active\n"
   ]
  },
  {
   "cell_type": "code",
   "execution_count": 2,
   "metadata": {},
   "outputs": [],
   "source": [
    "#initialize web driver\n",
    "\n",
    "\n",
    "\n",
    "# Open browser to start web scraping\n",
    "options = webdriver.ChromeOptions()\n",
    "options.headless = False \n",
    "driver = webdriver.Chrome(options=options)\n",
    "\n",
    "# Navigate to specific website\n",
    "starting_url = 'https://www.bu.edu/gdp/chinese-loans-to-africa-database/'\n",
    "driver.get(starting_url)\n"
   ]
  },
  {
   "cell_type": "code",
   "execution_count": 3,
   "metadata": {},
   "outputs": [],
   "source": [
    "#there is a button to be clicked on to get to the main data page , so we need website navigation\n",
    "\n",
    "time.sleep(3)  # Adjust as necessary\n",
    "\n",
    "# Find the button using its XPath\n",
    "explore_button = driver.find_element(By.XPATH, \"/html/body/div/div/div/div[4]/button\")\n",
    "    \n",
    "explore_button.click()\n",
    "\n",
    "# Wait to see the result\n",
    "time.sleep(5) \n"
   ]
  },
  {
   "cell_type": "markdown",
   "metadata": {},
   "source": [
    "<font size = \"5\">\n",
    "Scraping Algorithm"
   ]
  },
  {
   "cell_type": "markdown",
   "metadata": {},
   "source": [
    "<font size = \"4\">\n",
    "From this data, we want to extract data from the first and second table, which have project information on Chinese loans to Africa in the Energy and the Transportation sector. "
   ]
  },
  {
   "cell_type": "markdown",
   "metadata": {},
   "source": [
    "<font size = \"4\">\n",
    "First, extract all information needed from the first table. "
   ]
  },
  {
   "cell_type": "code",
   "execution_count": 10,
   "metadata": {},
   "outputs": [],
   "source": [
    "# The table collapses rows, to find relevant the html codes and extract data, we need to expand the first table. \n",
    "# note: the website did not make this html interactable, but the table can be expanded munually in the web\n",
    "\n",
    "#the following code does not work: \n",
    "# explore_button = driver.find_element(By.XPATH, \"/html/body/div/div/div/div[4]/table[1]/thead/tr[3]/td[1]\")\n",
    "    \n",
    "# explore_button.click()\n",
    "\n",
    "#maybe there are other implicit ways of doing the interaction which I did not find\n"
   ]
  },
  {
   "cell_type": "code",
   "execution_count": 4,
   "metadata": {},
   "outputs": [],
   "source": [
    "\n",
    "# now, we can find all rows with project information\n",
    "\n",
    "# XPath for the first table\n",
    "table_xpath = '/html/body/div/div/div/div[4]/table[1]'\n",
    "\n",
    "# Extract table rows\n",
    "rows = driver.find_elements(By.XPATH, table_xpath )\n",
    "\n",
    "# Extract all project rows\n",
    "\n",
    "project_rows = driver.find_elements(By.CLASS_NAME, \"loanRow\")\n"
   ]
  },
  {
   "cell_type": "code",
   "execution_count": 5,
   "metadata": {},
   "outputs": [
    {
     "name": "stdout",
     "output_type": "stream",
     "text": [
      "    Country Project No.                                       Project Name  \\\n",
      "0                     1       Luanda Electrical Network Expansion, Phase I   \n",
      "1                     2                        Lubango Electricity Network   \n",
      "2                     3                     Namibe and Tombowa Electricity   \n",
      "3                     4  Luanda Electrical Network Rehabilitation and E...   \n",
      "4                     5       Quifangondo-Mabubas Transmission Line (60kV)   \n",
      "..                  ...                                                ...   \n",
      "202                   1                    Donsin Solar Power Plant (25MW)   \n",
      "203                   1               Boali No.3 Hydropower Project (10MW)   \n",
      "204                   2        Sakai Solar Photovoltaic Power Plant (15MW)   \n",
      "205                   1  Addis-Djibouti Railway Electrification, Nagad-...   \n",
      "206                   1            Financing for Central Electricity Board   \n",
      "\n",
      "     Year  Lender Allocation (USD)  \n",
      "0    2002  CHEXIM           $15.0M  \n",
      "1    2002  CHEXIM           $15.0M  \n",
      "2    2002  CHEXIM           $25.0M  \n",
      "3    2004  CHEXIM           $40.1M  \n",
      "4    2005  CHEXIM           $13.1M  \n",
      "..    ...     ...              ...  \n",
      "202  2023  CHEXIM           $50.1M  \n",
      "203  2010   CIDCA           $17.7M  \n",
      "204  2019   CIDCA           $29.0M  \n",
      "205  2016  CHEXIM           $20.4M  \n",
      "206  2011  CHEXIM            $5.8M  \n",
      "\n",
      "[207 rows x 5 columns]\n"
     ]
    }
   ],
   "source": [
    "# Initialize list to store data\n",
    "data = []\n",
    "\n",
    "# Loop through the project rows and extract relevant information\n",
    "for row in project_rows:\n",
    "    cells = row.find_elements(By.TAG_NAME, \"td\")\n",
    "    project_data = [cell.text for cell in cells]\n",
    "    data.append(project_data)\n",
    "\n",
    "# Define column names\n",
    "columns = [\"Country Project No.\", \"Project Name\", \"Year\", \"Lender\", \"Allocation (USD)\"]\n",
    "\n",
    "# Create a DataFrame with the extracted data\n",
    "df = pd.DataFrame(data, columns=columns)\n",
    "\n",
    "# Display the DataFrame\n",
    "print(df)"
   ]
  },
  {
   "cell_type": "code",
   "execution_count": 6,
   "metadata": {},
   "outputs": [
    {
     "name": "stderr",
     "output_type": "stream",
     "text": [
      "<>:26: SyntaxWarning: invalid escape sequence '\\d'\n",
      "<>:26: SyntaxWarning: invalid escape sequence '\\d'\n",
      "C:\\Users\\Zeyuan Wang\\AppData\\Local\\Temp\\ipykernel_18440\\3379704046.py:26: SyntaxWarning: invalid escape sequence '\\d'\n",
      "  df2['Number of Loans'] = df2['Number of Loans'].str.extract('(\\d+)').astype(float)\n"
     ]
    }
   ],
   "source": [
    "# the information of country name is also in the table, as the first row for each country. \n",
    "# we need to extract the information. \n",
    "\n",
    "# Locate the first table again\n",
    "table_xpath = \"/html/body/div/div/div/div[4]/table[1]\"\n",
    "table = driver.find_element(By.XPATH, table_xpath)\n",
    "\n",
    "# Initialize a list to store country names and loan numbers\n",
    "country_data = []\n",
    "\n",
    "# Loop through the rows with country information\n",
    "rows = table.find_elements(By.XPATH, \"./tbody/tr[starts-with(@style, 'font-weight: 600')]\")\n",
    "\n",
    "for row in rows:\n",
    "    # Find country name and loan number from the row\n",
    "    country_name = row.find_element(By.XPATH, \".//td[2]\").text\n",
    "    loan_info = row.find_element(By.XPATH, \".//td[3]\").text\n",
    "    country_data.append([country_name, loan_info])\n",
    "\n",
    "# Create a DataFrame for country name and number of loans\n",
    "df2 = pd.DataFrame(country_data, columns=[\"Country\", \"Number of Loans\"])\n",
    "\n",
    "#make the second variable numerical\n",
    "\n",
    "\n",
    "df2['Number of Loans'] = df2['Number of Loans'].str.extract('(\\d+)').astype(float) \n",
    "\n",
    "\n"
   ]
  },
  {
   "cell_type": "markdown",
   "metadata": {},
   "source": [
    "<font size = \"4\"> \n",
    "\n",
    "Merge Data and Create Data Frame\n"
   ]
  },
  {
   "cell_type": "code",
   "execution_count": 7,
   "metadata": {},
   "outputs": [
    {
     "name": "stdout",
     "output_type": "stream",
     "text": [
      "    Country Project No.                                       Project Name  \\\n",
      "0                     1       Luanda Electrical Network Expansion, Phase I   \n",
      "1                     2                        Lubango Electricity Network   \n",
      "2                     3                     Namibe and Tombowa Electricity   \n",
      "3                     4  Luanda Electrical Network Rehabilitation and E...   \n",
      "4                     5       Quifangondo-Mabubas Transmission Line (60kV)   \n",
      "..                  ...                                                ...   \n",
      "202                   1                    Donsin Solar Power Plant (25MW)   \n",
      "203                   1               Boali No.3 Hydropower Project (10MW)   \n",
      "204                   2        Sakai Solar Photovoltaic Power Plant (15MW)   \n",
      "205                   1  Addis-Djibouti Railway Electrification, Nagad-...   \n",
      "206                   1            Financing for Central Electricity Board   \n",
      "\n",
      "     Year  Lender Allocation (USD)                   Country Loan_Type  \n",
      "0    2002  CHEXIM           $15.0M                    Angola    Energy  \n",
      "1    2002  CHEXIM           $15.0M                    Angola    Energy  \n",
      "2    2002  CHEXIM           $25.0M                    Angola    Energy  \n",
      "3    2004  CHEXIM           $40.1M                    Angola    Energy  \n",
      "4    2005  CHEXIM           $13.1M                    Angola    Energy  \n",
      "..    ...     ...              ...                       ...       ...  \n",
      "202  2023  CHEXIM           $50.1M              Burkina Faso    Energy  \n",
      "203  2010   CIDCA           $17.7M  Central African Republic    Energy  \n",
      "204  2019   CIDCA           $29.0M  Central African Republic    Energy  \n",
      "205  2016  CHEXIM           $20.4M                  Djibouti    Energy  \n",
      "206  2011  CHEXIM            $5.8M                 Mauritius    Energy  \n",
      "\n",
      "[207 rows x 7 columns]\n"
     ]
    }
   ],
   "source": [
    "# To merge country names to the project data, we need a new list \n",
    "\n",
    "#  repeats the country names according to their corresponding loan numbers\n",
    "\n",
    "# Create a new DataFrame with one column repeating the categories\n",
    "repeated_categories = df2['Country'].repeat(df2['Number of Loans']).reset_index(drop=True)\n",
    "\n",
    "# Convert to DataFrame\n",
    "df3 = pd.DataFrame(repeated_categories, columns=['Country'])\n",
    "df3['Loan_Type'] = 'Energy'\n",
    "\n",
    "#lastly. merge the data to have the complete list of Energe loans \n",
    "\n",
    "merged_Energy = pd.concat([df, df3], axis=1)\n",
    "\n",
    "\n",
    "#display result\n",
    "print(merged_Energy)\n"
   ]
  },
  {
   "cell_type": "markdown",
   "metadata": {},
   "source": [
    "<font size = \"4\">\n",
    "\n",
    "To extract data for different items (from table 2), we turn to the second table, which involves projects in the transportation sector."
   ]
  },
  {
   "cell_type": "code",
   "execution_count": 8,
   "metadata": {},
   "outputs": [],
   "source": [
    "# Here, I basically repeat the scraping algorithm used in the first section \n",
    "\n",
    "# The table collapses rows, to find relevant the html codes and extract data, we need to again\n",
    "#  expand the second table. This time, however, the author makes the code interactale.\n",
    "\n",
    "\n",
    "\n",
    "explore_button = driver.find_element(By.XPATH, \"/html/body/div/div/div/div[4]/table[2]/thead/tr[3]/td[1]\")\n",
    "    \n",
    "explore_button.click()\n",
    "\n",
    "\n",
    "\n"
   ]
  },
  {
   "cell_type": "code",
   "execution_count": 9,
   "metadata": {},
   "outputs": [
    {
     "name": "stdout",
     "output_type": "stream",
     "text": [
      "    Country Project No.                                       Project Name  \\\n",
      "0                     1  Luanda Railway, Rehabilitation, Phase I, Luand...   \n",
      "1                     2                             Road Transport Support   \n",
      "2                     3          Benguela Railway, Huambo Railway (1344km)   \n",
      "3                     4         Kifangondo-Caxito-Uíge-Negage Road (371km)   \n",
      "4                     5          Caxito-Nzeto Road, Rehabilitation (208km)   \n",
      "..                  ...                                                ...   \n",
      "331                   1      Roberts International Airport, Rehabilitation   \n",
      "332                   1        Access Road to Mugere Hydroelectric Project   \n",
      "333                   2                                MA60 Plane Purchase   \n",
      "334                   1       Purchase of Y-12E Utility Aircraft (2 Units)   \n",
      "335                   1  Moroni, Prince Said Ibrahim International Airport   \n",
      "\n",
      "     Year  Lender Allocation (USD)  \n",
      "0    2002  CHEXIM           $90.0M  \n",
      "1    2004  CHEXIM           $12.5M  \n",
      "2    2004  CHEXIM          $362.3M  \n",
      "3    2005  CHEXIM          $191.0M  \n",
      "4    2007  CHEXIM          $618.9M  \n",
      "..    ...     ...              ...  \n",
      "331  2016  CHEXIM           $52.7M  \n",
      "332  2008   CIDCA            $2.9M  \n",
      "333  2013  CHEXIM           $31.5M  \n",
      "334  2008  CHEXIM           $11.0M  \n",
      "335  2004  CHEXIM            $8.0M  \n",
      "\n",
      "[336 rows x 5 columns]\n"
     ]
    }
   ],
   "source": [
    "\n",
    "\n",
    "# now, we can find all rows with project information\n",
    "\n",
    "# XPath for the second table\n",
    "table_xpath_2 = '/html/body/div/div/div/div[4]/table[2]'\n",
    "\n",
    "# Extract table rows\n",
    "rows = driver.find_elements(By.XPATH, table_xpath_2 )\n",
    "\n",
    "# Extract all project rows\n",
    "\n",
    "project_rows = driver.find_elements(By.CLASS_NAME, \"loanRow\")\n",
    "\n",
    "# Initialize list to store data\n",
    "data = []\n",
    "\n",
    "# Loop through the project rows and extract relevant information\n",
    "for row in project_rows:\n",
    "    cells = row.find_elements(By.TAG_NAME, \"td\")\n",
    "    project_data = [cell.text for cell in cells]\n",
    "    data.append(project_data)\n",
    "\n",
    "# Define column names\n",
    "columns = [\"Country Project No.\", \"Project Name\", \"Year\", \"Lender\", \"Allocation (USD)\"]\n",
    "\n",
    "# Create a DataFrame with the extracted data\n",
    "df4 = pd.DataFrame(data, columns=columns)\n",
    "\n",
    "# Display the DataFrame\n",
    "print(df4)\n"
   ]
  },
  {
   "cell_type": "code",
   "execution_count": 10,
   "metadata": {},
   "outputs": [
    {
     "name": "stderr",
     "output_type": "stream",
     "text": [
      "<>:26: SyntaxWarning: invalid escape sequence '\\d'\n",
      "<>:26: SyntaxWarning: invalid escape sequence '\\d'\n",
      "C:\\Users\\Zeyuan Wang\\AppData\\Local\\Temp\\ipykernel_18440\\3636958240.py:26: SyntaxWarning: invalid escape sequence '\\d'\n",
      "  df5['Number of Loans'] = df5['Number of Loans'].str.extract('(\\d+)').astype(float)\n"
     ]
    }
   ],
   "source": [
    "# the information of country name is also in the table, as the first row for each country. \n",
    "# we need to extract the information. \n",
    "\n",
    "# Locate the second table again\n",
    "table_xpath = \"/html/body/div/div/div/div[4]/table[2]\"\n",
    "table = driver.find_element(By.XPATH, table_xpath)\n",
    "\n",
    "# Initialize a list to store country names and loan numbers\n",
    "country_data = []\n",
    "\n",
    "# Loop through the rows with country information\n",
    "rows = table.find_elements(By.XPATH, \"./tbody/tr[starts-with(@style, 'font-weight: 600')]\")\n",
    "\n",
    "for row in rows:\n",
    "    # Find country name and loan number from the row\n",
    "    country_name = row.find_element(By.XPATH, \".//td[2]\").text\n",
    "    loan_info = row.find_element(By.XPATH, \".//td[3]\").text\n",
    "    country_data.append([country_name, loan_info])\n",
    "\n",
    "# Create a DataFrame for country name and number of loans\n",
    "df5 = pd.DataFrame(country_data, columns=[\"Country\", \"Number of Loans\"])\n",
    "\n",
    "#make the second variable numerical\n",
    "\n",
    "\n",
    "df5['Number of Loans'] = df5['Number of Loans'].str.extract('(\\d+)').astype(float) \n",
    "\n",
    "\n",
    "\n",
    "# merge country names to the project data\n",
    "\n",
    "\n",
    "# Create a new DataFrame with one column repeating the categories\n",
    "repeated_categories = df5['Country'].repeat(df5['Number of Loans']).reset_index(drop=True)\n",
    "\n",
    "# Convert to DataFrame\n",
    "df6 = pd.DataFrame(repeated_categories, columns=['Country'])\n",
    "df6['Loan_Type'] = 'Transportation'\n",
    "\n",
    "#lastly. merge the data to have the complete list of Energe loans \n",
    "\n",
    "merged_Trans = pd.concat([df4, df6], axis=1)\n",
    "\n",
    "\n",
    "\n",
    "\n"
   ]
  },
  {
   "cell_type": "markdown",
   "metadata": {},
   "source": [
    "<font size = \"4\">\n",
    "\n",
    "In the end, we merge all data for the first and the second table. "
   ]
  },
  {
   "cell_type": "code",
   "execution_count": 11,
   "metadata": {},
   "outputs": [
    {
     "name": "stdout",
     "output_type": "stream",
     "text": [
      "    Country Project No.                                       Project Name  \\\n",
      "0                     1       Luanda Electrical Network Expansion, Phase I   \n",
      "1                     2                        Lubango Electricity Network   \n",
      "2                     3                     Namibe and Tombowa Electricity   \n",
      "3                     4  Luanda Electrical Network Rehabilitation and E...   \n",
      "4                     5       Quifangondo-Mabubas Transmission Line (60kV)   \n",
      "..                  ...                                                ...   \n",
      "538                   1      Roberts International Airport, Rehabilitation   \n",
      "539                   1        Access Road to Mugere Hydroelectric Project   \n",
      "540                   2                                MA60 Plane Purchase   \n",
      "541                   1       Purchase of Y-12E Utility Aircraft (2 Units)   \n",
      "542                   1  Moroni, Prince Said Ibrahim International Airport   \n",
      "\n",
      "     Year  Lender Allocation (USD)     Country       Loan_Type  \n",
      "0    2002  CHEXIM           $15.0M      Angola          Energy  \n",
      "1    2002  CHEXIM           $15.0M      Angola          Energy  \n",
      "2    2002  CHEXIM           $25.0M      Angola          Energy  \n",
      "3    2004  CHEXIM           $40.1M      Angola          Energy  \n",
      "4    2005  CHEXIM           $13.1M      Angola          Energy  \n",
      "..    ...     ...              ...         ...             ...  \n",
      "538  2016  CHEXIM           $52.7M     Liberia  Transportation  \n",
      "539  2008   CIDCA            $2.9M     Burundi  Transportation  \n",
      "540  2013  CHEXIM           $31.5M     Burundi  Transportation  \n",
      "541  2008  CHEXIM           $11.0M  Seychelles  Transportation  \n",
      "542  2004  CHEXIM            $8.0M     Comoros  Transportation  \n",
      "\n",
      "[543 rows x 7 columns]\n"
     ]
    }
   ],
   "source": [
    "merged_df = pd.concat([merged_Energy, merged_Trans], ignore_index=True)\n",
    "\n",
    "#display result\n",
    "print(merged_df)\n"
   ]
  },
  {
   "cell_type": "markdown",
   "metadata": {},
   "source": [
    "<font size = \"5\">\n",
    "Results"
   ]
  },
  {
   "cell_type": "code",
   "execution_count": 12,
   "metadata": {},
   "outputs": [
    {
     "name": "stdout",
     "output_type": "stream",
     "text": [
      "                     Total Observations  Missing Values\n",
      "Country Project No.                 543               0\n",
      "Project Name                        543               0\n",
      "Year                                543               0\n",
      "Lender                              543               0\n",
      "Allocation (USD)                    543               0\n",
      "Country                             543               0\n",
      "Loan_Type                           543               0\n"
     ]
    }
   ],
   "source": [
    "#quality check of observations and missing values and present table\n",
    "\n",
    "\n",
    "summary_table = pd.DataFrame({\n",
    "    'Total Observations': merged_df.count(),\n",
    "    'Missing Values': merged_df.isnull().sum()\n",
    "})\n",
    "\n",
    "print(summary_table)"
   ]
  },
  {
   "cell_type": "code",
   "execution_count": 13,
   "metadata": {},
   "outputs": [
    {
     "name": "stdout",
     "output_type": "stream",
     "text": [
      "Allocation Mean: 212508655.6169429\n",
      "Allocation Variance: 2.9922518234191635e+17\n"
     ]
    }
   ],
   "source": [
    "\n",
    "#the main number in the data is the allocation amount, but we need to transform that into numerical variables\n",
    "\n",
    "\n",
    "\n",
    "# Create a function to convert money string to numerical values\n",
    "def money_to_num(money_str):\n",
    "    if 'M' in money_str:\n",
    "        return float(money_str.replace('$', '').replace('M', '')) * 1e6\n",
    "    elif 'B' in money_str:\n",
    "        return float(money_str.replace('$', '').replace('B', '')) * 1e9\n",
    "    elif 'K' in money_str:\n",
    "        return float(money_str.replace('$', '').replace('K', '')) * 1e3\n",
    "    else:\n",
    "        return float(money_str.replace('$', ''))\n",
    "\n",
    "# Apply the function to the Amount column\n",
    "merged_df['Amount_Numeric'] = merged_df['Allocation (USD)'].apply(money_to_num)\n",
    "\n",
    "#calculate mean and variance\n",
    "\n",
    "mean_value = merged_df['Amount_Numeric'] .mean()\n",
    "variance_value = merged_df['Amount_Numeric'] .var()\n",
    "\n",
    "print(\"Allocation Mean:\", mean_value)\n",
    "print(\"Allocation Variance:\", variance_value)\n"
   ]
  },
  {
   "cell_type": "markdown",
   "metadata": {},
   "source": [
    "<font size = \"4\">\n",
    "\n",
    "Store dataset in a different file"
   ]
  },
  {
   "cell_type": "code",
   "execution_count": 25,
   "metadata": {},
   "outputs": [],
   "source": [
    "\n",
    "merged_df.to_csv(\"project_1.csv\")\n"
   ]
  }
 ],
 "metadata": {
  "kernelspec": {
   "display_name": "base",
   "language": "python",
   "name": "python3"
  },
  "language_info": {
   "codemirror_mode": {
    "name": "ipython",
    "version": 3
   },
   "file_extension": ".py",
   "mimetype": "text/x-python",
   "name": "python",
   "nbconvert_exporter": "python",
   "pygments_lexer": "ipython3",
   "version": "3.12.3"
  }
 },
 "nbformat": 4,
 "nbformat_minor": 2
}
