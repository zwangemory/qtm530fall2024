{
 "cells": [
  {
   "cell_type": "markdown",
   "metadata": {},
   "source": [
    "# <span style=\"color:darkblue\"> Project 1 Zeyuan Wang </span>"
   ]
  },
  {
   "cell_type": "code",
   "execution_count": 1,
   "metadata": {},
   "outputs": [],
   "source": [
    "# import packages \n",
    "\n",
    "\n",
    "import pandas as pd\n",
    "from lxml import html\n",
    "# Work with time data\n",
    "import time \n",
    "\n",
    "# Conduct HTTP requests\n",
    "import requests\n",
    "\n",
    "# Construct tree structure of HTML data\n",
    "import html5lib\n",
    "\n",
    "# Parse HTML data obtained from scraping\n",
    "from bs4 import BeautifulSoup\n",
    "\n",
    "# Import webdriver for chrome\n",
    "from webdriver_manager.chrome import ChromeDriverManager\n",
    "\n",
    "\n",
    "\n",
    "# Automate navigating within browser (SELENIUM)\n",
    "#------ Key: Manage keys\n",
    "#------ Select: Obtain features from website\n",
    "#------ WebDriverWait: Add wait times implicitly\n",
    "#------ By: Use common information locator strategies\n",
    "#------ EC and Options: Browser configuration\n",
    "#------ remote.command: Check whether browser is active\n",
    "\n",
    "from selenium import webdriver #to automate the navigating within the browser\n",
    "from selenium.webdriver.chrome.service import service\n",
    "from selenium.webdriver.common.keys    import Keys\n",
    "from selenium.webdriver.support.ui     import Select\n",
    "from selenium.webdriver.support.ui     import WebDriverWait \n",
    "from selenium.webdriver.common.by      import By\n",
    "from selenium.webdriver.support        import expected_conditions as EC\n",
    "from selenium.webdriver.chrome.options import Options #to use properties of the chrome webbrowser\n",
    "from selenium.webdriver.remote.command import Command # Use to check whether the web driver is active\n"
   ]
  },
  {
   "cell_type": "code",
   "execution_count": 8,
   "metadata": {},
   "outputs": [],
   "source": [
    "#initialize web driver\n",
    "\n",
    "\n",
    "\n",
    "# Open browser to start web scraping\n",
    "options = webdriver.ChromeOptions()\n",
    "options.headless = False \n",
    "driver = webdriver.Chrome(options=options)\n",
    "\n",
    "# Navigate to specific website\n",
    "starting_url = 'https://www.bu.edu/gdp/chinese-loans-to-africa-database/'\n",
    "driver.get(starting_url)\n"
   ]
  },
  {
   "cell_type": "code",
   "execution_count": 9,
   "metadata": {},
   "outputs": [],
   "source": [
    "#there is a button to be clicked on to get to the main data page \n",
    "\n",
    "time.sleep(3)  # Adjust as necessary; better to use WebDriverWait for production code \n",
    "\n",
    "# Find the button using its XPath\n",
    "explore_button = driver.find_element(By.XPATH, \"/html/body/div/div/div/div[4]/button\")\n",
    "    \n",
    "explore_button.click()\n",
    "\n",
    "# Wait to see the result\n",
    "time.sleep(5) \n"
   ]
  },
  {
   "cell_type": "markdown",
   "metadata": {},
   "source": [
    "<font size = \"5\">\n",
    "From this data, we want to extract data from the first table, which have project information on Chinese loans to Africa in the Energy sector. "
   ]
  },
  {
   "cell_type": "markdown",
   "metadata": {},
   "source": [
    "<font size = \"5\">\n",
    "First, extract all information needed from the first table. "
   ]
  },
  {
   "cell_type": "code",
   "execution_count": 11,
   "metadata": {},
   "outputs": [],
   "source": [
    "# /html/body/div/div/div/div[4]/table[1]/thead/tr[3]/td[1]\n",
    "\n",
    "# XPath for the first table\n",
    "table_xpath = '/html/body/div/div/div/div[4]/table[1]'\n",
    "\n",
    "# Extract table rows\n",
    "rows = driver.find_elements(By.XPATH, table_xpath )\n",
    "\n",
    "# Extract all project rows\n",
    "\n",
    "project_rows = driver.find_elements(By.CLASS_NAME, \"loanRow\")\n"
   ]
  },
  {
   "cell_type": "code",
   "execution_count": 12,
   "metadata": {},
   "outputs": [
    {
     "name": "stdout",
     "output_type": "stream",
     "text": [
      "    Country Project No.                                       Project Name  \\\n",
      "0                     1       Luanda Electrical Network Expansion, Phase I   \n",
      "1                     2                        Lubango Electricity Network   \n",
      "2                     3                     Namibe and Tombowa Electricity   \n",
      "3                     4  Luanda Electrical Network Rehabilitation and E...   \n",
      "4                     5       Quifangondo-Mabubas Transmission Line (60kV)   \n",
      "..                  ...                                                ...   \n",
      "202                   1                    Donsin Solar Power Plant (25MW)   \n",
      "203                   1               Boali No.3 Hydropower Project (10MW)   \n",
      "204                   2        Sakai Solar Photovoltaic Power Plant (15MW)   \n",
      "205                   1  Addis-Djibouti Railway Electrification, Nagad-...   \n",
      "206                   1            Financing for Central Electricity Board   \n",
      "\n",
      "     Year  Lender Allocation (USD)  \n",
      "0    2002  CHEXIM           $15.0M  \n",
      "1    2002  CHEXIM           $15.0M  \n",
      "2    2002  CHEXIM           $25.0M  \n",
      "3    2004  CHEXIM           $40.1M  \n",
      "4    2005  CHEXIM           $13.1M  \n",
      "..    ...     ...              ...  \n",
      "202  2023  CHEXIM           $50.1M  \n",
      "203  2010   CIDCA           $17.7M  \n",
      "204  2019   CIDCA           $29.0M  \n",
      "205  2016  CHEXIM           $20.4M  \n",
      "206  2011  CHEXIM            $5.8M  \n",
      "\n",
      "[207 rows x 5 columns]\n"
     ]
    }
   ],
   "source": [
    "# Initialize list to store data\n",
    "data = []\n",
    "\n",
    "# Loop through the project rows and extract relevant information\n",
    "for row in project_rows:\n",
    "    cells = row.find_elements(By.TAG_NAME, \"td\")\n",
    "    project_data = [cell.text for cell in cells]\n",
    "    data.append(project_data)\n",
    "\n",
    "# Define column names\n",
    "columns = [\"Country Project No.\", \"Project Name\", \"Year\", \"Lender\", \"Allocation (USD)\"]\n",
    "\n",
    "# Create a DataFrame with the extracted data\n",
    "df = pd.DataFrame(data, columns=columns)\n",
    "\n",
    "# Display the DataFrame\n",
    "print(df)"
   ]
  },
  {
   "cell_type": "code",
   "execution_count": 13,
   "metadata": {},
   "outputs": [
    {
     "name": "stderr",
     "output_type": "stream",
     "text": [
      "<>:26: SyntaxWarning: invalid escape sequence '\\d'\n",
      "<>:26: SyntaxWarning: invalid escape sequence '\\d'\n",
      "C:\\Users\\Zeyuan Wang\\AppData\\Local\\Temp\\ipykernel_25036\\3149450719.py:26: SyntaxWarning: invalid escape sequence '\\d'\n",
      "  df2['Number of Loans'] = df2['Number of Loans'].str.extract('(\\d+)').astype(float)\n"
     ]
    },
    {
     "name": "stdout",
     "output_type": "stream",
     "text": [
      "                              Country  Number of Loans\n",
      "0                              Angola             40.0\n",
      "1                        South Africa              3.0\n",
      "2                            Ethiopia             20.0\n",
      "3                              Zambia             16.0\n",
      "4                               Sudan             20.0\n",
      "5                              Uganda              7.0\n",
      "6                               Ghana             14.0\n",
      "7                   Equatorial Guinea              8.0\n",
      "8                               Kenya             16.0\n",
      "9                       Côte d’Ivoire              5.0\n",
      "10                             Guinea              3.0\n",
      "11                           Zimbabwe              5.0\n",
      "12                            Nigeria              3.0\n",
      "13                           Tanzania              2.0\n",
      "14  Congo, Democratic Republic of the              4.0\n",
      "15                           Cameroon              6.0\n",
      "16             Congo, Republic of the              4.0\n",
      "17                           Botswana              1.0\n",
      "18                              Egypt              2.0\n",
      "19                              Gabon              4.0\n",
      "20                           Regional              1.0\n",
      "21                            Senegal              5.0\n",
      "22                            Morocco              1.0\n",
      "23                         Madagascar              1.0\n",
      "24                             Rwanda              1.0\n",
      "25                              Niger              2.0\n",
      "26                               Mali              1.0\n",
      "27                         Mauritania              1.0\n",
      "28                               Chad              1.0\n",
      "29                               Togo              3.0\n",
      "30                            Eritrea              1.0\n",
      "31                            Lesotho              1.0\n",
      "32                       Burkina Faso              1.0\n",
      "33           Central African Republic              2.0\n",
      "34                           Djibouti              1.0\n",
      "35                          Mauritius              1.0\n"
     ]
    }
   ],
   "source": [
    "# the information of country name is also in the table, as the first row for each country. \n",
    "# we need to extract the information. \n",
    "\n",
    "# Locate the first table again\n",
    "table_xpath = \"/html/body/div/div/div/div[4]/table[1]\"\n",
    "table = driver.find_element(By.XPATH, table_xpath)\n",
    "\n",
    "# Initialize a list to store country names and loan numbers\n",
    "country_data = []\n",
    "\n",
    "# Loop through the rows with country information\n",
    "rows = table.find_elements(By.XPATH, \"./tbody/tr[starts-with(@style, 'font-weight: 600')]\")\n",
    "\n",
    "for row in rows:\n",
    "    # Find country name and loan number from the row\n",
    "    country_name = row.find_element(By.XPATH, \".//td[2]\").text\n",
    "    loan_info = row.find_element(By.XPATH, \".//td[3]\").text\n",
    "    country_data.append([country_name, loan_info])\n",
    "\n",
    "# Create a DataFrame for country name and number of loans\n",
    "df2 = pd.DataFrame(country_data, columns=[\"Country\", \"Number of Loans\"])\n",
    "\n",
    "#make the second variable numerical\n",
    "\n",
    "\n",
    "df2['Number of Loans'] = df2['Number of Loans'].str.extract('(\\d+)').astype(float) \n",
    "\n",
    "# Display the DataFrame\n",
    "print(df2)\n",
    "\n",
    "\n"
   ]
  },
  {
   "cell_type": "code",
   "execution_count": 14,
   "metadata": {},
   "outputs": [
    {
     "name": "stdout",
     "output_type": "stream",
     "text": [
      "    Country Project No.                                       Project Name  \\\n",
      "0                     1       Luanda Electrical Network Expansion, Phase I   \n",
      "1                     2                        Lubango Electricity Network   \n",
      "2                     3                     Namibe and Tombowa Electricity   \n",
      "3                     4  Luanda Electrical Network Rehabilitation and E...   \n",
      "4                     5       Quifangondo-Mabubas Transmission Line (60kV)   \n",
      "..                  ...                                                ...   \n",
      "202                   1                    Donsin Solar Power Plant (25MW)   \n",
      "203                   1               Boali No.3 Hydropower Project (10MW)   \n",
      "204                   2        Sakai Solar Photovoltaic Power Plant (15MW)   \n",
      "205                   1  Addis-Djibouti Railway Electrification, Nagad-...   \n",
      "206                   1            Financing for Central Electricity Board   \n",
      "\n",
      "     Year  Lender Allocation (USD)                   Country Loan_Type  \n",
      "0    2002  CHEXIM           $15.0M                    Angola    Energy  \n",
      "1    2002  CHEXIM           $15.0M                    Angola    Energy  \n",
      "2    2002  CHEXIM           $25.0M                    Angola    Energy  \n",
      "3    2004  CHEXIM           $40.1M                    Angola    Energy  \n",
      "4    2005  CHEXIM           $13.1M                    Angola    Energy  \n",
      "..    ...     ...              ...                       ...       ...  \n",
      "202  2023  CHEXIM           $50.1M              Burkina Faso    Energy  \n",
      "203  2010   CIDCA           $17.7M  Central African Republic    Energy  \n",
      "204  2019   CIDCA           $29.0M  Central African Republic    Energy  \n",
      "205  2016  CHEXIM           $20.4M                  Djibouti    Energy  \n",
      "206  2011  CHEXIM            $5.8M                 Mauritius    Energy  \n",
      "\n",
      "[207 rows x 7 columns]\n"
     ]
    }
   ],
   "source": [
    "# To merge country names to the project data, we need a new list \n",
    "\n",
    "#  repeats the country names according to their corresponding loan numbers\n",
    "\n",
    "# Create a new DataFrame with one column repeating the categories\n",
    "repeated_categories = df2['Country'].repeat(df2['Number of Loans']).reset_index(drop=True)\n",
    "\n",
    "# Convert to DataFrame\n",
    "df3 = pd.DataFrame(repeated_categories, columns=['Country'])\n",
    "df3['Loan_Type'] = 'Energy'\n",
    "\n",
    "#lastly. merge the data to have the complete list of Energe loans \n",
    "\n",
    "merged_Energy = pd.concat([df, df3], axis=1)\n",
    "\n",
    "\n",
    "#display result\n",
    "print(merged_Energy)\n"
   ]
  }
 ],
 "metadata": {
  "kernelspec": {
   "display_name": "base",
   "language": "python",
   "name": "python3"
  },
  "language_info": {
   "codemirror_mode": {
    "name": "ipython",
    "version": 3
   },
   "file_extension": ".py",
   "mimetype": "text/x-python",
   "name": "python",
   "nbconvert_exporter": "python",
   "pygments_lexer": "ipython3",
   "version": "3.12.3"
  }
 },
 "nbformat": 4,
 "nbformat_minor": 2
}
