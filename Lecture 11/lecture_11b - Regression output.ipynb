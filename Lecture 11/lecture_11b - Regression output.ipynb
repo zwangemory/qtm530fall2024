{
 "cells": [
  {
   "attachments": {},
   "cell_type": "markdown",
   "metadata": {},
   "source": [
    "# <span style=\"color:darkblue\"> Lecture 11b: Regression Output </span>\n",
    "\n",
    "<font size = \"5\">\n"
   ]
  },
  {
   "attachments": {},
   "cell_type": "markdown",
   "metadata": {},
   "source": [
    "# <span style=\"color:darkblue\"> I. Import Libraries </span>\n"
   ]
  },
  {
   "cell_type": "code",
   "execution_count": 1,
   "metadata": {},
   "outputs": [],
   "source": [
    "# The \"pandas\" library is used for processing datasets\n",
    "# The \"numpy\" is for numeric observations and random numbers\n",
    "# The \"matplotlib.pyplot\" library is for creating graphs\n",
    "\n",
    "import pandas as pd\n",
    "import numpy as np\n",
    "import matplotlib.pyplot as plt"
   ]
  },
  {
   "cell_type": "markdown",
   "metadata": {},
   "source": [
    "<font size = \"5\">\n",
    "\n",
    "Install the \"statsmodels\" library\n",
    "\n",
    "```conda install statsmodels``` <br>\n",
    "\n",
    "- In Windows, you can do this by opening the program  <br> \"anaconda\n",
    "prompt\" and typing the above command.\n",
    "- In Mac, you can open your terminal and <br>\n",
    "type the above command"
   ]
  },
  {
   "cell_type": "code",
   "execution_count": 2,
   "metadata": {},
   "outputs": [],
   "source": [
    "# We will \"alias\" two sublibraries in \"statsmodels\"\n",
    "# \"statsmodels.formula.api\" contains functions to estimate models\n",
    "# \"statsmodels.api\" contains general-use statistical options\n",
    "\n",
    "import statsmodels.api as sm\n",
    "import statsmodels.formula.api as smf\n",
    "from statsmodels.iolib.summary2 import summary_col\n"
   ]
  },
  {
   "attachments": {},
   "cell_type": "markdown",
   "metadata": {},
   "source": [
    "# <span style=\"color:darkblue\"> II. Generate Simulated Data </span>\n",
    "\n",
    "<font size = \"5\">\n",
    "\n",
    "Create an empty dataset"
   ]
  },
  {
   "cell_type": "code",
   "execution_count": 3,
   "metadata": {},
   "outputs": [],
   "source": [
    "dataset = pd.DataFrame()"
   ]
  },
  {
   "attachments": {},
   "cell_type": "markdown",
   "metadata": {},
   "source": [
    "<font size = \"5\">\n",
    "\n",
    "Create four random variables of size ($n = 100$)"
   ]
  },
  {
   "cell_type": "code",
   "execution_count": 4,
   "metadata": {},
   "outputs": [],
   "source": [
    "n = 100\n",
    "np.random.seed(42)\n",
    "dataset[\"x\"] = np.random.normal(loc = 0,scale = 1, size = n)\n",
    "dataset[\"z\"] = np.random.normal(loc = 0,scale = 1, size = n)\n",
    "dataset[\"e\"] = np.random.normal(loc = 0,scale = 1, size = n)\n",
    "dataset[\"z with spaces\"] = dataset[\"z\"]"
   ]
  },
  {
   "attachments": {},
   "cell_type": "markdown",
   "metadata": {},
   "source": [
    "<font size = \"5\">\n",
    "\n",
    "Create discrete random variable ($n = 100$)"
   ]
  },
  {
   "cell_type": "code",
   "execution_count": 5,
   "metadata": {},
   "outputs": [],
   "source": [
    "dataset[\"d\"] = np.random.choice(a = [1,2,3],\n",
    "                                size = n,\n",
    "                                p = [0.2,0.2,0.6])"
   ]
  },
  {
   "attachments": {},
   "cell_type": "markdown",
   "metadata": {},
   "source": [
    "<font size = \"5\">\n",
    "\n",
    "Create data from the linear model\n",
    "\n",
    "$ y = 2 + 5 x + e$"
   ]
  },
  {
   "cell_type": "code",
   "execution_count": 6,
   "metadata": {},
   "outputs": [],
   "source": [
    "# We can compute formulas directly over dataset columns\n",
    "dataset[\"y\"] = 2 + 5* dataset[\"x\"] + dataset[\"x\"]*dataset[\"e\"]"
   ]
  },
  {
   "attachments": {},
   "cell_type": "markdown",
   "metadata": {},
   "source": [
    "# <span style=\"color:darkblue\"> III. Regression Tables </span>\n"
   ]
  },
  {
   "attachments": {},
   "cell_type": "markdown",
   "metadata": {},
   "source": [
    "<font size = \"5\">\n",
    "\n",
    "Summaries for univariate regression"
   ]
  },
  {
   "cell_type": "code",
   "execution_count": 6,
   "metadata": {},
   "outputs": [
    {
     "ename": "PatsyError",
     "evalue": "Error evaluating factor: NameError: name 'y' is not defined\n    y ~ x\n    ^",
     "output_type": "error",
     "traceback": [
      "\u001b[1;31m---------------------------------------------------------------------------\u001b[0m",
      "\u001b[1;31mNameError\u001b[0m                                 Traceback (most recent call last)",
      "File \u001b[1;32me:\\Anaconda3\\Lib\\site-packages\\patsy\\compat.py:36\u001b[0m, in \u001b[0;36mcall_and_wrap_exc\u001b[1;34m(msg, origin, f, *args, **kwargs)\u001b[0m\n\u001b[0;32m     35\u001b[0m \u001b[38;5;28;01mtry\u001b[39;00m:\n\u001b[1;32m---> 36\u001b[0m     \u001b[38;5;28;01mreturn\u001b[39;00m f(\u001b[38;5;241m*\u001b[39margs, \u001b[38;5;241m*\u001b[39m\u001b[38;5;241m*\u001b[39mkwargs)\n\u001b[0;32m     37\u001b[0m \u001b[38;5;28;01mexcept\u001b[39;00m \u001b[38;5;167;01mException\u001b[39;00m \u001b[38;5;28;01mas\u001b[39;00m e:\n",
      "File \u001b[1;32me:\\Anaconda3\\Lib\\site-packages\\patsy\\eval.py:169\u001b[0m, in \u001b[0;36mEvalEnvironment.eval\u001b[1;34m(self, expr, source_name, inner_namespace)\u001b[0m\n\u001b[0;32m    168\u001b[0m code \u001b[38;5;241m=\u001b[39m \u001b[38;5;28mcompile\u001b[39m(expr, source_name, \u001b[38;5;124m\"\u001b[39m\u001b[38;5;124meval\u001b[39m\u001b[38;5;124m\"\u001b[39m, \u001b[38;5;28mself\u001b[39m\u001b[38;5;241m.\u001b[39mflags, \u001b[38;5;28;01mFalse\u001b[39;00m)\n\u001b[1;32m--> 169\u001b[0m \u001b[38;5;28;01mreturn\u001b[39;00m \u001b[38;5;28meval\u001b[39m(code, {}, VarLookupDict([inner_namespace]\n\u001b[0;32m    170\u001b[0m                                     \u001b[38;5;241m+\u001b[39m \u001b[38;5;28mself\u001b[39m\u001b[38;5;241m.\u001b[39m_namespaces))\n",
      "File \u001b[1;32m<string>:1\u001b[0m\n",
      "\u001b[1;31mNameError\u001b[0m: name 'y' is not defined",
      "\nThe above exception was the direct cause of the following exception:\n",
      "\u001b[1;31mPatsyError\u001b[0m                                Traceback (most recent call last)",
      "Cell \u001b[1;32mIn[6], line 2\u001b[0m\n\u001b[0;32m      1\u001b[0m \u001b[38;5;66;03m# Run the model with multiple variables by using \"+\"\u001b[39;00m\n\u001b[1;32m----> 2\u001b[0m results_univariate \u001b[38;5;241m=\u001b[39m smf\u001b[38;5;241m.\u001b[39mols(formula \u001b[38;5;241m=\u001b[39m \u001b[38;5;124m'\u001b[39m\u001b[38;5;124my ~ x\u001b[39m\u001b[38;5;124m'\u001b[39m,data \u001b[38;5;241m=\u001b[39m dataset)\u001b[38;5;241m.\u001b[39mfit(cov_type\u001b[38;5;241m=\u001b[39m \u001b[38;5;124m\"\u001b[39m\u001b[38;5;124mHC1\u001b[39m\u001b[38;5;124m\"\u001b[39m)\n\u001b[0;32m      4\u001b[0m \u001b[38;5;66;03m# The \"summary_col\" functions produces nice outputs\u001b[39;00m\n\u001b[0;32m      5\u001b[0m \u001b[38;5;66;03m# We can add notation for significance by setting \"stars\" to True\u001b[39;00m\n\u001b[0;32m      6\u001b[0m \u001b[38;5;28mprint\u001b[39m(summary_col(results_univariate,\n\u001b[0;32m      7\u001b[0m                   stars \u001b[38;5;241m=\u001b[39m \u001b[38;5;28;01mTrue\u001b[39;00m))\n",
      "File \u001b[1;32me:\\Anaconda3\\Lib\\site-packages\\statsmodels\\base\\model.py:203\u001b[0m, in \u001b[0;36mModel.from_formula\u001b[1;34m(cls, formula, data, subset, drop_cols, *args, **kwargs)\u001b[0m\n\u001b[0;32m    200\u001b[0m \u001b[38;5;28;01mif\u001b[39;00m missing \u001b[38;5;241m==\u001b[39m \u001b[38;5;124m'\u001b[39m\u001b[38;5;124mnone\u001b[39m\u001b[38;5;124m'\u001b[39m:  \u001b[38;5;66;03m# with patsy it's drop or raise. let's raise.\u001b[39;00m\n\u001b[0;32m    201\u001b[0m     missing \u001b[38;5;241m=\u001b[39m \u001b[38;5;124m'\u001b[39m\u001b[38;5;124mraise\u001b[39m\u001b[38;5;124m'\u001b[39m\n\u001b[1;32m--> 203\u001b[0m tmp \u001b[38;5;241m=\u001b[39m handle_formula_data(data, \u001b[38;5;28;01mNone\u001b[39;00m, formula, depth\u001b[38;5;241m=\u001b[39meval_env,\n\u001b[0;32m    204\u001b[0m                           missing\u001b[38;5;241m=\u001b[39mmissing)\n\u001b[0;32m    205\u001b[0m ((endog, exog), missing_idx, design_info) \u001b[38;5;241m=\u001b[39m tmp\n\u001b[0;32m    206\u001b[0m max_endog \u001b[38;5;241m=\u001b[39m \u001b[38;5;28mcls\u001b[39m\u001b[38;5;241m.\u001b[39m_formula_max_endog\n",
      "File \u001b[1;32me:\\Anaconda3\\Lib\\site-packages\\statsmodels\\formula\\formulatools.py:63\u001b[0m, in \u001b[0;36mhandle_formula_data\u001b[1;34m(Y, X, formula, depth, missing)\u001b[0m\n\u001b[0;32m     61\u001b[0m \u001b[38;5;28;01melse\u001b[39;00m:\n\u001b[0;32m     62\u001b[0m     \u001b[38;5;28;01mif\u001b[39;00m data_util\u001b[38;5;241m.\u001b[39m_is_using_pandas(Y, \u001b[38;5;28;01mNone\u001b[39;00m):\n\u001b[1;32m---> 63\u001b[0m         result \u001b[38;5;241m=\u001b[39m dmatrices(formula, Y, depth, return_type\u001b[38;5;241m=\u001b[39m\u001b[38;5;124m'\u001b[39m\u001b[38;5;124mdataframe\u001b[39m\u001b[38;5;124m'\u001b[39m,\n\u001b[0;32m     64\u001b[0m                            NA_action\u001b[38;5;241m=\u001b[39mna_action)\n\u001b[0;32m     65\u001b[0m     \u001b[38;5;28;01melse\u001b[39;00m:\n\u001b[0;32m     66\u001b[0m         result \u001b[38;5;241m=\u001b[39m dmatrices(formula, Y, depth, return_type\u001b[38;5;241m=\u001b[39m\u001b[38;5;124m'\u001b[39m\u001b[38;5;124mdataframe\u001b[39m\u001b[38;5;124m'\u001b[39m,\n\u001b[0;32m     67\u001b[0m                            NA_action\u001b[38;5;241m=\u001b[39mna_action)\n",
      "File \u001b[1;32me:\\Anaconda3\\Lib\\site-packages\\patsy\\highlevel.py:309\u001b[0m, in \u001b[0;36mdmatrices\u001b[1;34m(formula_like, data, eval_env, NA_action, return_type)\u001b[0m\n\u001b[0;32m    299\u001b[0m \u001b[38;5;250m\u001b[39m\u001b[38;5;124;03m\"\"\"Construct two design matrices given a formula_like and data.\u001b[39;00m\n\u001b[0;32m    300\u001b[0m \n\u001b[0;32m    301\u001b[0m \u001b[38;5;124;03mThis function is identical to :func:`dmatrix`, except that it requires\u001b[39;00m\n\u001b[1;32m   (...)\u001b[0m\n\u001b[0;32m    306\u001b[0m \u001b[38;5;124;03mSee :func:`dmatrix` for details.\u001b[39;00m\n\u001b[0;32m    307\u001b[0m \u001b[38;5;124;03m\"\"\"\u001b[39;00m\n\u001b[0;32m    308\u001b[0m eval_env \u001b[38;5;241m=\u001b[39m EvalEnvironment\u001b[38;5;241m.\u001b[39mcapture(eval_env, reference\u001b[38;5;241m=\u001b[39m\u001b[38;5;241m1\u001b[39m)\n\u001b[1;32m--> 309\u001b[0m (lhs, rhs) \u001b[38;5;241m=\u001b[39m _do_highlevel_design(formula_like, data, eval_env,\n\u001b[0;32m    310\u001b[0m                                   NA_action, return_type)\n\u001b[0;32m    311\u001b[0m \u001b[38;5;28;01mif\u001b[39;00m lhs\u001b[38;5;241m.\u001b[39mshape[\u001b[38;5;241m1\u001b[39m] \u001b[38;5;241m==\u001b[39m \u001b[38;5;241m0\u001b[39m:\n\u001b[0;32m    312\u001b[0m     \u001b[38;5;28;01mraise\u001b[39;00m PatsyError(\u001b[38;5;124m\"\u001b[39m\u001b[38;5;124mmodel is missing required outcome variables\u001b[39m\u001b[38;5;124m\"\u001b[39m)\n",
      "File \u001b[1;32me:\\Anaconda3\\Lib\\site-packages\\patsy\\highlevel.py:164\u001b[0m, in \u001b[0;36m_do_highlevel_design\u001b[1;34m(formula_like, data, eval_env, NA_action, return_type)\u001b[0m\n\u001b[0;32m    162\u001b[0m \u001b[38;5;28;01mdef\u001b[39;00m \u001b[38;5;21mdata_iter_maker\u001b[39m():\n\u001b[0;32m    163\u001b[0m     \u001b[38;5;28;01mreturn\u001b[39;00m \u001b[38;5;28miter\u001b[39m([data])\n\u001b[1;32m--> 164\u001b[0m design_infos \u001b[38;5;241m=\u001b[39m _try_incr_builders(formula_like, data_iter_maker, eval_env,\n\u001b[0;32m    165\u001b[0m                                   NA_action)\n\u001b[0;32m    166\u001b[0m \u001b[38;5;28;01mif\u001b[39;00m design_infos \u001b[38;5;129;01mis\u001b[39;00m \u001b[38;5;129;01mnot\u001b[39;00m \u001b[38;5;28;01mNone\u001b[39;00m:\n\u001b[0;32m    167\u001b[0m     \u001b[38;5;28;01mreturn\u001b[39;00m build_design_matrices(design_infos, data,\n\u001b[0;32m    168\u001b[0m                                  NA_action\u001b[38;5;241m=\u001b[39mNA_action,\n\u001b[0;32m    169\u001b[0m                                  return_type\u001b[38;5;241m=\u001b[39mreturn_type)\n",
      "File \u001b[1;32me:\\Anaconda3\\Lib\\site-packages\\patsy\\highlevel.py:66\u001b[0m, in \u001b[0;36m_try_incr_builders\u001b[1;34m(formula_like, data_iter_maker, eval_env, NA_action)\u001b[0m\n\u001b[0;32m     64\u001b[0m \u001b[38;5;28;01mif\u001b[39;00m \u001b[38;5;28misinstance\u001b[39m(formula_like, ModelDesc):\n\u001b[0;32m     65\u001b[0m     \u001b[38;5;28;01massert\u001b[39;00m \u001b[38;5;28misinstance\u001b[39m(eval_env, EvalEnvironment)\n\u001b[1;32m---> 66\u001b[0m     \u001b[38;5;28;01mreturn\u001b[39;00m design_matrix_builders([formula_like\u001b[38;5;241m.\u001b[39mlhs_termlist,\n\u001b[0;32m     67\u001b[0m                                    formula_like\u001b[38;5;241m.\u001b[39mrhs_termlist],\n\u001b[0;32m     68\u001b[0m                                   data_iter_maker,\n\u001b[0;32m     69\u001b[0m                                   eval_env,\n\u001b[0;32m     70\u001b[0m                                   NA_action)\n\u001b[0;32m     71\u001b[0m \u001b[38;5;28;01melse\u001b[39;00m:\n\u001b[0;32m     72\u001b[0m     \u001b[38;5;28;01mreturn\u001b[39;00m \u001b[38;5;28;01mNone\u001b[39;00m\n",
      "File \u001b[1;32me:\\Anaconda3\\Lib\\site-packages\\patsy\\build.py:693\u001b[0m, in \u001b[0;36mdesign_matrix_builders\u001b[1;34m(termlists, data_iter_maker, eval_env, NA_action)\u001b[0m\n\u001b[0;32m    689\u001b[0m factor_states \u001b[38;5;241m=\u001b[39m _factors_memorize(all_factors, data_iter_maker, eval_env)\n\u001b[0;32m    690\u001b[0m \u001b[38;5;66;03m# Now all the factors have working eval methods, so we can evaluate them\u001b[39;00m\n\u001b[0;32m    691\u001b[0m \u001b[38;5;66;03m# on some data to find out what type of data they return.\u001b[39;00m\n\u001b[0;32m    692\u001b[0m (num_column_counts,\n\u001b[1;32m--> 693\u001b[0m  cat_levels_contrasts) \u001b[38;5;241m=\u001b[39m _examine_factor_types(all_factors,\n\u001b[0;32m    694\u001b[0m                                                factor_states,\n\u001b[0;32m    695\u001b[0m                                                data_iter_maker,\n\u001b[0;32m    696\u001b[0m                                                NA_action)\n\u001b[0;32m    697\u001b[0m \u001b[38;5;66;03m# Now we need the factor infos, which encapsulate the knowledge of\u001b[39;00m\n\u001b[0;32m    698\u001b[0m \u001b[38;5;66;03m# how to turn any given factor into a chunk of data:\u001b[39;00m\n\u001b[0;32m    699\u001b[0m factor_infos \u001b[38;5;241m=\u001b[39m {}\n",
      "File \u001b[1;32me:\\Anaconda3\\Lib\\site-packages\\patsy\\build.py:443\u001b[0m, in \u001b[0;36m_examine_factor_types\u001b[1;34m(factors, factor_states, data_iter_maker, NA_action)\u001b[0m\n\u001b[0;32m    441\u001b[0m \u001b[38;5;28;01mfor\u001b[39;00m data \u001b[38;5;129;01min\u001b[39;00m data_iter_maker():\n\u001b[0;32m    442\u001b[0m     \u001b[38;5;28;01mfor\u001b[39;00m factor \u001b[38;5;129;01min\u001b[39;00m \u001b[38;5;28mlist\u001b[39m(examine_needed):\n\u001b[1;32m--> 443\u001b[0m         value \u001b[38;5;241m=\u001b[39m factor\u001b[38;5;241m.\u001b[39meval(factor_states[factor], data)\n\u001b[0;32m    444\u001b[0m         \u001b[38;5;28;01mif\u001b[39;00m factor \u001b[38;5;129;01min\u001b[39;00m cat_sniffers \u001b[38;5;129;01mor\u001b[39;00m guess_categorical(value):\n\u001b[0;32m    445\u001b[0m             \u001b[38;5;28;01mif\u001b[39;00m factor \u001b[38;5;129;01mnot\u001b[39;00m \u001b[38;5;129;01min\u001b[39;00m cat_sniffers:\n",
      "File \u001b[1;32me:\\Anaconda3\\Lib\\site-packages\\patsy\\eval.py:568\u001b[0m, in \u001b[0;36mEvalFactor.eval\u001b[1;34m(self, memorize_state, data)\u001b[0m\n\u001b[0;32m    567\u001b[0m \u001b[38;5;28;01mdef\u001b[39;00m \u001b[38;5;21meval\u001b[39m(\u001b[38;5;28mself\u001b[39m, memorize_state, data):\n\u001b[1;32m--> 568\u001b[0m     \u001b[38;5;28;01mreturn\u001b[39;00m \u001b[38;5;28mself\u001b[39m\u001b[38;5;241m.\u001b[39m_eval(memorize_state[\u001b[38;5;124m\"\u001b[39m\u001b[38;5;124meval_code\u001b[39m\u001b[38;5;124m\"\u001b[39m],\n\u001b[0;32m    569\u001b[0m                       memorize_state,\n\u001b[0;32m    570\u001b[0m                       data)\n",
      "File \u001b[1;32me:\\Anaconda3\\Lib\\site-packages\\patsy\\eval.py:551\u001b[0m, in \u001b[0;36mEvalFactor._eval\u001b[1;34m(self, code, memorize_state, data)\u001b[0m\n\u001b[0;32m    549\u001b[0m \u001b[38;5;28;01mdef\u001b[39;00m \u001b[38;5;21m_eval\u001b[39m(\u001b[38;5;28mself\u001b[39m, code, memorize_state, data):\n\u001b[0;32m    550\u001b[0m     inner_namespace \u001b[38;5;241m=\u001b[39m VarLookupDict([data, memorize_state[\u001b[38;5;124m\"\u001b[39m\u001b[38;5;124mtransforms\u001b[39m\u001b[38;5;124m\"\u001b[39m]])\n\u001b[1;32m--> 551\u001b[0m     \u001b[38;5;28;01mreturn\u001b[39;00m call_and_wrap_exc(\u001b[38;5;124m\"\u001b[39m\u001b[38;5;124mError evaluating factor\u001b[39m\u001b[38;5;124m\"\u001b[39m,\n\u001b[0;32m    552\u001b[0m                              \u001b[38;5;28mself\u001b[39m,\n\u001b[0;32m    553\u001b[0m                              memorize_state[\u001b[38;5;124m\"\u001b[39m\u001b[38;5;124meval_env\u001b[39m\u001b[38;5;124m\"\u001b[39m]\u001b[38;5;241m.\u001b[39meval,\n\u001b[0;32m    554\u001b[0m                              code,\n\u001b[0;32m    555\u001b[0m                              inner_namespace\u001b[38;5;241m=\u001b[39minner_namespace)\n",
      "File \u001b[1;32me:\\Anaconda3\\Lib\\site-packages\\patsy\\compat.py:43\u001b[0m, in \u001b[0;36mcall_and_wrap_exc\u001b[1;34m(msg, origin, f, *args, **kwargs)\u001b[0m\n\u001b[0;32m     39\u001b[0m     new_exc \u001b[38;5;241m=\u001b[39m PatsyError(\u001b[38;5;124m\"\u001b[39m\u001b[38;5;132;01m%s\u001b[39;00m\u001b[38;5;124m: \u001b[39m\u001b[38;5;132;01m%s\u001b[39;00m\u001b[38;5;124m: \u001b[39m\u001b[38;5;132;01m%s\u001b[39;00m\u001b[38;5;124m\"\u001b[39m\n\u001b[0;32m     40\u001b[0m                          \u001b[38;5;241m%\u001b[39m (msg, e\u001b[38;5;241m.\u001b[39m\u001b[38;5;18m__class__\u001b[39m\u001b[38;5;241m.\u001b[39m\u001b[38;5;18m__name__\u001b[39m, e),\n\u001b[0;32m     41\u001b[0m                          origin)\n\u001b[0;32m     42\u001b[0m     \u001b[38;5;66;03m# Use 'exec' to hide this syntax from the Python 2 parser:\u001b[39;00m\n\u001b[1;32m---> 43\u001b[0m     exec(\u001b[38;5;124m\"\u001b[39m\u001b[38;5;124mraise new_exc from e\u001b[39m\u001b[38;5;124m\"\u001b[39m)\n\u001b[0;32m     44\u001b[0m \u001b[38;5;28;01melse\u001b[39;00m:\n\u001b[0;32m     45\u001b[0m     \u001b[38;5;66;03m# In python 2, we just let the original exception escape -- better\u001b[39;00m\n\u001b[0;32m     46\u001b[0m     \u001b[38;5;66;03m# than destroying the traceback. But if it's a PatsyError, we can\u001b[39;00m\n\u001b[0;32m     47\u001b[0m     \u001b[38;5;66;03m# at least set the origin properly.\u001b[39;00m\n\u001b[0;32m     48\u001b[0m     \u001b[38;5;28;01mif\u001b[39;00m \u001b[38;5;28misinstance\u001b[39m(e, PatsyError):\n",
      "File \u001b[1;32m<string>:1\u001b[0m\n",
      "\u001b[1;31mPatsyError\u001b[0m: Error evaluating factor: NameError: name 'y' is not defined\n    y ~ x\n    ^"
     ]
    }
   ],
   "source": [
    "# Run the model with multiple variables by using \"+\"\n",
    "results_univariate = smf.ols(formula = 'y ~ x',data = dataset).fit(cov_type= \"HC1\")\n",
    "\n",
    "# The \"summary_col\" functions produces nice outputs\n",
    "# We can add notation for significance by setting \"stars\" to True\n",
    "print(summary_col(results_univariate,\n",
    "                  stars = True))\n",
    "\n"
   ]
  },
  {
   "cell_type": "code",
   "execution_count": 8,
   "metadata": {},
   "outputs": [
    {
     "name": "stdout",
     "output_type": "stream",
     "text": [
      "                            OLS Regression Results                            \n",
      "==============================================================================\n",
      "Dep. Variable:                      y   R-squared:                       0.958\n",
      "Model:                            OLS   Adj. R-squared:                  0.957\n",
      "Method:                 Least Squares   F-statistic:                     992.7\n",
      "Date:                Mon, 26 Feb 2024   Prob (F-statistic):           4.44e-53\n",
      "Time:                        10:15:55   Log-Likelihood:                -134.75\n",
      "No. Observations:                 100   AIC:                             273.5\n",
      "Df Residuals:                      98   BIC:                             278.7\n",
      "Df Model:                           1                                         \n",
      "Covariance Type:                  HC1                                         \n",
      "==============================================================================\n",
      "                 coef    std err          z      P>|z|      [0.025      0.975]\n",
      "------------------------------------------------------------------------------\n",
      "Intercept      2.1681      0.097     22.419      0.000       1.979       2.358\n",
      "x              4.8922      0.155     31.507      0.000       4.588       5.197\n",
      "==============================================================================\n",
      "Omnibus:                       24.890   Durbin-Watson:                   1.989\n",
      "Prob(Omnibus):                  0.000   Jarque-Bera (JB):               48.096\n",
      "Skew:                           0.980   Prob(JB):                     3.60e-11\n",
      "Kurtosis:                       5.775   Cond. No.                         1.16\n",
      "==============================================================================\n",
      "\n",
      "Notes:\n",
      "[1] Standard Errors are heteroscedasticity robust (HC1)\n"
     ]
    }
   ],
   "source": [
    "print(results_univariate.summary())"
   ]
  },
  {
   "attachments": {},
   "cell_type": "markdown",
   "metadata": {},
   "source": [
    "<font size = \"5\">\n",
    "\n",
    "Summaries for multivariate regression"
   ]
  },
  {
   "cell_type": "code",
   "execution_count": 9,
   "metadata": {},
   "outputs": [
    {
     "name": "stdout",
     "output_type": "stream",
     "text": [
      "\n",
      "========================\n",
      "                   y    \n",
      "------------------------\n",
      "Intercept      2.1683***\n",
      "               (0.0971) \n",
      "x              4.8880***\n",
      "               (0.1565) \n",
      "z              -0.0295  \n",
      "               (0.1049) \n",
      "R-squared      0.9576   \n",
      "R-squared Adj. 0.9567   \n",
      "========================\n",
      "Standard errors in\n",
      "parentheses.\n",
      "* p<.1, ** p<.05,\n",
      "***p<.01\n"
     ]
    }
   ],
   "source": [
    "# Run the model with multiple variables by using \"+\"\n",
    "results_multivariate = smf.ols(formula = 'y ~ x + z',\n",
    "                               data = dataset).fit(cov_type = \"HC1\")\n",
    "print(summary_col(results_multivariate,\n",
    "                  stars = True))"
   ]
  },
  {
   "attachments": {},
   "cell_type": "markdown",
   "metadata": {},
   "source": [
    "<font size = \"5\">\n",
    "\n",
    "Summaries for multivariate regression + colnames w/ spaces"
   ]
  },
  {
   "cell_type": "code",
   "execution_count": 10,
   "metadata": {},
   "outputs": [
    {
     "name": "stdout",
     "output_type": "stream",
     "text": [
      "\n",
      "============================\n",
      "                       y    \n",
      "----------------------------\n",
      "Intercept          2.1683***\n",
      "                   (0.0971) \n",
      "x                  4.8880***\n",
      "                   (0.1565) \n",
      "Q(\"z with spaces\") -0.0295  \n",
      "                   (0.1049) \n",
      "R-squared          0.9576   \n",
      "R-squared Adj.     0.9567   \n",
      "============================\n",
      "Standard errors in\n",
      "parentheses.\n",
      "* p<.1, ** p<.05, ***p<.01\n"
     ]
    }
   ],
   "source": [
    "# Use Q(\"...\") to reference variables that\n",
    "# have spaces in the name\n",
    "results_multivariate_spaces = smf.ols(formula = 'y ~ x + Q(\"z with spaces\") ',\n",
    "                                      data = dataset).fit(cov_type = \"HC1\")\n",
    "print(summary_col(results_multivariate_spaces,\n",
    "                  stars = True))"
   ]
  },
  {
   "attachments": {},
   "cell_type": "markdown",
   "metadata": {},
   "source": [
    "<font size = \"5\">\n",
    "\n",
    "Summaries for multivariate regression + categories"
   ]
  },
  {
   "cell_type": "code",
   "execution_count": 11,
   "metadata": {},
   "outputs": [
    {
     "name": "stdout",
     "output_type": "stream",
     "text": [
      "\n",
      "========================\n",
      "                   y    \n",
      "------------------------\n",
      "Intercept      2.2489***\n",
      "               (0.2027) \n",
      "C(d)[T.2]      0.5125   \n",
      "               (0.3987) \n",
      "C(d)[T.3]      -0.2513  \n",
      "               (0.2241) \n",
      "x              4.8863***\n",
      "               (0.1406) \n",
      "R-squared      0.9611   \n",
      "R-squared Adj. 0.9599   \n",
      "========================\n",
      "Standard errors in\n",
      "parentheses.\n",
      "* p<.1, ** p<.05,\n",
      "***p<.01\n"
     ]
    }
   ],
   "source": [
    "# Run the model with multiple variables by using \"+\"\n",
    "# This creates a set of distinct indicator variables for each category\n",
    "results_multivariate_category = smf.ols(formula = 'y ~ x + C(d)',\n",
    "                                        data = dataset).fit(cov_type = \"HC1\")\n",
    "\n",
    "# The results are reported with a base category, T.1\n",
    "print(summary_col(results_multivariate_category,\n",
    "                  stars = True))"
   ]
  },
  {
   "attachments": {},
   "cell_type": "markdown",
   "metadata": {},
   "source": [
    "<font size = \"5\">\n",
    "\n",
    "Summaries for multivariate regression + interaction"
   ]
  },
  {
   "cell_type": "code",
   "execution_count": 12,
   "metadata": {},
   "outputs": [
    {
     "name": "stdout",
     "output_type": "stream",
     "text": [
      "\n",
      "========================\n",
      "                   y    \n",
      "------------------------\n",
      "Intercept      2.1720***\n",
      "               (0.0967) \n",
      "x              4.8749***\n",
      "               (0.1653) \n",
      "z              -0.0188  \n",
      "               (0.1113) \n",
      "z:x            0.0439   \n",
      "               (0.1412) \n",
      "R-squared      0.9576   \n",
      "R-squared Adj. 0.9563   \n",
      "========================\n",
      "Standard errors in\n",
      "parentheses.\n",
      "* p<.1, ** p<.05,\n",
      "***p<.01\n"
     ]
    }
   ],
   "source": [
    "# Run the model with multiple variables by using \"+\"\n",
    "# This creates a set of distinct indicator variables for each category\n",
    "results_multivariate_interaction = smf.ols(formula = 'y ~ x + z + z:x',\n",
    "                                        data = dataset).fit(cov_type = \"HC1\")\n",
    "\n",
    "# The results are reported with a base category, T.1\n",
    "print(summary_col(results_multivariate_interaction,\n",
    "                  stars = True))"
   ]
  },
  {
   "attachments": {},
   "cell_type": "markdown",
   "metadata": {},
   "source": [
    "# <span style=\"color:darkblue\"> IV. Professional Tables </span>\n"
   ]
  },
  {
   "attachments": {},
   "cell_type": "markdown",
   "metadata": {},
   "source": [
    "<font size = \"5\">\n",
    "\n",
    "Summaries for multiple columns"
   ]
  },
  {
   "cell_type": "code",
   "execution_count": 13,
   "metadata": {},
   "outputs": [
    {
     "name": "stdout",
     "output_type": "stream",
     "text": [
      "\n",
      "======================================================\n",
      "                  y I       y II     y III     y IIII \n",
      "------------------------------------------------------\n",
      "C(d)[T.2]                          0.5125             \n",
      "                                   (0.3987)           \n",
      "C(d)[T.3]                          -0.2513            \n",
      "                                   (0.2241)           \n",
      "Intercept      2.1681*** 2.1683*** 2.2489*** 2.1720***\n",
      "               (0.0967)  (0.0971)  (0.2027)  (0.0967) \n",
      "R-squared      0.9575    0.9576    0.9611    0.9576   \n",
      "R-squared Adj. 0.9571    0.9567    0.9599    0.9563   \n",
      "x              4.8922*** 4.8880*** 4.8863*** 4.8749***\n",
      "               (0.1553)  (0.1565)  (0.1406)  (0.1653) \n",
      "z                        -0.0295             -0.0188  \n",
      "                         (0.1049)            (0.1113) \n",
      "z:x                                          0.0439   \n",
      "                                             (0.1412) \n",
      "======================================================\n",
      "Standard errors in parentheses.\n",
      "* p<.1, ** p<.05, ***p<.01\n"
     ]
    }
   ],
   "source": [
    "list_results = [results_univariate,\n",
    "                results_multivariate,\n",
    "                results_multivariate_category,\n",
    "                results_multivariate_interaction]\n",
    "\n",
    "print(summary_col(list_results,\n",
    "                  stars = True))\n"
   ]
  },
  {
   "attachments": {},
   "cell_type": "markdown",
   "metadata": {},
   "source": [
    "<font size = \"5\">\n",
    "\n",
    "Summaries for multiple columns (sorted + titled + stats)"
   ]
  },
  {
   "cell_type": "code",
   "execution_count": 14,
   "metadata": {},
   "outputs": [
    {
     "name": "stdout",
     "output_type": "stream",
     "text": [
      "\n",
      "==============================================================\n",
      "               Univariate Multivariate Categorical Interaction\n",
      "--------------------------------------------------------------\n",
      "x              4.8922***  4.8880***    4.8863***   4.8749***  \n",
      "               (0.1553)   (0.1565)     (0.1406)    (0.1653)   \n",
      "z                         -0.0295                  -0.0188    \n",
      "                          (0.1049)                 (0.1113)   \n",
      "z:x                                                0.0439     \n",
      "                                                   (0.1412)   \n",
      "C(d)[T.2]                              0.5125                 \n",
      "                                       (0.3987)               \n",
      "C(d)[T.3]                              -0.2513                \n",
      "                                       (0.2241)               \n",
      "Intercept      2.1681***  2.1683***    2.2489***   2.1720***  \n",
      "               (0.0967)   (0.0971)     (0.2027)    (0.0967)   \n",
      "R-squared      0.9575     0.9576       0.9611      0.9576     \n",
      "R-squared Adj. 0.9571     0.9567       0.9599      0.9563     \n",
      "N              100        100          100         100        \n",
      "==============================================================\n",
      "Standard errors in parentheses.\n",
      "* p<.1, ** p<.05, ***p<.01\n"
     ]
    }
   ],
   "source": [
    "# This list inputs the headings of the table\n",
    "list_headings   = [\"Univariate\",\n",
    "                   \"Multivariate\",\n",
    "                   \"Categorical\",\n",
    "                   \"Interaction\"]\n",
    "\n",
    "# This is the list of regressor names (if you want a particular order)\n",
    "list_regressors = [\"x\",\n",
    "                   \"z\",\n",
    "                   \"z:x\",\n",
    "                   \"C(d)[T.2]\",\n",
    "                   \"C(d)[T.3]\"]\n",
    "\n",
    "# This is a function that extracts the sample size\n",
    "# Can use with other summary statistics\n",
    "# \"nobs\" is the number of observations\n",
    "compute_summary = {'N':lambda model: format(int(model.nobs))}\n",
    "\n",
    "print(summary_col(list_results,\n",
    "                  stars = True,\n",
    "                  model_names = list_headings,\n",
    "                  info_dict={'N':lambda x: format(int(x.nobs))},\n",
    "                  regressor_order = [\"x\",\"z\",\"z:x\",\"C(d)[T.2]\",\"C(d)[T.3]\"]))"
   ]
  },
  {
   "attachments": {},
   "cell_type": "markdown",
   "metadata": {},
   "source": [
    "<font size = \"5\">\n",
    "\n",
    "Detailed table"
   ]
  },
  {
   "cell_type": "code",
   "execution_count": 15,
   "metadata": {},
   "outputs": [
    {
     "name": "stdout",
     "output_type": "stream",
     "text": [
      "                            OLS Regression Results                            \n",
      "==============================================================================\n",
      "Dep. Variable:                      y   R-squared:                       0.958\n",
      "Model:                            OLS   Adj. R-squared:                  0.957\n",
      "Method:                 Least Squares   F-statistic:                     992.7\n",
      "Date:                Mon, 26 Feb 2024   Prob (F-statistic):           4.44e-53\n",
      "Time:                        10:15:55   Log-Likelihood:                -134.75\n",
      "No. Observations:                 100   AIC:                             273.5\n",
      "Df Residuals:                      98   BIC:                             278.7\n",
      "Df Model:                           1                                         \n",
      "Covariance Type:                  HC1                                         \n",
      "==============================================================================\n",
      "                 coef    std err          z      P>|z|      [0.025      0.975]\n",
      "------------------------------------------------------------------------------\n",
      "Intercept      2.1681      0.097     22.419      0.000       1.979       2.358\n",
      "x              4.8922      0.155     31.507      0.000       4.588       5.197\n",
      "==============================================================================\n",
      "Omnibus:                       24.890   Durbin-Watson:                   1.989\n",
      "Prob(Omnibus):                  0.000   Jarque-Bera (JB):               48.096\n",
      "Skew:                           0.980   Prob(JB):                     3.60e-11\n",
      "Kurtosis:                       5.775   Cond. No.                         1.16\n",
      "==============================================================================\n",
      "\n",
      "Notes:\n",
      "[1] Standard Errors are heteroscedasticity robust (HC1)\n"
     ]
    }
   ],
   "source": [
    "# Detailed Summary\n",
    "print(results_univariate.summary())"
   ]
  }
 ],
 "metadata": {
  "kernelspec": {
   "display_name": "base",
   "language": "python",
   "name": "python3"
  },
  "language_info": {
   "codemirror_mode": {
    "name": "ipython",
    "version": 3
   },
   "file_extension": ".py",
   "mimetype": "text/x-python",
   "name": "python",
   "nbconvert_exporter": "python",
   "pygments_lexer": "ipython3",
   "version": "3.12.3"
  },
  "orig_nbformat": 4,
  "vscode": {
   "interpreter": {
    "hash": "45fc1f684f6f416f40889115beff3ddf69879b64cf4bfee48cb72a61e9d15d1a"
   }
  }
 },
 "nbformat": 4,
 "nbformat_minor": 2
}
