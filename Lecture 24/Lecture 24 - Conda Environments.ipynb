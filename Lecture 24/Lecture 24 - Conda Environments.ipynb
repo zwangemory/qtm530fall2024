{
 "cells": [
  {
   "attachments": {},
   "cell_type": "markdown",
   "metadata": {},
   "source": [
    "# <span style=\"color:darkblue\"> Lecture 24 - Conda Environments\n",
    " - Conda Environments </span>\n",
    "\n",
    "<font size = \"5\">\n",
    "\n",
    "In this lecture we will talk more broadly about <br>\n",
    "Anaconda environments."
   ]
  },
  {
   "cell_type": "markdown",
   "metadata": {},
   "source": [
    "# <span style=\"color:darkblue\"> I. What are environments? </span>\n",
    "\n",
    "<font size = \"5\">\n",
    "\n",
    "- An environment is a configuration file that lists your <br>\n",
    "software  version, e.g. Python 3.11, and any additional <br>\n",
    " packages you may have installed\n",
    "\n",
    "<img src=\"figures/anaconda_navigator_installed.png\" alt=\"drawing\" width=\"650\"/>\n"
   ]
  },
  {
   "cell_type": "markdown",
   "metadata": {},
   "source": [
    "<font size = \"5\">\n",
    "\n",
    "So far we have worked with one environment\n",
    "\n",
    "(1) For different projects, you may need <br>\n",
    "slightly different package requirements.\n",
    "\n",
    "(2) You may also need to share requirements with <br>\n",
    "colleagues that are working on your project.\n",
    "\n",
    "(3) Understanding environments can help you achieve <br>\n",
    "more productive collaborations and ensure that your results <br>\n",
    "can be reproduced more easily."
   ]
  },
  {
   "cell_type": "markdown",
   "metadata": {},
   "source": [
    "# <span style=\"color:darkblue\"> II. Basic Conda Commands </span>\n"
   ]
  },
  {
   "cell_type": "markdown",
   "metadata": {},
   "source": [
    "<font size = \"5\">\n",
    "\n",
    "You can interact with Conda via the terminal. In Windows <br>\n",
    "you can use ```Anaconda Prompt```. In Mac, just open the <br>\n",
    "terminal.\n",
    "\n",
    "\n"
   ]
  },
  {
   "cell_type": "markdown",
   "metadata": {},
   "source": [
    "<font size = \"3\">\n",
    "\n",
    "(1) Get list of current environments\n",
    "\n",
    "``` conda env list ```"
   ]
  },
  {
   "cell_type": "markdown",
   "metadata": {},
   "source": [
    "<font size = \"3\">\n",
    "\n",
    "(2) Switch to a particular environment\n",
    "\n",
    "- When you install packages, they go to the active environment\n",
    "- If you want to switch environment use ```activate```\n",
    "- By default, Anaconda starts with ```base```\n",
    "\n",
    "```conda activate custom_name```"
   ]
  },
  {
   "cell_type": "markdown",
   "metadata": {},
   "source": [
    "<font size = \"3\">\n",
    "\n",
    "(3) Create new environment named ```custom_name```\n",
    "\n",
    "- ```-n``` stands for name. An argument you should follow. <br>\n",
    "- We can also specify a Python version to install\n",
    "\n",
    "``` conda create -n custom_name``` <br>\n",
    "``` conda create -n custom_name python=3.11```"
   ]
  },
  {
   "cell_type": "markdown",
   "metadata": {},
   "source": [
    "<font size = \"3\">\n",
    "\n",
    "(4) Remove an environment\n",
    "\n",
    "- First deactivate it (you cannot remove an active environment)\n",
    "- Then remove it\n",
    "\n",
    "``` conda deactivate custom_name ``` <br>\n",
    "``` conda env remove -n custom_name ``` <br>\n",
    "\n"
   ]
  },
  {
   "cell_type": "markdown",
   "metadata": {},
   "source": [
    "<font size = \"3\">\n",
    "\n",
    "(5) Get list of packages\n",
    "\n",
    "\n",
    "``` conda list ```\n",
    "\n"
   ]
  },
  {
   "cell_type": "markdown",
   "metadata": {},
   "source": [
    "<font size = \"3\">\n",
    "\n",
    "(6) Install packages\n",
    "\n",
    "- Packages installed in the active environment\n",
    "- Some packages are stored in specific \"channels\", <br>\n",
    "you can specify a channel with the option ```-c```\n",
    "- Some common channels are \"conda-forge\" and \"bioconda\"\n",
    "\n",
    "``` conda install WordCloud``` <br>\n",
    "``` conda install -c conda-forge WordCloud```"
   ]
  },
  {
   "cell_type": "markdown",
   "metadata": {},
   "source": [
    "<font size = \"3\">\n",
    "\n",
    "(7) Uninstall packages\n",
    "\n",
    "``` conda uninstall WordCloud ```"
   ]
  },
  {
   "cell_type": "markdown",
   "metadata": {},
   "source": [
    "<font size = \"5\">\n",
    "\n",
    "Try it yourself!\n",
    "\n",
    "- Create a custom environment with Python version 3.11\n",
    "- Activate your environment\n",
    "- Install the package WordCloud\n",
    "- Activate your base environment when you are done"
   ]
  },
  {
   "cell_type": "markdown",
   "metadata": {},
   "source": [
    "# <span style=\"color:darkblue\"> III. Exporting Environments </span>\n"
   ]
  },
  {
   "cell_type": "markdown",
   "metadata": {},
   "source": [
    "<font size = \"5\">\n",
    "\n",
    "We will store default configurations in the lecture folder\n",
    "\n",
    "\n",
    "<img src=\"figures/folder.png\" alt=\"drawing\" width=\"320\"/>\n",
    "\n",
    "We can get the absolute path by right-clicking\n",
    "\n",
    "\n",
    "<img src=\"figures/absolute_path.png\" alt=\"drawing\" width=\"320\"/>\n"
   ]
  },
  {
   "cell_type": "markdown",
   "metadata": {},
   "source": [
    "<font size = \"5\">\n",
    "\n",
    "Copy the path, and store it in a Python variable <br>\n",
    " called \"directory\""
   ]
  },
  {
   "cell_type": "code",
   "execution_count": 2,
   "metadata": {},
   "outputs": [],
   "source": [
    "# For example, on the instructor's computer it would be\n",
    "# /Users/asanc31/Documents/GitHub/qtm531spring2024/Lecture 23/configuration_files\n",
    "\n",
    "directory = \"D:\\GitHub\\qtm530fall2024\\Lecture 24\\configuration_files\""
   ]
  },
  {
   "cell_type": "markdown",
   "metadata": {},
   "source": [
    "<font size = \"5\">\n",
    "\n",
    "Based on this file we can create a file-path"
   ]
  },
  {
   "cell_type": "code",
   "execution_count": 7,
   "metadata": {},
   "outputs": [
    {
     "data": {
      "text/plain": [
       "'\"D:\\\\GitHub\\\\qtm530fall2024\\\\Lecture 24\\\\configuration_files/environment.yml\"'"
      ]
     },
     "execution_count": 7,
     "metadata": {},
     "output_type": "execute_result"
    }
   ],
   "source": [
    "file_path  = \"\\\"\" + directory + \"/environment.yml\" + \"\\\"\"\n",
    "\n",
    "file_path"
   ]
  },
  {
   "cell_type": "markdown",
   "metadata": {},
   "source": [
    "<font size = \"5\">\n",
    "\n",
    "We can now create a custom command\n",
    "\n",
    "- Copy-paste the output into the terminal\n",
    "- This will create a \".yml\" command with all your current configurations"
   ]
  },
  {
   "cell_type": "code",
   "execution_count": 8,
   "metadata": {},
   "outputs": [
    {
     "data": {
      "text/plain": [
       "'conda env export > \"D:\\\\GitHub\\\\qtm530fall2024\\\\Lecture 24\\\\configuration_files/environment.yml\"'"
      ]
     },
     "execution_count": 8,
     "metadata": {},
     "output_type": "execute_result"
    }
   ],
   "source": [
    "command  = \"conda env export > \" + file_path\n",
    "\n",
    "command"
   ]
  },
  {
   "cell_type": "markdown",
   "metadata": {},
   "source": [
    "# <span style=\"color:darkblue\"> IV. Import Environments </span>\n"
   ]
  },
  {
   "cell_type": "markdown",
   "metadata": {},
   "source": [
    "<font size = \"5\">\n",
    "\n",
    "Define the paths of the requirements files"
   ]
  },
  {
   "cell_type": "code",
   "execution_count": 9,
   "metadata": {},
   "outputs": [],
   "source": [
    "example1_path = \"\\\"\" + directory + \"/example1.yml\" + \"\\\"\"\n",
    "example2_path = \"\\\"\" + directory + \"/example2.yml\" + \"\\\"\""
   ]
  },
  {
   "cell_type": "code",
   "execution_count": 10,
   "metadata": {},
   "outputs": [
    {
     "data": {
      "text/plain": [
       "'\"D:\\\\GitHub\\\\qtm530fall2024\\\\Lecture 24\\\\configuration_files/example1.yml\"'"
      ]
     },
     "execution_count": 10,
     "metadata": {},
     "output_type": "execute_result"
    }
   ],
   "source": [
    "example1_path"
   ]
  },
  {
   "cell_type": "markdown",
   "metadata": {},
   "source": [
    "<font size = \"5\">\n",
    "\n",
    "Create a conda environment from a file\n",
    "\n",
    "- ```-f``` indicates that we will create the environment from a file\n",
    "- Copy-paste the output of ```import_command``` into the terminal"
   ]
  },
  {
   "cell_type": "code",
   "execution_count": 11,
   "metadata": {},
   "outputs": [
    {
     "data": {
      "text/plain": [
       "'conda env create -f \"D:\\\\GitHub\\\\qtm530fall2024\\\\Lecture 24\\\\configuration_files/example1.yml\"'"
      ]
     },
     "execution_count": 11,
     "metadata": {},
     "output_type": "execute_result"
    }
   ],
   "source": [
    "import_command  = \"conda env create -f \" + example1_path\n",
    "\n",
    "import_command"
   ]
  },
  {
   "cell_type": "markdown",
   "metadata": {},
   "source": [
    "<font size = \"5\">\n",
    "\n",
    "Try it yourself\n",
    "\n",
    "- Import example 2\n",
    "- See these in your active environments"
   ]
  },
  {
   "cell_type": "markdown",
   "metadata": {},
   "source": [
    "# <span style=\"color:darkblue\"> V. Useful links </span>\n"
   ]
  },
  {
   "cell_type": "markdown",
   "metadata": {},
   "source": [
    "\n",
    "https://astrobiomike.github.io/unix/conda-intro\n",
    "\n",
    "https://www.youtube.com/watch?v=wai-R0Ohcik\n",
    "\n"
   ]
  }
 ],
 "metadata": {
  "kernelspec": {
   "display_name": "base",
   "language": "python",
   "name": "python3"
  },
  "language_info": {
   "codemirror_mode": {
    "name": "ipython",
    "version": 3
   },
   "file_extension": ".py",
   "mimetype": "text/x-python",
   "name": "python",
   "nbconvert_exporter": "python",
   "pygments_lexer": "ipython3",
   "version": "3.11.7"
  },
  "orig_nbformat": 4
 },
 "nbformat": 4,
 "nbformat_minor": 2
}
