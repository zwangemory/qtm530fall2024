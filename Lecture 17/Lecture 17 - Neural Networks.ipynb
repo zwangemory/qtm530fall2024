{
 "cells": [
  {
   "attachments": {},
   "cell_type": "markdown",
   "metadata": {},
   "source": [
    "# <span style=\"color:darkblue\"> Lecture 17: Neural Networks and Tensor Flow </span>\n",
    "\n",
    "<font size = \"5\">\n",
    "\n",
    "In this class we will talk about how to set up <br>\n",
    "a neural network classifier using Tensor Flow\n",
    "\n",
    "For an introduction\n",
    "\n",
    "https://www.youtube.com/watch?v=i8NETqtGHms"
   ]
  },
  {
   "cell_type": "markdown",
   "metadata": {},
   "source": [
    "# <span style=\"color:darkblue\"> I. Setup Working Environment </span>\n"
   ]
  },
  {
   "cell_type": "markdown",
   "metadata": {},
   "source": [
    "\n",
    "<font size = \"5\">\n",
    "\n",
    "We will be using a new library called \"Tensor Flow\" that is used <br>\n",
    "to create neural network architectures\n",
    "\n",
    "In Windows (Anaconda Prompt) or Mac (Terminal) type:\n",
    "\n",
    "``` conda install tensorflow ```"
   ]
  },
  {
   "cell_type": "code",
   "execution_count": 14,
   "metadata": {},
   "outputs": [],
   "source": [
    "# Import the package for the University of California Irvine API\n",
    "from ucimlrepo import fetch_ucirepo \n",
    "\n",
    "# Import SK-Learn library for machine learning functions\n",
    "from sklearn.model_selection import train_test_split\n",
    "from sklearn.svm import SVC\n",
    "from sklearn.model_selection import cross_val_score\n",
    "from sklearn.model_selection import GridSearchCV\n",
    "from sklearn.metrics import confusion_matrix, ConfusionMatrixDisplay\n",
    "from sklearn.model_selection import cross_validate\n",
    "from sklearn import preprocessing\n",
    "from sklearn.metrics import get_scorer_names\n",
    "\n",
    "\n",
    "# Import standard data analysis packages\n",
    "import numpy as np\n",
    "import pandas as pd\n",
    "import matplotlib.pyplot as plt\n"
   ]
  },
  {
   "cell_type": "markdown",
   "metadata": {},
   "source": [
    "<font size = \"5\">\n",
    "\n",
    "Import tensor flow packages"
   ]
  },
  {
   "cell_type": "code",
   "execution_count": 15,
   "metadata": {},
   "outputs": [],
   "source": [
    "\n",
    "# Import standard data analysis packages\n",
    "import tensorflow as tf\n",
    "from tensorflow import keras\n",
    "from keras.layers import Dense"
   ]
  },
  {
   "cell_type": "markdown",
   "metadata": {},
   "source": [
    "# <span style=\"color:darkblue\"> II. Data </span>\n",
    "\n",
    "<font size = \"5\">\n",
    "\n",
    "Online Shoppers Purchasing Intention Dataset (OSHPID)\n",
    "\n",
    "- This dataset contains information about user sessions\n",
    "- It contains features data about user behavior \n",
    "while <br> navigating website\n",
    "- The goal is to predict whether the customer will purchase or not\n",
    "\n",
    "https://archive.ics.uci.edu/dataset/468/online+shoppers+purchasing+intention+dataset\n"
   ]
  },
  {
   "cell_type": "code",
   "execution_count": 16,
   "metadata": {},
   "outputs": [],
   "source": [
    "# Fetch online data from the UC Irvine Machine Learning Repository API\n",
    "online_shopping= fetch_ucirepo(id=468) \n",
    "\n",
    "# Extract\n",
    "X = online_shopping.data.features\n",
    "# Drop columns that contain non-numeric values\n",
    "X = X.drop(columns = [\"Month\",\"VisitorType\"])\n",
    "\n",
    "# Extract label data\n",
    "y = online_shopping.data.targets[\"Revenue\"]\n"
   ]
  },
  {
   "cell_type": "code",
   "execution_count": 17,
   "metadata": {},
   "outputs": [],
   "source": [
    "# Convert to float types (avoids issues down the line)\n",
    "X = np.asarray(X).astype(np.float32)\n",
    "y = np.asarray(y).astype(np.float32)"
   ]
  },
  {
   "cell_type": "markdown",
   "metadata": {},
   "source": [
    "<font size = \"5\">\n",
    "\n",
    "Pre-process data prior to running model"
   ]
  },
  {
   "cell_type": "code",
   "execution_count": 18,
   "metadata": {},
   "outputs": [],
   "source": [
    "# Split into training and test\n",
    "X_train, X_test, y_train, y_test = train_test_split(X,y , \n",
    "                                   random_state=104,  \n",
    "                                   test_size=0.25,  \n",
    "                                   shuffle=True) "
   ]
  },
  {
   "cell_type": "code",
   "execution_count": 19,
   "metadata": {},
   "outputs": [],
   "source": [
    "# The first step is to produce a \"scaler\" function\n",
    "scaler_train = preprocessing.StandardScaler().fit(X_train)\n",
    "scaler_test  = preprocessing.StandardScaler().fit(X_test)\n",
    "\n",
    "# Apply scaler function\n",
    "X_train_scale = scaler_train.transform(X_train)\n",
    "X_test_scale  = scaler_test.fit(X_test).transform(X_test)"
   ]
  },
  {
   "cell_type": "markdown",
   "metadata": {},
   "source": [
    "# <span style=\"color:darkblue\"> III. Training a neural network </span>\n"
   ]
  },
  {
   "cell_type": "markdown",
   "metadata": {},
   "source": [
    "<font size = \"5\">\n",
    "\n",
    "Define number of features in $X$"
   ]
  },
  {
   "cell_type": "code",
   "execution_count": 20,
   "metadata": {},
   "outputs": [],
   "source": [
    "k_features = X.shape[1]"
   ]
  },
  {
   "cell_type": "markdown",
   "metadata": {},
   "source": [
    "<font size = \"5\">\n",
    "\n",
    "To define a neural network we start with a configuration setup\n",
    "\n",
    "- We start with an empty canvas with \"Keras\"\n",
    "- Then we successively add how many layers we want <br>\n",
    "and what type\n",
    "\n",
    "For more information about Keras layers:\n",
    "\n",
    "https://www.educative.io/answers/what-are-keras-layers"
   ]
  },
  {
   "cell_type": "code",
   "execution_count": 33,
   "metadata": {},
   "outputs": [],
   "source": [
    "# \"basic_model\" for now only starts with a configuration\n",
    "\n",
    "basic_model = keras.models.Sequential()"
   ]
  },
  {
   "cell_type": "code",
   "execution_count": 38,
   "metadata": {},
   "outputs": [],
   "source": [
    "# We add how many layers we want, starting with the input layer and \n",
    "# ending with the output layer\n",
    "\n",
    "# This has a dense layer for inputs with \"k\" features\n",
    "basic_model.add(Dense(units=16, activation='relu', input_shape=(k_features,)))\n",
    "\n",
    "# This is the output layer. The sigmoid defines predictions in (0,1)\n",
    "# We choose 1 unit since there is a scalar output (binary classification)\n",
    "\n",
    "basic_model.add(Dense(units = 1, activation='sigmoid'))\n",
    "\n",
    "# Note: If you are using the neural network to predict continuous outcomes,\n",
    "# you may want a different activation function in the output layer"
   ]
  },
  {
   "cell_type": "markdown",
   "metadata": {},
   "source": [
    "<font size = \"5\">\n",
    "\n",
    "Define an optimizer"
   ]
  },
  {
   "cell_type": "code",
   "execution_count": 39,
   "metadata": {},
   "outputs": [],
   "source": [
    "# Adam is a type of optimization algorithm\n",
    "\n",
    "adam = keras.optimizers.Adam(learning_rate=0.001)"
   ]
  },
  {
   "cell_type": "code",
   "execution_count": 40,
   "metadata": {},
   "outputs": [],
   "source": [
    "# Define the loss function to optimize\n",
    "\n",
    "basic_model.compile(loss='binary_crossentropy', optimizer=adam, metrics=[\"accuracy\"])"
   ]
  },
  {
   "cell_type": "markdown",
   "metadata": {},
   "source": [
    "<font size = \"5\">\n",
    "\n",
    "Estimate model\n",
    "\n",
    "- The optimization algorithm proceeds sequentially, through epocs\n",
    "- Set a random seed to ensure reproducibility"
   ]
  },
  {
   "cell_type": "code",
   "execution_count": 49,
   "metadata": {},
   "outputs": [
    {
     "name": "stdout",
     "output_type": "stream",
     "text": [
      "Epoch 1/100\n"
     ]
    },
    {
     "name": "stdout",
     "output_type": "stream",
     "text": [
      "289/289 [==============================] - 0s 554us/step - loss: 0.2773 - accuracy: 0.8873\n",
      "Epoch 2/100\n",
      "289/289 [==============================] - 0s 500us/step - loss: 0.2789 - accuracy: 0.8874\n",
      "Epoch 3/100\n",
      "289/289 [==============================] - 0s 492us/step - loss: 0.2727 - accuracy: 0.8880\n",
      "Epoch 4/100\n",
      "289/289 [==============================] - 0s 511us/step - loss: 0.2747 - accuracy: 0.8864\n",
      "Epoch 5/100\n",
      "289/289 [==============================] - 0s 493us/step - loss: 0.2697 - accuracy: 0.8879\n",
      "Epoch 6/100\n",
      "289/289 [==============================] - 0s 552us/step - loss: 0.2670 - accuracy: 0.8862\n",
      "Epoch 7/100\n",
      "289/289 [==============================] - 0s 894us/step - loss: 0.2892 - accuracy: 0.8857\n",
      "Epoch 8/100\n",
      "289/289 [==============================] - 0s 559us/step - loss: 0.2704 - accuracy: 0.8860\n",
      "Epoch 9/100\n",
      "289/289 [==============================] - 0s 530us/step - loss: 0.2761 - accuracy: 0.8856\n",
      "Epoch 10/100\n",
      "289/289 [==============================] - 0s 523us/step - loss: 0.2791 - accuracy: 0.8887\n",
      "Epoch 11/100\n",
      "289/289 [==============================] - 0s 516us/step - loss: 0.2780 - accuracy: 0.8870\n",
      "Epoch 12/100\n",
      "289/289 [==============================] - 0s 492us/step - loss: 0.2683 - accuracy: 0.8863\n",
      "Epoch 13/100\n",
      "289/289 [==============================] - 0s 543us/step - loss: 0.2741 - accuracy: 0.8866\n",
      "Epoch 14/100\n",
      "289/289 [==============================] - 0s 510us/step - loss: 0.2818 - accuracy: 0.8873\n",
      "Epoch 15/100\n",
      "289/289 [==============================] - 0s 599us/step - loss: 0.2749 - accuracy: 0.8862\n",
      "Epoch 16/100\n",
      "289/289 [==============================] - 0s 555us/step - loss: 0.2765 - accuracy: 0.8844\n",
      "Epoch 17/100\n",
      "289/289 [==============================] - 0s 596us/step - loss: 0.2722 - accuracy: 0.8874\n",
      "Epoch 18/100\n",
      "289/289 [==============================] - 0s 519us/step - loss: 0.2720 - accuracy: 0.8885\n",
      "Epoch 19/100\n",
      "289/289 [==============================] - 0s 515us/step - loss: 0.2683 - accuracy: 0.8879\n",
      "Epoch 20/100\n",
      "289/289 [==============================] - 0s 604us/step - loss: 0.2722 - accuracy: 0.8875\n",
      "Epoch 21/100\n",
      "289/289 [==============================] - 0s 501us/step - loss: 0.2743 - accuracy: 0.8874\n",
      "Epoch 22/100\n",
      "289/289 [==============================] - 0s 496us/step - loss: 0.2786 - accuracy: 0.8872\n",
      "Epoch 23/100\n",
      "289/289 [==============================] - 0s 504us/step - loss: 0.2697 - accuracy: 0.8882\n",
      "Epoch 24/100\n",
      "289/289 [==============================] - 0s 503us/step - loss: 0.2765 - accuracy: 0.8883\n",
      "Epoch 25/100\n",
      "289/289 [==============================] - 0s 501us/step - loss: 0.2666 - accuracy: 0.8909\n",
      "Epoch 26/100\n",
      "289/289 [==============================] - 0s 499us/step - loss: 0.3155 - accuracy: 0.8606\n",
      "Epoch 27/100\n",
      "289/289 [==============================] - 0s 492us/step - loss: 0.3064 - accuracy: 0.8909\n",
      "Epoch 28/100\n",
      "289/289 [==============================] - 0s 492us/step - loss: 0.2963 - accuracy: 0.8942\n",
      "Epoch 29/100\n",
      "289/289 [==============================] - 0s 493us/step - loss: 0.2917 - accuracy: 0.8940\n",
      "Epoch 30/100\n",
      "289/289 [==============================] - 0s 489us/step - loss: 0.2795 - accuracy: 0.8927\n",
      "Epoch 31/100\n",
      "289/289 [==============================] - 0s 499us/step - loss: 0.2837 - accuracy: 0.8866\n",
      "Epoch 32/100\n",
      "289/289 [==============================] - 0s 488us/step - loss: 0.2752 - accuracy: 0.8832\n",
      "Epoch 33/100\n",
      "289/289 [==============================] - 0s 491us/step - loss: 0.2791 - accuracy: 0.8835\n",
      "Epoch 34/100\n",
      "289/289 [==============================] - 0s 496us/step - loss: 0.2802 - accuracy: 0.8901\n",
      "Epoch 35/100\n",
      "289/289 [==============================] - 0s 500us/step - loss: 0.2864 - accuracy: 0.8940\n",
      "Epoch 36/100\n",
      "289/289 [==============================] - 0s 501us/step - loss: 0.2695 - accuracy: 0.8922\n",
      "Epoch 37/100\n",
      "289/289 [==============================] - 0s 506us/step - loss: 0.2719 - accuracy: 0.8926\n",
      "Epoch 38/100\n",
      "289/289 [==============================] - 0s 492us/step - loss: 0.2773 - accuracy: 0.8897\n",
      "Epoch 39/100\n",
      "289/289 [==============================] - 0s 492us/step - loss: 0.2714 - accuracy: 0.8903\n",
      "Epoch 40/100\n",
      "289/289 [==============================] - 0s 488us/step - loss: 0.2685 - accuracy: 0.8864\n",
      "Epoch 41/100\n",
      "289/289 [==============================] - 0s 496us/step - loss: 0.2688 - accuracy: 0.8848\n",
      "Epoch 42/100\n",
      "289/289 [==============================] - 0s 488us/step - loss: 0.2725 - accuracy: 0.8890\n",
      "Epoch 43/100\n",
      "289/289 [==============================] - 0s 587us/step - loss: 0.2817 - accuracy: 0.8871\n",
      "Epoch 44/100\n",
      "289/289 [==============================] - 0s 502us/step - loss: 0.2707 - accuracy: 0.8911\n",
      "Epoch 45/100\n",
      "289/289 [==============================] - 0s 528us/step - loss: 0.2708 - accuracy: 0.8949\n",
      "Epoch 46/100\n",
      "289/289 [==============================] - 0s 501us/step - loss: 0.2746 - accuracy: 0.8941\n",
      "Epoch 47/100\n",
      "289/289 [==============================] - 0s 502us/step - loss: 0.2797 - accuracy: 0.8922\n",
      "Epoch 48/100\n",
      "289/289 [==============================] - 0s 503us/step - loss: 0.2696 - accuracy: 0.8945\n",
      "Epoch 49/100\n",
      "289/289 [==============================] - 0s 513us/step - loss: 0.2699 - accuracy: 0.8959\n",
      "Epoch 50/100\n",
      "289/289 [==============================] - 0s 512us/step - loss: 0.2708 - accuracy: 0.8950\n",
      "Epoch 51/100\n",
      "289/289 [==============================] - 0s 493us/step - loss: 0.2652 - accuracy: 0.8962\n",
      "Epoch 52/100\n",
      "289/289 [==============================] - 0s 501us/step - loss: 0.2655 - accuracy: 0.8969\n",
      "Epoch 53/100\n",
      "289/289 [==============================] - 0s 504us/step - loss: 0.2772 - accuracy: 0.8935\n",
      "Epoch 54/100\n",
      "289/289 [==============================] - 0s 495us/step - loss: 0.2816 - accuracy: 0.8860\n",
      "Epoch 55/100\n",
      "289/289 [==============================] - 0s 504us/step - loss: 0.2669 - accuracy: 0.8952\n",
      "Epoch 56/100\n",
      "289/289 [==============================] - 0s 584us/step - loss: 0.2637 - accuracy: 0.8966\n",
      "Epoch 57/100\n",
      "289/289 [==============================] - 0s 491us/step - loss: 0.2789 - accuracy: 0.8896\n",
      "Epoch 58/100\n",
      "289/289 [==============================] - 0s 486us/step - loss: 0.2666 - accuracy: 0.8959\n",
      "Epoch 59/100\n",
      "289/289 [==============================] - 0s 492us/step - loss: 0.2673 - accuracy: 0.8959\n",
      "Epoch 60/100\n",
      "289/289 [==============================] - 0s 493us/step - loss: 0.2647 - accuracy: 0.8972\n",
      "Epoch 61/100\n",
      "289/289 [==============================] - 0s 495us/step - loss: 0.2706 - accuracy: 0.8940\n",
      "Epoch 62/100\n",
      "289/289 [==============================] - 0s 487us/step - loss: 0.2698 - accuracy: 0.8912\n",
      "Epoch 63/100\n",
      "289/289 [==============================] - 0s 502us/step - loss: 0.2758 - accuracy: 0.8921\n",
      "Epoch 64/100\n",
      "289/289 [==============================] - 0s 492us/step - loss: 0.2738 - accuracy: 0.8932\n",
      "Epoch 65/100\n",
      "289/289 [==============================] - 0s 492us/step - loss: 0.2825 - accuracy: 0.8952\n",
      "Epoch 66/100\n",
      "289/289 [==============================] - 0s 489us/step - loss: 0.2712 - accuracy: 0.8957\n",
      "Epoch 67/100\n",
      "289/289 [==============================] - 0s 585us/step - loss: 0.2675 - accuracy: 0.8947\n",
      "Epoch 68/100\n",
      "289/289 [==============================] - 0s 491us/step - loss: 0.2763 - accuracy: 0.8947\n",
      "Epoch 69/100\n",
      "289/289 [==============================] - 0s 488us/step - loss: 0.2841 - accuracy: 0.8973\n",
      "Epoch 70/100\n",
      "289/289 [==============================] - 0s 491us/step - loss: 0.2698 - accuracy: 0.8968\n",
      "Epoch 71/100\n",
      "289/289 [==============================] - 0s 490us/step - loss: 0.2668 - accuracy: 0.8967\n",
      "Epoch 72/100\n",
      "289/289 [==============================] - 0s 489us/step - loss: 0.2679 - accuracy: 0.8945\n",
      "Epoch 73/100\n",
      "289/289 [==============================] - 0s 487us/step - loss: 0.2710 - accuracy: 0.8932\n",
      "Epoch 74/100\n",
      "289/289 [==============================] - 0s 490us/step - loss: 0.2752 - accuracy: 0.8938\n",
      "Epoch 75/100\n",
      "289/289 [==============================] - 0s 505us/step - loss: 0.2712 - accuracy: 0.8957\n",
      "Epoch 76/100\n",
      "289/289 [==============================] - 0s 488us/step - loss: 0.2864 - accuracy: 0.8938\n",
      "Epoch 77/100\n",
      "289/289 [==============================] - 0s 587us/step - loss: 0.2743 - accuracy: 0.8959\n",
      "Epoch 78/100\n",
      "289/289 [==============================] - 0s 502us/step - loss: 0.2793 - accuracy: 0.8973\n",
      "Epoch 79/100\n",
      "289/289 [==============================] - 0s 494us/step - loss: 0.2782 - accuracy: 0.8961\n",
      "Epoch 80/100\n",
      "289/289 [==============================] - 0s 497us/step - loss: 0.2671 - accuracy: 0.8951\n",
      "Epoch 81/100\n",
      "289/289 [==============================] - 0s 507us/step - loss: 0.2741 - accuracy: 0.8937\n",
      "Epoch 82/100\n",
      "289/289 [==============================] - 0s 501us/step - loss: 0.2698 - accuracy: 0.8947\n",
      "Epoch 83/100\n",
      "289/289 [==============================] - 0s 497us/step - loss: 0.2688 - accuracy: 0.8952\n",
      "Epoch 84/100\n",
      "289/289 [==============================] - 0s 489us/step - loss: 0.2758 - accuracy: 0.8951\n",
      "Epoch 85/100\n",
      "289/289 [==============================] - 0s 488us/step - loss: 0.2888 - accuracy: 0.8902\n",
      "Epoch 86/100\n",
      "289/289 [==============================] - 0s 491us/step - loss: 0.2736 - accuracy: 0.8927\n",
      "Epoch 87/100\n",
      "289/289 [==============================] - 0s 505us/step - loss: 0.2814 - accuracy: 0.8963\n",
      "Epoch 88/100\n",
      "289/289 [==============================] - 0s 493us/step - loss: 0.2811 - accuracy: 0.8941\n",
      "Epoch 89/100\n",
      "289/289 [==============================] - 0s 589us/step - loss: 0.2697 - accuracy: 0.8942\n",
      "Epoch 90/100\n",
      "289/289 [==============================] - 0s 484us/step - loss: 0.2697 - accuracy: 0.8954\n",
      "Epoch 91/100\n",
      "289/289 [==============================] - 0s 493us/step - loss: 0.2808 - accuracy: 0.8935\n",
      "Epoch 92/100\n",
      "289/289 [==============================] - 0s 488us/step - loss: 0.2881 - accuracy: 0.8924\n",
      "Epoch 93/100\n",
      "289/289 [==============================] - 0s 484us/step - loss: 0.2945 - accuracy: 0.8913\n",
      "Epoch 94/100\n",
      "289/289 [==============================] - 0s 490us/step - loss: 0.2917 - accuracy: 0.8898\n",
      "Epoch 95/100\n",
      "289/289 [==============================] - 0s 487us/step - loss: 0.2822 - accuracy: 0.8902\n",
      "Epoch 96/100\n",
      "289/289 [==============================] - 0s 489us/step - loss: 0.2785 - accuracy: 0.8913\n",
      "Epoch 97/100\n",
      "289/289 [==============================] - 0s 481us/step - loss: 0.2718 - accuracy: 0.8872\n",
      "Epoch 98/100\n",
      "289/289 [==============================] - 0s 484us/step - loss: 0.2872 - accuracy: 0.8879\n",
      "Epoch 99/100\n",
      "289/289 [==============================] - 0s 501us/step - loss: 0.2874 - accuracy: 0.8901\n",
      "Epoch 100/100\n",
      "289/289 [==============================] - 0s 483us/step - loss: 0.2869 - accuracy: 0.8905\n"
     ]
    },
    {
     "data": {
      "text/plain": [
       "<keras.callbacks.History at 0x7fc6774fe6a0>"
      ]
     },
     "execution_count": 49,
     "metadata": {},
     "output_type": "execute_result"
    }
   ],
   "source": [
    "# Set random seed\n",
    "tf.keras.utils.set_random_seed(0)  \n",
    "\n",
    "# Train model\n",
    "basic_model.fit(X_train, y_train, epochs=100)"
   ]
  },
  {
   "cell_type": "markdown",
   "metadata": {},
   "source": [
    "# <span style=\"color:darkblue\"> IV. Evaluate a neural network </span>\n"
   ]
  },
  {
   "cell_type": "markdown",
   "metadata": {},
   "source": [
    "<font size = \"5\">\n",
    "\n",
    "Obtain predicted probabilities and convert them to {0,1}"
   ]
  },
  {
   "cell_type": "code",
   "execution_count": 47,
   "metadata": {},
   "outputs": [
    {
     "name": "stdout",
     "output_type": "stream",
     "text": [
      " 1/97 [..............................] - ETA: 1s"
     ]
    },
    {
     "name": "stdout",
     "output_type": "stream",
     "text": [
      "97/97 [==============================] - 0s 636us/step\n"
     ]
    }
   ],
   "source": [
    "# Convert to array\n",
    "predicted_prob = basic_model.predict(X_test)\n",
    "predicted_prob = tf.squeeze(predicted_prob)\n",
    "\n",
    "# Convert to {0,1} predictions using a 0.5 threshold\n",
    "threshold = 0.5\n",
    "predicted = np.array([1 if x >= threshold else 0 for x in predicted_prob])"
   ]
  },
  {
   "cell_type": "markdown",
   "metadata": {},
   "source": [
    "<font size = \"5\">\n",
    "\n",
    "Obtain confusion matrix"
   ]
  },
  {
   "cell_type": "code",
   "execution_count": 48,
   "metadata": {},
   "outputs": [
    {
     "data": {
      "text/plain": [
       "<sklearn.metrics._plot.confusion_matrix.ConfusionMatrixDisplay at 0x7fc66228e9a0>"
      ]
     },
     "execution_count": 48,
     "metadata": {},
     "output_type": "execute_result"
    },
    {
     "data": {
      "image/png": "[encoded data removed]",
      "text/plain": [
       "<Figure size 640x480 with 2 Axes>"
      ]
     },
     "metadata": {},
     "output_type": "display_data"
    }
   ],
   "source": [
    "# Obtain confusion matrix\n",
    "cm = confusion_matrix(y_test, predicted)\n",
    "\n",
    "displ = ConfusionMatrixDisplay(confusion_matrix=cm)\n",
    "displ.plot()"
   ]
  },
  {
   "cell_type": "markdown",
   "metadata": {},
   "source": [
    "<font size = \"5\">\n",
    "\n",
    "At the moment we defined a very simple neural network <br>\n",
    "with just an input layer and an output layer. <br>\n",
    "\n",
    "Try it yourself!\n",
    "\n",
    "- Increase the number of units in the input layer\n",
    "- Does prediction accuracy improve?\n"
   ]
  },
  {
   "cell_type": "code",
   "execution_count": null,
   "metadata": {},
   "outputs": [],
   "source": [
    "# Write your own code\n",
    "\n",
    "\n"
   ]
  },
  {
   "cell_type": "markdown",
   "metadata": {},
   "source": [
    "<font size = \"5\">\n",
    "\n",
    "\n",
    "Try it yourself!\n",
    "\n",
    "- Add one or more hidden layers\n",
    "- Does prediction accuracy improve?"
   ]
  },
  {
   "cell_type": "code",
   "execution_count": null,
   "metadata": {},
   "outputs": [],
   "source": [
    "# Write your own code\n",
    "\n",
    "\n",
    "\n",
    "\n"
   ]
  },
  {
   "cell_type": "markdown",
   "metadata": {},
   "source": [
    "<font size = \"5\">\n",
    "\n",
    "Try it yourself!\n",
    "\n",
    "- Import the Mashable dataset that we used earlier <br>\n",
    "(you can find this in this in the ```ArticlesTrain.csv``` and <br>\n",
    "```ArticlesTest.csv``` files in the ```data_raw``` folder)\n",
    "\n",
    "- Try to set up a neural network with a simple input-output layer "
   ]
  },
  {
   "cell_type": "code",
   "execution_count": null,
   "metadata": {},
   "outputs": [],
   "source": [
    "# Write your own code\n",
    "\n",
    "\n",
    "\n",
    "\n"
   ]
  },
  {
   "cell_type": "markdown",
   "metadata": {},
   "source": [
    "# <span style=\"color:darkblue\"> V. Additional resources </span>\n",
    "\n",
    "<font size = \"5\">\n",
    "\n",
    "Quick guide:\n",
    "\n",
    "https://www.tensorflow.org/tutorials/quickstart/beginner\n",
    "\n",
    "Binary classification:\n",
    "\n",
    "https://www.freecodecamp.org/news/binary-classification-made-simple-with-tensorflow/\n",
    "\n",
    "Image classification:\n",
    "\n",
    "https://www.tensorflow.org/tutorials/images/classification\n",
    "\n"
   ]
  }
 ],
 "metadata": {
  "kernelspec": {
   "display_name": "base",
   "language": "python",
   "name": "python3"
  },
  "language_info": {
   "codemirror_mode": {
    "name": "ipython",
    "version": 3
   },
   "file_extension": ".py",
   "mimetype": "text/x-python",
   "name": "python",
   "nbconvert_exporter": "python",
   "pygments_lexer": "ipython3",
   "version": "3.9.18"
  },
  "orig_nbformat": 4,
  "vscode": {
   "interpreter": {
    "hash": "45fc1f684f6f416f40889115beff3ddf69879b64cf4bfee48cb72a61e9d15d1a"
   }
  }
 },
 "nbformat": 4,
 "nbformat_minor": 2
}
