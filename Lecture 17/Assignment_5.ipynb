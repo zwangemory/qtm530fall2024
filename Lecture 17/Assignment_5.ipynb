{
 "cells": [
  {
   "cell_type": "markdown",
   "metadata": {},
   "source": [
    "# <span style=\"color:darkblue\"> Assignment 5 </span>\n",
    "\n",
    "<font size = \"5\">\n",
    "\n",
    "For this assignment we will using the iris dataset and practice the use of some of the machine learning methods."
   ]
  },
  {
   "cell_type": "code",
   "execution_count": 2,
   "metadata": {},
   "outputs": [],
   "source": [
    "#import packages\n",
    "\n",
    "import pandas as pd\n",
    "import numpy as np\n",
    "import matplotlib.pyplot as plt\n",
    "\n",
    "\n",
    "from sklearn.linear_model import LogisticRegression\n",
    "from sklearn.metrics import classification_report, confusion_matrix\n",
    "from sklearn.model_selection import train_test_split\n",
    "from sklearn.tree import DecisionTreeRegressor as DTR\n",
    "from sklearn import tree\n",
    "import sklearn.model_selection as skm\n",
    "from sklearn.ensemble import RandomForestRegressor as RF\n",
    "from sklearn.ensemble import GradientBoostingRegressor as GBR\n",
    "from sklearn.model_selection import cross_val_score, cross_validate, StratifiedKFold\n",
    "from sklearn.ensemble import RandomForestClassifier\n",
    "from sklearn.metrics import make_scorer, accuracy_score, precision_score, recall_score, f1_score\n",
    "\n",
    "\n",
    "# This is used to create data matrices\n",
    "import patsy\n",
    "\n",
    "# This is used to visualize regreesion trees\n",
    "import graphviz\n",
    "\n",
    "# Import content from the book \"Introduction to Statistical Learning\"\n",
    "import ISLP\n",
    "\n",
    "\n",
    "# Import the package for the University of California Irvine API\n",
    "from ucimlrepo import fetch_ucirepo \n",
    "\n",
    "\n",
    "# Import SK-Learn library for machine learning functions \n",
    "\n",
    "from sklearn.svm import SVC\n",
    "from sklearn.model_selection import cross_val_score\n",
    "from sklearn.model_selection import GridSearchCV\n",
    "from sklearn.metrics import confusion_matrix, ConfusionMatrixDisplay\n",
    "from sklearn.model_selection import cross_validate\n",
    "from sklearn import preprocessing\n",
    "from sklearn.metrics import get_scorer_names\n",
    "\n",
    "\n"
   ]
  },
  {
   "cell_type": "code",
   "execution_count": 6,
   "metadata": {},
   "outputs": [
    {
     "name": "stdout",
     "output_type": "stream",
     "text": [
      "           name     role         type demographic  \\\n",
      "0  sepal length  Feature   Continuous        None   \n",
      "1   sepal width  Feature   Continuous        None   \n",
      "2  petal length  Feature   Continuous        None   \n",
      "3   petal width  Feature   Continuous        None   \n",
      "4         class   Target  Categorical        None   \n",
      "\n",
      "                                         description units missing_values  \n",
      "0                                               None    cm             no  \n",
      "1                                               None    cm             no  \n",
      "2                                               None    cm             no  \n",
      "3                                               None    cm             no  \n",
      "4  class of iris plant: Iris Setosa, Iris Versico...  None             no  \n",
      "     sepal length  sepal width  petal length  petal width\n",
      "0             5.1          3.5           1.4          0.2\n",
      "1             4.9          3.0           1.4          0.2\n",
      "2             4.7          3.2           1.3          0.2\n",
      "3             4.6          3.1           1.5          0.2\n",
      "4             5.0          3.6           1.4          0.2\n",
      "..            ...          ...           ...          ...\n",
      "145           6.7          3.0           5.2          2.3\n",
      "146           6.3          2.5           5.0          1.9\n",
      "147           6.5          3.0           5.2          2.0\n",
      "148           6.2          3.4           5.4          2.3\n",
      "149           5.9          3.0           5.1          1.8\n",
      "\n",
      "[150 rows x 4 columns]\n"
     ]
    }
   ],
   "source": [
    "#load data \n",
    "\n",
    "# fetch dataset \n",
    "iris = fetch_ucirepo(id=53) \n",
    "  \n",
    "# data (as pandas dataframes) \n",
    "X = iris.data.features \n",
    "y = iris.data.targets \n",
    "  \n",
    "\n",
    "  \n",
    "# variable information \n",
    "print(iris.variables) \n",
    "print(X)\n"
   ]
  },
  {
   "cell_type": "markdown",
   "metadata": {},
   "source": [
    "<font size = \"5\">\n",
    "\n",
    "The dataset contains 150 observations with 4 important features of the units, including sepal length, sepla width, patel length and patel width. The are 50 observations in each of the three \"classes\". "
   ]
  },
  {
   "cell_type": "markdown",
   "metadata": {},
   "source": [
    "<font size = \"5\">\n",
    "\n",
    "First, I produce machine learning on the data using three common techniques learned in class: random forest, SVM and neural network. "
   ]
  },
  {
   "cell_type": "code",
   "execution_count": 10,
   "metadata": {},
   "outputs": [
    {
     "name": "stderr",
     "output_type": "stream",
     "text": [
      "e:\\Anaconda3\\Lib\\site-packages\\sklearn\\base.py:1474: DataConversionWarning: A column-vector y was passed when a 1d array was expected. Please change the shape of y to (n_samples,), for example using ravel().\n",
      "  return fit_method(estimator, *args, **kwargs)\n",
      "e:\\Anaconda3\\Lib\\site-packages\\sklearn\\base.py:1474: DataConversionWarning: A column-vector y was passed when a 1d array was expected. Please change the shape of y to (n_samples,), for example using ravel().\n",
      "  return fit_method(estimator, *args, **kwargs)\n",
      "e:\\Anaconda3\\Lib\\site-packages\\sklearn\\base.py:1474: DataConversionWarning: A column-vector y was passed when a 1d array was expected. Please change the shape of y to (n_samples,), for example using ravel().\n",
      "  return fit_method(estimator, *args, **kwargs)\n",
      "e:\\Anaconda3\\Lib\\site-packages\\sklearn\\base.py:1474: DataConversionWarning: A column-vector y was passed when a 1d array was expected. Please change the shape of y to (n_samples,), for example using ravel().\n",
      "  return fit_method(estimator, *args, **kwargs)\n",
      "e:\\Anaconda3\\Lib\\site-packages\\sklearn\\base.py:1474: DataConversionWarning: A column-vector y was passed when a 1d array was expected. Please change the shape of y to (n_samples,), for example using ravel().\n",
      "  return fit_method(estimator, *args, **kwargs)\n"
     ]
    },
    {
     "name": "stdout",
     "output_type": "stream",
     "text": [
      "Cross-Validated Metrics:\n",
      "Accuracy: 0.9600\n",
      "Precision (macro): 0.9633\n",
      "Recall (macro): 0.9600\n",
      "Cross-Validated Error: 0.0400\n"
     ]
    }
   ],
   "source": [
    "#predict using random forest\n",
    "\n",
    "rf_clf = RandomForestClassifier(random_state=20)\n",
    "\n",
    "# Define evaluation metrics\n",
    "scoring = {\n",
    "    'accuracy': make_scorer(accuracy_score),\n",
    "    'precision_macro': make_scorer(precision_score, average='macro'),\n",
    "    'recall_macro': make_scorer(recall_score, average='macro')\n",
    "}\n",
    "\n",
    "# Perform cross-validation with Stratified K-Fold\n",
    "cv = StratifiedKFold(n_splits=5, shuffle=True, random_state=42)\n",
    "cv_results = cross_validate(rf_clf, X, y, cv=cv, scoring=scoring)\n",
    "\n",
    "\n",
    "# Print the average scores across all cross-validation folds\n",
    "print(\"Cross-Validated Metrics:\")\n",
    "print(f\"Accuracy: {np.mean(cv_results['test_accuracy']):.4f}\")\n",
    "print(f\"Precision (macro): {np.mean(cv_results['test_precision_macro']):.4f}\")\n",
    "print(f\"Recall (macro): {np.mean(cv_results['test_recall_macro']):.4f}\")\n",
    "\n",
    "# Compute cross-validated error as 1 - average accuracy\n",
    "cross_validated_error = 1 - np.mean(cv_results['test_accuracy'])\n",
    "print(f\"Cross-Validated Error: {cross_validated_error:.4f}\")\n",
    "\n"
   ]
  },
  {
   "cell_type": "code",
   "execution_count": null,
   "metadata": {},
   "outputs": [
    {
     "name": "stdout",
     "output_type": "stream",
     "text": [
      "Cross-Validated Metrics:\n",
      "Accuracy: 0.9667\n",
      "Precision (macro): 0.9695\n",
      "Recall (macro): 0.9667\n",
      "Cross-Validated Error (1 - Accuracy): 0.0333\n"
     ]
    },
    {
     "name": "stderr",
     "output_type": "stream",
     "text": [
      "e:\\Anaconda3\\Lib\\site-packages\\sklearn\\utils\\validation.py:1300: DataConversionWarning: A column-vector y was passed when a 1d array was expected. Please change the shape of y to (n_samples, ), for example using ravel().\n",
      "  y = column_or_1d(y, warn=True)\n",
      "e:\\Anaconda3\\Lib\\site-packages\\sklearn\\utils\\validation.py:1300: DataConversionWarning: A column-vector y was passed when a 1d array was expected. Please change the shape of y to (n_samples, ), for example using ravel().\n",
      "  y = column_or_1d(y, warn=True)\n",
      "e:\\Anaconda3\\Lib\\site-packages\\sklearn\\utils\\validation.py:1300: DataConversionWarning: A column-vector y was passed when a 1d array was expected. Please change the shape of y to (n_samples, ), for example using ravel().\n",
      "  y = column_or_1d(y, warn=True)\n",
      "e:\\Anaconda3\\Lib\\site-packages\\sklearn\\utils\\validation.py:1300: DataConversionWarning: A column-vector y was passed when a 1d array was expected. Please change the shape of y to (n_samples, ), for example using ravel().\n",
      "  y = column_or_1d(y, warn=True)\n",
      "e:\\Anaconda3\\Lib\\site-packages\\sklearn\\utils\\validation.py:1300: DataConversionWarning: A column-vector y was passed when a 1d array was expected. Please change the shape of y to (n_samples, ), for example using ravel().\n",
      "  y = column_or_1d(y, warn=True)\n"
     ]
    }
   ],
   "source": [
    "#predict using SVM \n",
    "\n",
    "# Initialize the SVM classifier\n",
    "svm_clf = SVC(random_state=42)\n",
    "\n",
    "# Define evaluation metrics\n",
    "scoring = {\n",
    "    'accuracy': make_scorer(accuracy_score),\n",
    "    'precision_macro': make_scorer(precision_score, average='macro'),\n",
    "    'recall_macro': make_scorer(recall_score, average='macro')\n",
    "}\n",
    "\n",
    "# Perform cross-validation with Stratified K-Fold\n",
    "cv = StratifiedKFold(n_splits=5, shuffle=True, random_state=42)\n",
    "cv_results = cross_validate(svm_clf, X, y, cv=cv, scoring=scoring)\n",
    "\n",
    "# Calculate and print the average error across all folds for each metric\n",
    "print(\"Cross-Validated Metrics:\")\n",
    "print(f\"Accuracy: {np.mean(cv_results['test_accuracy']):.4f}\")\n",
    "print(f\"Precision (macro): {np.mean(cv_results['test_precision_macro']):.4f}\")\n",
    "print(f\"Recall (macro): {np.mean(cv_results['test_recall_macro']):.4f}\")\n",
    "\n",
    "\n",
    "# Compute cross-validated error as 1 - average accuracy\n",
    "cross_validated_error = 1 - np.mean(cv_results['test_accuracy'])\n",
    "print(f\"Cross-Validated Error: {cross_validated_error:.4f}\")\n"
   ]
  },
  {
   "cell_type": "code",
   "execution_count": 5,
   "metadata": {},
   "outputs": [
    {
     "name": "stderr",
     "output_type": "stream",
     "text": [
      "e:\\Anaconda3\\Lib\\site-packages\\sklearn\\neural_network\\_multilayer_perceptron.py:1101: DataConversionWarning: A column-vector y was passed when a 1d array was expected. Please change the shape of y to (n_samples, ), for example using ravel().\n",
      "  y = column_or_1d(y, warn=True)\n",
      "e:\\Anaconda3\\Lib\\site-packages\\sklearn\\neural_network\\_multilayer_perceptron.py:691: ConvergenceWarning: Stochastic Optimizer: Maximum iterations (200) reached and the optimization hasn't converged yet.\n",
      "  warnings.warn(\n",
      "e:\\Anaconda3\\Lib\\site-packages\\sklearn\\neural_network\\_multilayer_perceptron.py:1101: DataConversionWarning: A column-vector y was passed when a 1d array was expected. Please change the shape of y to (n_samples, ), for example using ravel().\n",
      "  y = column_or_1d(y, warn=True)\n",
      "e:\\Anaconda3\\Lib\\site-packages\\sklearn\\neural_network\\_multilayer_perceptron.py:691: ConvergenceWarning: Stochastic Optimizer: Maximum iterations (200) reached and the optimization hasn't converged yet.\n",
      "  warnings.warn(\n",
      "e:\\Anaconda3\\Lib\\site-packages\\sklearn\\neural_network\\_multilayer_perceptron.py:1101: DataConversionWarning: A column-vector y was passed when a 1d array was expected. Please change the shape of y to (n_samples, ), for example using ravel().\n",
      "  y = column_or_1d(y, warn=True)\n",
      "e:\\Anaconda3\\Lib\\site-packages\\sklearn\\neural_network\\_multilayer_perceptron.py:691: ConvergenceWarning: Stochastic Optimizer: Maximum iterations (200) reached and the optimization hasn't converged yet.\n",
      "  warnings.warn(\n",
      "e:\\Anaconda3\\Lib\\site-packages\\sklearn\\neural_network\\_multilayer_perceptron.py:1101: DataConversionWarning: A column-vector y was passed when a 1d array was expected. Please change the shape of y to (n_samples, ), for example using ravel().\n",
      "  y = column_or_1d(y, warn=True)\n",
      "e:\\Anaconda3\\Lib\\site-packages\\sklearn\\neural_network\\_multilayer_perceptron.py:691: ConvergenceWarning: Stochastic Optimizer: Maximum iterations (200) reached and the optimization hasn't converged yet.\n",
      "  warnings.warn(\n",
      "e:\\Anaconda3\\Lib\\site-packages\\sklearn\\neural_network\\_multilayer_perceptron.py:1101: DataConversionWarning: A column-vector y was passed when a 1d array was expected. Please change the shape of y to (n_samples, ), for example using ravel().\n",
      "  y = column_or_1d(y, warn=True)\n"
     ]
    },
    {
     "name": "stdout",
     "output_type": "stream",
     "text": [
      "Cross-Validated Metrics:\n",
      "Accuracy: 0.9733\n",
      "Precision (macro): 0.9786\n",
      "Recall (macro): 0.9733\n",
      "Cross-Validated Error: 0.0267\n"
     ]
    },
    {
     "name": "stderr",
     "output_type": "stream",
     "text": [
      "e:\\Anaconda3\\Lib\\site-packages\\sklearn\\neural_network\\_multilayer_perceptron.py:691: ConvergenceWarning: Stochastic Optimizer: Maximum iterations (200) reached and the optimization hasn't converged yet.\n",
      "  warnings.warn(\n"
     ]
    }
   ],
   "source": [
    "#predict using neural network\n",
    "\n",
    "from sklearn.neural_network import MLPClassifier\n",
    "\n",
    "# Initialize the neural network classifier with default parameters\n",
    "mlp_clf = MLPClassifier(random_state=42, max_iter=200)\n",
    "\n",
    "# Define evaluation metrics\n",
    "scoring = {\n",
    "    'accuracy': make_scorer(accuracy_score),\n",
    "    'precision_macro': make_scorer(precision_score, average='macro'),\n",
    "    'recall_macro': make_scorer(recall_score, average='macro')\n",
    "}\n",
    "\n",
    "# Perform cross-validation with Stratified K-Fold\n",
    "cv = StratifiedKFold(n_splits=5, shuffle=True, random_state=42)\n",
    "cv_results = cross_validate(mlp_clf, X, y, cv=cv, scoring=scoring)\n",
    "\n",
    "# Calculate and print the average error across all folds for each metric\n",
    "print(\"Cross-Validated Metrics:\")\n",
    "print(f\"Accuracy: {np.mean(cv_results['test_accuracy']):.4f}\")\n",
    "print(f\"Precision (macro): {np.mean(cv_results['test_precision_macro']):.4f}\")\n",
    "print(f\"Recall (macro): {np.mean(cv_results['test_recall_macro']):.4f}\")\n",
    "\n",
    "\n",
    "# Compute cross-validated error as 1 - average accuracy\n",
    "cross_validated_error = 1 - np.mean(cv_results['test_accuracy'])\n",
    "print(f\"Cross-Validated Error: {cross_validated_error:.4f}\")"
   ]
  },
  {
   "cell_type": "markdown",
   "metadata": {},
   "source": [
    "<font size = \"5\">\n",
    "\n",
    "Then, I practice the <strong> ridge method </strong>  to do the machine learning, which invests more consideration into cases where independent variables are highly correlated. "
   ]
  },
  {
   "cell_type": "code",
   "execution_count": null,
   "metadata": {},
   "outputs": [
    {
     "name": "stderr",
     "output_type": "stream",
     "text": [
      "e:\\Anaconda3\\Lib\\site-packages\\sklearn\\linear_model\\_ridge.py:1223: DataConversionWarning: A column-vector y was passed when a 1d array was expected. Please change the shape of y to (n_samples, ), for example using ravel().\n",
      "  y = column_or_1d(y, warn=True)\n",
      "e:\\Anaconda3\\Lib\\site-packages\\sklearn\\linear_model\\_ridge.py:1223: DataConversionWarning: A column-vector y was passed when a 1d array was expected. Please change the shape of y to (n_samples, ), for example using ravel().\n",
      "  y = column_or_1d(y, warn=True)\n",
      "e:\\Anaconda3\\Lib\\site-packages\\sklearn\\linear_model\\_ridge.py:1223: DataConversionWarning: A column-vector y was passed when a 1d array was expected. Please change the shape of y to (n_samples, ), for example using ravel().\n",
      "  y = column_or_1d(y, warn=True)\n",
      "e:\\Anaconda3\\Lib\\site-packages\\sklearn\\linear_model\\_ridge.py:1223: DataConversionWarning: A column-vector y was passed when a 1d array was expected. Please change the shape of y to (n_samples, ), for example using ravel().\n",
      "  y = column_or_1d(y, warn=True)\n",
      "e:\\Anaconda3\\Lib\\site-packages\\sklearn\\linear_model\\_ridge.py:1223: DataConversionWarning: A column-vector y was passed when a 1d array was expected. Please change the shape of y to (n_samples, ), for example using ravel().\n",
      "  y = column_or_1d(y, warn=True)\n",
      "e:\\Anaconda3\\Lib\\site-packages\\sklearn\\linear_model\\_ridge.py:1223: DataConversionWarning: A column-vector y was passed when a 1d array was expected. Please change the shape of y to (n_samples, ), for example using ravel().\n",
      "  y = column_or_1d(y, warn=True)\n",
      "e:\\Anaconda3\\Lib\\site-packages\\sklearn\\linear_model\\_ridge.py:1223: DataConversionWarning: A column-vector y was passed when a 1d array was expected. Please change the shape of y to (n_samples, ), for example using ravel().\n",
      "  y = column_or_1d(y, warn=True)\n",
      "e:\\Anaconda3\\Lib\\site-packages\\sklearn\\linear_model\\_ridge.py:1223: DataConversionWarning: A column-vector y was passed when a 1d array was expected. Please change the shape of y to (n_samples, ), for example using ravel().\n",
      "  y = column_or_1d(y, warn=True)\n",
      "e:\\Anaconda3\\Lib\\site-packages\\sklearn\\linear_model\\_ridge.py:1223: DataConversionWarning: A column-vector y was passed when a 1d array was expected. Please change the shape of y to (n_samples, ), for example using ravel().\n",
      "  y = column_or_1d(y, warn=True)\n",
      "e:\\Anaconda3\\Lib\\site-packages\\sklearn\\linear_model\\_ridge.py:1223: DataConversionWarning: A column-vector y was passed when a 1d array was expected. Please change the shape of y to (n_samples, ), for example using ravel().\n",
      "  y = column_or_1d(y, warn=True)\n",
      "e:\\Anaconda3\\Lib\\site-packages\\sklearn\\linear_model\\_ridge.py:1223: DataConversionWarning: A column-vector y was passed when a 1d array was expected. Please change the shape of y to (n_samples, ), for example using ravel().\n",
      "  y = column_or_1d(y, warn=True)\n",
      "e:\\Anaconda3\\Lib\\site-packages\\sklearn\\linear_model\\_ridge.py:1223: DataConversionWarning: A column-vector y was passed when a 1d array was expected. Please change the shape of y to (n_samples, ), for example using ravel().\n",
      "  y = column_or_1d(y, warn=True)\n",
      "e:\\Anaconda3\\Lib\\site-packages\\sklearn\\linear_model\\_ridge.py:1223: DataConversionWarning: A column-vector y was passed when a 1d array was expected. Please change the shape of y to (n_samples, ), for example using ravel().\n",
      "  y = column_or_1d(y, warn=True)\n",
      "e:\\Anaconda3\\Lib\\site-packages\\sklearn\\linear_model\\_ridge.py:1223: DataConversionWarning: A column-vector y was passed when a 1d array was expected. Please change the shape of y to (n_samples, ), for example using ravel().\n",
      "  y = column_or_1d(y, warn=True)\n",
      "e:\\Anaconda3\\Lib\\site-packages\\sklearn\\linear_model\\_ridge.py:1223: DataConversionWarning: A column-vector y was passed when a 1d array was expected. Please change the shape of y to (n_samples, ), for example using ravel().\n",
      "  y = column_or_1d(y, warn=True)\n",
      "e:\\Anaconda3\\Lib\\site-packages\\sklearn\\linear_model\\_ridge.py:1223: DataConversionWarning: A column-vector y was passed when a 1d array was expected. Please change the shape of y to (n_samples, ), for example using ravel().\n",
      "  y = column_or_1d(y, warn=True)\n",
      "e:\\Anaconda3\\Lib\\site-packages\\sklearn\\linear_model\\_ridge.py:1223: DataConversionWarning: A column-vector y was passed when a 1d array was expected. Please change the shape of y to (n_samples, ), for example using ravel().\n",
      "  y = column_or_1d(y, warn=True)\n",
      "e:\\Anaconda3\\Lib\\site-packages\\sklearn\\linear_model\\_ridge.py:1223: DataConversionWarning: A column-vector y was passed when a 1d array was expected. Please change the shape of y to (n_samples, ), for example using ravel().\n",
      "  y = column_or_1d(y, warn=True)\n",
      "e:\\Anaconda3\\Lib\\site-packages\\sklearn\\linear_model\\_ridge.py:1223: DataConversionWarning: A column-vector y was passed when a 1d array was expected. Please change the shape of y to (n_samples, ), for example using ravel().\n",
      "  y = column_or_1d(y, warn=True)\n",
      "e:\\Anaconda3\\Lib\\site-packages\\sklearn\\linear_model\\_ridge.py:1223: DataConversionWarning: A column-vector y was passed when a 1d array was expected. Please change the shape of y to (n_samples, ), for example using ravel().\n",
      "  y = column_or_1d(y, warn=True)\n",
      "e:\\Anaconda3\\Lib\\site-packages\\sklearn\\linear_model\\_ridge.py:1223: DataConversionWarning: A column-vector y was passed when a 1d array was expected. Please change the shape of y to (n_samples, ), for example using ravel().\n",
      "  y = column_or_1d(y, warn=True)\n",
      "e:\\Anaconda3\\Lib\\site-packages\\sklearn\\linear_model\\_ridge.py:1223: DataConversionWarning: A column-vector y was passed when a 1d array was expected. Please change the shape of y to (n_samples, ), for example using ravel().\n",
      "  y = column_or_1d(y, warn=True)\n",
      "e:\\Anaconda3\\Lib\\site-packages\\sklearn\\linear_model\\_ridge.py:1223: DataConversionWarning: A column-vector y was passed when a 1d array was expected. Please change the shape of y to (n_samples, ), for example using ravel().\n",
      "  y = column_or_1d(y, warn=True)\n",
      "e:\\Anaconda3\\Lib\\site-packages\\sklearn\\metrics\\_classification.py:1509: UndefinedMetricWarning: Precision is ill-defined and being set to 0.0 in labels with no predicted samples. Use `zero_division` parameter to control this behavior.\n",
      "  _warn_prf(average, modifier, f\"{metric.capitalize()} is\", len(result))\n",
      "e:\\Anaconda3\\Lib\\site-packages\\sklearn\\linear_model\\_ridge.py:1223: DataConversionWarning: A column-vector y was passed when a 1d array was expected. Please change the shape of y to (n_samples, ), for example using ravel().\n",
      "  y = column_or_1d(y, warn=True)\n",
      "e:\\Anaconda3\\Lib\\site-packages\\sklearn\\linear_model\\_ridge.py:1223: DataConversionWarning: A column-vector y was passed when a 1d array was expected. Please change the shape of y to (n_samples, ), for example using ravel().\n",
      "  y = column_or_1d(y, warn=True)\n",
      "e:\\Anaconda3\\Lib\\site-packages\\sklearn\\linear_model\\_ridge.py:1223: DataConversionWarning: A column-vector y was passed when a 1d array was expected. Please change the shape of y to (n_samples, ), for example using ravel().\n",
      "  y = column_or_1d(y, warn=True)\n"
     ]
    },
    {
     "name": "stdout",
     "output_type": "stream",
     "text": [
      "Best alpha parameter: 10\n",
      "Best Cross-Validated Accuracy: 0.8333\n",
      "\n",
      "Cross-Validated Metrics for each Alpha:\n",
      "  Alpha  Accuracy  Precision (macro)  Recall (macro)\n",
      "0  0.01  0.806667           0.818005        0.806667\n",
      "1   0.1  0.806667           0.818005        0.806667\n",
      "2     1  0.833333           0.848818        0.833333\n",
      "3    10  0.833333           0.869841        0.833333\n",
      "4   100  0.753333           0.769437        0.753333\n",
      "Cross-Validated Error: 0.1667\n"
     ]
    }
   ],
   "source": [
    "from sklearn.linear_model import RidgeClassifier\n",
    "from sklearn.model_selection import GridSearchCV, StratifiedKFold\n",
    "\n",
    "\n",
    "# Define the Ridge Classifier with a grid of alpha values to tune\n",
    "ridge_clf = RidgeClassifier()\n",
    "param_grid = {'alpha': [0.01, 0.1, 1, 10, 100]}  # Grid of alpha values to search\n",
    "\n",
    "# Define evaluation metrics\n",
    "scoring = {\n",
    "    'accuracy': make_scorer(accuracy_score),\n",
    "    'precision_macro': make_scorer(precision_score, average='macro'),\n",
    "    'recall_macro': make_scorer(recall_score, average='macro')\n",
    "}\n",
    "\n",
    "# Perform grid search with cross-validation\n",
    "cv = StratifiedKFold(n_splits=5, shuffle=True, random_state=42)\n",
    "grid_search = GridSearchCV(estimator=ridge_clf, param_grid=param_grid, scoring=scoring, refit='accuracy', cv=cv, return_train_score=True)\n",
    "\n",
    "# Fit the model\n",
    "grid_search.fit(X, y)\n",
    "\n",
    "# Extract the best model and corresponding metrics\n",
    "best_model = grid_search.best_estimator_\n",
    "best_alpha = grid_search.best_params_['alpha']\n",
    "best_score = grid_search.best_score_\n",
    "\n",
    "# Print the best parameters and best accuracy score\n",
    "print(f\"Best alpha parameter: {best_alpha}\")\n",
    "print(f\"Best Cross-Validated Accuracy: {best_score:.4f}\")  # the alpha parameter that performs relatively good is 10 \n",
    "\n",
    "# Retrieve cross-validated results for all metrics\n",
    "results = pd.DataFrame(grid_search.cv_results_)\n",
    "metrics_table = results[['param_alpha', 'mean_test_accuracy', 'mean_test_precision_macro', 'mean_test_recall_macro']]\n",
    "metrics_table = metrics_table.rename(columns={\n",
    "    'param_alpha': 'Alpha',\n",
    "    'mean_test_accuracy': 'Accuracy',\n",
    "    'mean_test_precision_macro': 'Precision (macro)',\n",
    "    'mean_test_recall_macro': 'Recall (macro)'\n",
    "})\n",
    "\n",
    "# Display the table of metrics for each alpha\n",
    "print(\"\\nCross-Validated Metrics for each Alpha:\")\n",
    "print(metrics_table)\n",
    "\n",
    "# Calculate and print cross-validated error for the best model\n",
    "cross_validated_error = 1 - best_score\n",
    "print(f\"Cross-Validated Error: {cross_validated_error:.4f}\")   # the cross-validated error for the best model is 0.167 "
   ]
  },
  {
   "cell_type": "markdown",
   "metadata": {},
   "source": [
    "<font size = \"5\">\n",
    "\n",
    "<strong> Different methods have different advantages regarding predicting the data. If we choose accuracy as one criteria we specifically care about, the neural network approach could be proper because it has the best performance in this case. </strong>"
   ]
  }
 ],
 "metadata": {
  "kernelspec": {
   "display_name": "base",
   "language": "python",
   "name": "python3"
  },
  "language_info": {
   "codemirror_mode": {
    "name": "ipython",
    "version": 3
   },
   "file_extension": ".py",
   "mimetype": "text/x-python",
   "name": "python",
   "nbconvert_exporter": "python",
   "pygments_lexer": "ipython3",
   "version": "3.12.3"
  }
 },
 "nbformat": 4,
 "nbformat_minor": 2
}
